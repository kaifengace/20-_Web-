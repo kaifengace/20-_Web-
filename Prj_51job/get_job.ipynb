{
 "cells": [
  {
   "cell_type": "code",
   "execution_count": 4,
   "metadata": {},
   "outputs": [],
   "source": [
    "import requests\n",
    "import pandas as pd\n",
    "from pprint import pprint\n",
    "from lxml import etree\n",
    "import time\n",
    "import re\n",
    "import warnings\n",
    "warnings.filterwarnings(\"ignore\")"
   ]
  },
  {
   "cell_type": "markdown",
   "metadata": {},
   "source": [
    " # 爬取数据"
   ]
  },
  {
   "cell_type": "markdown",
   "metadata": {},
   "source": [
    "## 爬1-100页"
   ]
  },
  {
   "cell_type": "code",
   "execution_count": 5,
   "metadata": {
    "scrolled": true
   },
   "outputs": [
    {
     "name": "stdout",
     "output_type": "stream",
     "text": [
      "正在爬取第1页的数据\n",
      "正在爬取第2页的数据\n",
      "正在爬取第3页的数据\n",
      "正在爬取第4页的数据\n",
      "正在爬取第5页的数据\n",
      "正在爬取第6页的数据\n",
      "正在爬取第7页的数据\n",
      "正在爬取第8页的数据\n",
      "正在爬取第9页的数据\n",
      "正在爬取第10页的数据\n",
      "正在爬取第11页的数据\n",
      "当页数据写入失败\n",
      "正在爬取第12页的数据\n",
      "正在爬取第13页的数据\n",
      "正在爬取第14页的数据\n",
      "正在爬取第15页的数据\n",
      "正在爬取第16页的数据\n",
      "正在爬取第17页的数据\n",
      "正在爬取第18页的数据\n",
      "正在爬取第19页的数据\n",
      "正在爬取第20页的数据\n",
      "正在爬取第21页的数据\n",
      "正在爬取第22页的数据\n",
      "正在爬取第23页的数据\n",
      "正在爬取第24页的数据\n",
      "正在爬取第25页的数据\n",
      "正在爬取第26页的数据\n",
      "正在爬取第27页的数据\n",
      "正在爬取第28页的数据\n",
      "正在爬取第29页的数据\n",
      "正在爬取第30页的数据\n",
      "正在爬取第31页的数据\n",
      "正在爬取第32页的数据\n",
      "正在爬取第33页的数据\n",
      "正在爬取第34页的数据\n",
      "正在爬取第35页的数据\n",
      "正在爬取第36页的数据\n",
      "正在爬取第37页的数据\n",
      "当页数据写入失败\n",
      "正在爬取第38页的数据\n",
      "正在爬取第39页的数据\n",
      "当页数据写入失败\n",
      "正在爬取第40页的数据\n",
      "正在爬取第41页的数据\n",
      "正在爬取第42页的数据\n",
      "正在爬取第43页的数据\n",
      "正在爬取第44页的数据\n",
      "正在爬取第45页的数据\n",
      "正在爬取第46页的数据\n",
      "正在爬取第47页的数据\n",
      "正在爬取第48页的数据\n",
      "正在爬取第49页的数据\n",
      "正在爬取第50页的数据\n",
      "正在爬取第51页的数据\n",
      "正在爬取第52页的数据\n",
      "正在爬取第53页的数据\n",
      "正在爬取第54页的数据\n",
      "正在爬取第55页的数据\n",
      "正在爬取第56页的数据\n",
      "正在爬取第57页的数据\n",
      "当页数据写入失败\n",
      "正在爬取第58页的数据\n",
      "正在爬取第59页的数据\n",
      "正在爬取第60页的数据\n",
      "正在爬取第61页的数据\n",
      "正在爬取第62页的数据\n",
      "正在爬取第63页的数据\n",
      "正在爬取第64页的数据\n",
      "正在爬取第65页的数据\n",
      "正在爬取第66页的数据\n",
      "正在爬取第67页的数据\n",
      "正在爬取第68页的数据\n",
      "正在爬取第69页的数据\n",
      "正在爬取第70页的数据\n",
      "正在爬取第71页的数据\n",
      "正在爬取第72页的数据\n",
      "正在爬取第73页的数据\n",
      "正在爬取第74页的数据\n",
      "正在爬取第75页的数据\n",
      "正在爬取第76页的数据\n",
      "正在爬取第77页的数据\n",
      "正在爬取第78页的数据\n",
      "正在爬取第79页的数据\n",
      "正在爬取第80页的数据\n",
      "正在爬取第81页的数据\n",
      "正在爬取第82页的数据\n",
      "正在爬取第83页的数据\n",
      "正在爬取第84页的数据\n",
      "正在爬取第85页的数据\n",
      "正在爬取第86页的数据\n",
      "正在爬取第87页的数据\n",
      "正在爬取第88页的数据\n",
      "正在爬取第89页的数据\n",
      "正在爬取第90页的数据\n",
      "正在爬取第91页的数据\n",
      "正在爬取第92页的数据\n",
      "正在爬取第93页的数据\n",
      "正在爬取第94页的数据\n",
      "正在爬取第95页的数据\n",
      "正在爬取第96页的数据\n",
      "正在爬取第97页的数据\n",
      "正在爬取第98页的数据\n",
      "正在爬取第99页的数据\n",
      "终于爬完了累死了555555\n"
     ]
    }
   ],
   "source": [
    "# 爬取1-100页\n",
    "for i in range(1,100):\n",
    "    print(\"正在爬取第\" + str(i) + \"页的数据\")\n",
    "    url_pre = \"https://search.51job.com/list/030200,000000,0000,00,9,99,%25E6%2595%25B0%25E6%258D%25AE,2,\"\n",
    "    url_end = \".html?\"\n",
    "    url = url_pre + str(i) + url_end\n",
    "    \n",
    "    headers = {\n",
    "        'User-Agent': 'Mozilla/5.0 (Windows NT 10.0; Win64; x64) AppleWebKit/537.36 (KHTML, like Gecko) Chrome/73.0.3683.86 Safari/537.36'\n",
    "    }\n",
    "    \n",
    "    web = requests.get(url, headers=headers)\n",
    "    web.encoding = \"gbk\"\n",
    "    \n",
    "    dom = etree.HTML(web.text)\n",
    "    \n",
    "    # XPATH上线\n",
    "    # 1、岗位名称\n",
    "    job_name = dom.xpath('//div[@class=\"dw_table\"]/div[@class=\"el\"]//p/span/a[@target=\"_blank\"]/@title')\n",
    "    # 2、公司名称\n",
    "    company_name = dom.xpath('//div[@class=\"dw_table\"]/div[@class=\"el\"]/span[@class=\"t2\"]/a[@target=\"_blank\"]/@title')\n",
    "    # 3、工作地点\n",
    "    address = dom.xpath('//div[@class=\"dw_table\"]/div[@class=\"el\"]/span[@class=\"t3\"]/text()')\n",
    "    # 4、工资\n",
    "    salary_mid = dom.xpath('//div[@class=\"dw_table\"]/div[@class=\"el\"]/span[@class=\"t4\"]')\n",
    "    salary = [i.text for i in salary_mid]\n",
    "    # 5、发布日期\n",
    "    release_time = dom.xpath('//div[@class=\"dw_table\"]/div[@class=\"el\"]/span[@class=\"t5\"]/text()')\n",
    "    # 6、获取二级网址url\n",
    "    deep_url = dom.xpath('//div[@class=\"dw_table\"]/div[@class=\"el\"]//p/span/a[@target=\"_blank\"]/@href')\n",
    "    \n",
    "    # 创建列表\n",
    "    RandomAll = []\n",
    "    JobDescribe = []\n",
    "    CompanyType = []\n",
    "    CompanySize = []\n",
    "    Industry = []\n",
    "    \n",
    "    # 进入详细页（6中取得的二级网址）爬取更多信息\n",
    "    for i in range(len(deep_url)):\n",
    "        web_test = requests.get(deep_url[i], headers=headers)\n",
    "        web_test.encoding = \"gbk\"\n",
    "        dom_test = etree.HTML(web_test.text)\n",
    "        \n",
    "        # 7、爬取经验、学历信息，先合在一个字段里面，以后再做数据清洗。命名为random_all\n",
    "        random_all = dom_test.xpath('//div[@class=\"tHeader tHjob\"]//div[@class=\"cn\"]/p[@class=\"msg ltype\"]/text()')\n",
    "        # 8、岗位描述性息\n",
    "        job_describe = dom_test.xpath('//div[@class=\"tBorderTop_box\"]//div[@class=\"bmsg job_msg inbox\"]/p/text()')\n",
    "        # 9、公司类型\n",
    "        company_type = dom_test.xpath('//div[@class=\"tCompany_sidebar\"]//div[@class=\"com_tag\"]/p[1]/@title')\n",
    "        # 10、公司规模(人数)\n",
    "        company_size = dom_test.xpath('//div[@class=\"tCompany_sidebar\"]//div[@class=\"com_tag\"]/p[2]/@title')\n",
    "        # 11、所属行业(公司)\n",
    "        industry = dom_test.xpath('//div[@class=\"tCompany_sidebar\"]//div[@class=\"com_tag\"]/p[3]/@title')\n",
    "        \n",
    "        # 将上述信息保存到各自的列表中\n",
    "        RandomAll.append(random_all)\n",
    "        JobDescribe.append(job_describe)\n",
    "        CompanyType.append(company_type)\n",
    "        CompanySize.append(company_size)\n",
    "        Industry.append(industry)\n",
    "        \n",
    "        # 为了反爬，设置睡眠时间\n",
    "        time.sleep(0.5)\n",
    "        \n",
    "    # 每页都要暂存，防止中途发生错误数据丢失\n",
    "    df = pd.DataFrame()\n",
    "    df[\"岗位名称\"] = job_name\n",
    "    df[\"公司名称\"] = company_name\n",
    "    df[\"工作地点\"] = address\n",
    "    df[\"工资\"] = salary\n",
    "    df[\"发布日期\"] = release_time\n",
    "    df[\"经验、学历\"] = RandomAll\n",
    "    df[\"公司类型\"] = CompanyType\n",
    "    df[\"公司规模\"] = CompanySize\n",
    "    df[\"所属行业\"] = Industry\n",
    "    df[\"岗位描述\"] = JobDescribe\n",
    "    \n",
    "    # 这里在写出过程中，有可能会写入失败，为了解决这个问题，我们使用异常处理。\n",
    "    try:\n",
    "        df.to_csv(\"job_info.csv\", mode=\"a+\", header=None, index=None, encoding=\"gbk\")\n",
    "    except:\n",
    "        print(\"当页数据写入失败\")\n",
    "    time.sleep(1)\n",
    "    \n",
    "print(\"终于爬完了累死了555555\")"
   ]
  },
  {
   "cell_type": "markdown",
   "metadata": {
    "heading_collapsed": true
   },
   "source": [
    "## 数据存储"
   ]
  },
  {
   "cell_type": "code",
   "execution_count": 5,
   "metadata": {
    "hidden": true
   },
   "outputs": [],
   "source": [
    "# 数据处理\n",
    "\n",
    "df = pd.read_csv(r\"./job_info.csv\",engine=\"python\",header=None,encoding='gbk')\n",
    "# 为数据框指定行索引\n",
    "df.index = range(len(df))\n",
    "# 为数据框指定列索引\n",
    "df.columns = [\"岗位名\",\"公司名\",\"工作地点\",\"工资\",\"发布日期\",\"经验与学历\",\"公司类型\",\"公司规模\",\"行业\",\"工作描述\"]"
   ]
  },
  {
   "cell_type": "code",
   "execution_count": 6,
   "metadata": {
    "hidden": true,
    "scrolled": true
   },
   "outputs": [
    {
     "data": {
      "text/html": [
       "<div>\n",
       "<style scoped>\n",
       "    .dataframe tbody tr th:only-of-type {\n",
       "        vertical-align: middle;\n",
       "    }\n",
       "\n",
       "    .dataframe tbody tr th {\n",
       "        vertical-align: top;\n",
       "    }\n",
       "\n",
       "    .dataframe thead th {\n",
       "        text-align: right;\n",
       "    }\n",
       "</style>\n",
       "<table border=\"1\" class=\"dataframe\">\n",
       "  <thead>\n",
       "    <tr style=\"text-align: right;\">\n",
       "      <th></th>\n",
       "      <th>岗位名</th>\n",
       "      <th>公司名</th>\n",
       "      <th>工作地点</th>\n",
       "      <th>工资</th>\n",
       "      <th>发布日期</th>\n",
       "      <th>经验与学历</th>\n",
       "      <th>公司类型</th>\n",
       "      <th>公司规模</th>\n",
       "      <th>行业</th>\n",
       "      <th>工作描述</th>\n",
       "    </tr>\n",
       "  </thead>\n",
       "  <tbody>\n",
       "    <tr>\n",
       "      <th>0</th>\n",
       "      <td>数据库工程师</td>\n",
       "      <td>综合平台开发运营中心</td>\n",
       "      <td>广州</td>\n",
       "      <td>NaN</td>\n",
       "      <td>07-15</td>\n",
       "      <td>['广州\\xa0\\xa0', '\\xa0\\xa0硕士\\xa0\\xa0', '\\xa0\\xa0...</td>\n",
       "      <td>['国企']</td>\n",
       "      <td>['']</td>\n",
       "      <td>['通信/电信运营、增值服务']</td>\n",
       "      <td>['1、负责数据库的日常施工支撑和性能优化工作；', '2、负责公司产品线的大型分布式数据库...</td>\n",
       "    </tr>\n",
       "    <tr>\n",
       "      <th>1</th>\n",
       "      <td>大数据开发</td>\n",
       "      <td>联通（广东）产业互联网有限公司</td>\n",
       "      <td>广州</td>\n",
       "      <td>NaN</td>\n",
       "      <td>07-15</td>\n",
       "      <td>['广州\\xa0\\xa0', '\\xa0\\xa0本科\\xa0\\xa0', '\\xa0\\xa0...</td>\n",
       "      <td>['国企']</td>\n",
       "      <td>['']</td>\n",
       "      <td>['通信/电信运营、增值服务']</td>\n",
       "      <td>['职位描述：', '以下职位方向可选其一：', '1.负责大数据平台及产品的研发工作；',...</td>\n",
       "    </tr>\n",
       "    <tr>\n",
       "      <th>2</th>\n",
       "      <td>23元/时  数据线质检  无需经验</td>\n",
       "      <td>广州遂昌电子科技有限公司</td>\n",
       "      <td>广州-黄埔区</td>\n",
       "      <td>6-8千/月</td>\n",
       "      <td>07-15</td>\n",
       "      <td>['广州-黄埔区\\xa0\\xa0', '\\xa0\\xa0无需经验\\xa0\\xa0', '\\x...</td>\n",
       "      <td>['民营公司']</td>\n",
       "      <td>['500-1000人']</td>\n",
       "      <td>['电子技术/半导体/集成电路,通信/电信/网络设备']</td>\n",
       "      <td>['本公司主要生产较新上市的手机和电脑配件', '穿普通工衣上班，做事轻松，不是流水线，全部...</td>\n",
       "    </tr>\n",
       "    <tr>\n",
       "      <th>3</th>\n",
       "      <td>数据线质检员 22元一小时</td>\n",
       "      <td>广州遂昌电子科技有限公司</td>\n",
       "      <td>广州-黄埔区</td>\n",
       "      <td>6-8千/月</td>\n",
       "      <td>07-15</td>\n",
       "      <td>['广州-黄埔区\\xa0\\xa0', '\\xa0\\xa0无需经验\\xa0\\xa0', '\\x...</td>\n",
       "      <td>['民营公司']</td>\n",
       "      <td>['500-1000人']</td>\n",
       "      <td>['电子技术/半导体/集成电路,机械/设备/重工']</td>\n",
       "      <td>['无需面试，暑假工，社会工都可以做', '直接到厂面试！！！', '因新开产线，需要大量补...</td>\n",
       "    </tr>\n",
       "    <tr>\n",
       "      <th>4</th>\n",
       "      <td>高级数据分析师</td>\n",
       "      <td>唯品会（中国）有限公司</td>\n",
       "      <td>广州-荔湾区</td>\n",
       "      <td>1.5-3万/月</td>\n",
       "      <td>07-15</td>\n",
       "      <td>['广州-荔湾区\\xa0\\xa0', '\\xa0\\xa05-7年经验\\xa0\\xa0', '...</td>\n",
       "      <td>['上市公司']</td>\n",
       "      <td>['10000人以上']</td>\n",
       "      <td>['互联网/电子商务']</td>\n",
       "      <td>['职位描述:', '1、\\xa0配合业务发展与规划，对各部门进行数据需求支持，挖掘分析主题...</td>\n",
       "    </tr>\n",
       "  </tbody>\n",
       "</table>\n",
       "</div>"
      ],
      "text/plain": [
       "                  岗位名              公司名    工作地点        工资   发布日期  \\\n",
       "0              数据库工程师       综合平台开发运营中心      广州       NaN  07-15   \n",
       "1               大数据开发  联通（广东）产业互联网有限公司      广州       NaN  07-15   \n",
       "2  23元/时  数据线质检  无需经验     广州遂昌电子科技有限公司  广州-黄埔区    6-8千/月  07-15   \n",
       "3       数据线质检员 22元一小时     广州遂昌电子科技有限公司  广州-黄埔区    6-8千/月  07-15   \n",
       "4             高级数据分析师      唯品会（中国）有限公司  广州-荔湾区  1.5-3万/月  07-15   \n",
       "\n",
       "                                               经验与学历      公司类型           公司规模  \\\n",
       "0  ['广州\\xa0\\xa0', '\\xa0\\xa0硕士\\xa0\\xa0', '\\xa0\\xa0...    ['国企']           ['']   \n",
       "1  ['广州\\xa0\\xa0', '\\xa0\\xa0本科\\xa0\\xa0', '\\xa0\\xa0...    ['国企']           ['']   \n",
       "2  ['广州-黄埔区\\xa0\\xa0', '\\xa0\\xa0无需经验\\xa0\\xa0', '\\x...  ['民营公司']  ['500-1000人']   \n",
       "3  ['广州-黄埔区\\xa0\\xa0', '\\xa0\\xa0无需经验\\xa0\\xa0', '\\x...  ['民营公司']  ['500-1000人']   \n",
       "4  ['广州-荔湾区\\xa0\\xa0', '\\xa0\\xa05-7年经验\\xa0\\xa0', '...  ['上市公司']   ['10000人以上']   \n",
       "\n",
       "                             行业  \\\n",
       "0              ['通信/电信运营、增值服务']   \n",
       "1              ['通信/电信运营、增值服务']   \n",
       "2  ['电子技术/半导体/集成电路,通信/电信/网络设备']   \n",
       "3    ['电子技术/半导体/集成电路,机械/设备/重工']   \n",
       "4                  ['互联网/电子商务']   \n",
       "\n",
       "                                                工作描述  \n",
       "0  ['1、负责数据库的日常施工支撑和性能优化工作；', '2、负责公司产品线的大型分布式数据库...  \n",
       "1  ['职位描述：', '以下职位方向可选其一：', '1.负责大数据平台及产品的研发工作；',...  \n",
       "2  ['本公司主要生产较新上市的手机和电脑配件', '穿普通工衣上班，做事轻松，不是流水线，全部...  \n",
       "3  ['无需面试，暑假工，社会工都可以做', '直接到厂面试！！！', '因新开产线，需要大量补...  \n",
       "4  ['职位描述:', '1、\\xa0配合业务发展与规划，对各部门进行数据需求支持，挖掘分析主题...  "
      ]
     },
     "execution_count": 6,
     "metadata": {},
     "output_type": "execute_result"
    }
   ],
   "source": [
    "# 让我看看\n",
    "df.head()"
   ]
  },
  {
   "cell_type": "markdown",
   "metadata": {
    "heading_collapsed": true
   },
   "source": [
    "# 数据处理"
   ]
  },
  {
   "cell_type": "markdown",
   "metadata": {
    "heading_collapsed": true,
    "hidden": true
   },
   "source": [
    "## 岗位名处理（去重）"
   ]
  },
  {
   "cell_type": "code",
   "execution_count": 7,
   "metadata": {
    "hidden": true
   },
   "outputs": [
    {
     "name": "stdout",
     "output_type": "stream",
     "text": [
      "去重之前的记录数 (5849, 10)\n",
      "去重之后的记录数 (4638, 10)\n"
     ]
    }
   ],
   "source": [
    "# 去重之前的记录数\n",
    "print(\"去重之前的记录数\",df.shape)\n",
    "# 记录去重\n",
    "df.drop_duplicates(subset=[\"公司名\",\"岗位名\"],inplace=True)\n",
    "# 去重之后的记录数\n",
    "print(\"去重之后的记录数\",df.shape)"
   ]
  },
  {
   "cell_type": "code",
   "execution_count": 8,
   "metadata": {
    "hidden": true
   },
   "outputs": [
    {
     "data": {
      "text/plain": [
       "数据分析师            92\n",
       "大数据开发工程师         51\n",
       "数据专员             44\n",
       "仓库管理员            38\n",
       "数据文员             28\n",
       "                 ..\n",
       "Python数据开发工程师     1\n",
       "主播经纪人/主播运营        1\n",
       "新媒体文案运营主管         1\n",
       "电商采购              1\n",
       "高级产品管理开发专员        1\n",
       "Name: 岗位名, Length: 3217, dtype: int64"
      ]
     },
     "metadata": {},
     "output_type": "display_data"
    }
   ],
   "source": [
    "# 岗位名筛选（还有带英文名的进行统一）\n",
    "\n",
    "display(df[\"岗位名\"].value_counts())\n",
    "\n",
    "df[\"岗位名\"] = df[\"岗位名\"].apply(lambda x:x.lower())"
   ]
  },
  {
   "cell_type": "code",
   "execution_count": 9,
   "metadata": {
    "hidden": true
   },
   "outputs": [
    {
     "data": {
      "text/plain": [
       "(2509, 10)"
      ]
     },
     "execution_count": 9,
     "metadata": {},
     "output_type": "execute_result"
    }
   ],
   "source": [
    "# 岗位筛选分析\n",
    "import numpy as np\n",
    "\n",
    "# job_info.shape\n",
    "\n",
    "target_job = ['算法', '开发', '分析', '工程师', '数据', '运营', '运维','产品']\n",
    "index = [df[\"岗位名\"].str.count(i) for i in target_job]\n",
    "index = np.array(index).sum(axis=0) > 0\n",
    "job_info = df[index]\n",
    "job_info.shape"
   ]
  },
  {
   "cell_type": "code",
   "execution_count": 10,
   "metadata": {
    "hidden": true
   },
   "outputs": [],
   "source": [
    "job_list = ['数据分析', \"数据统计\",\"数据专员\",'数据挖掘', '算法',\n",
    "            '大数据','开发工程师', '运营', '软件工程', '前端开发',\n",
    "            '深度学习', 'ai', '数据库', '数据库', '数据产品',\n",
    "            '客服', 'java', '.net', 'andrio', '人工智能', 'c++',\n",
    "            '数据管理',\"测试\",\"运维\"]\n",
    "job_list = np.array(job_list)\n",
    "def rename(x=None,job_list=job_list):\n",
    "    index = [i in x for i in job_list]\n",
    "    if sum(index) > 0:\n",
    "        return job_list[index][0]\n",
    "    else:\n",
    "        return x\n",
    "job_info[\"岗位名\"] = job_info[\"岗位名\"].apply(rename)\n",
    "job_info[\"岗位名\"].value_counts()\n",
    "# 数据统计、数据专员、数据分析统一归为数据分析\n",
    "job_info[\"岗位名\"] = job_info[\"岗位名\"].apply(lambda x:re.sub(\"数据专员\",\"数据分析\",x))\n",
    "job_info[\"岗位名\"] = job_info[\"岗位名\"].apply(lambda x:re.sub(\"数据统计\",\"数据分析\",x))"
   ]
  },
  {
   "cell_type": "markdown",
   "metadata": {
    "hidden": true
   },
   "source": [
    "## 工资处理"
   ]
  },
  {
   "cell_type": "code",
   "execution_count": 11,
   "metadata": {
    "hidden": true
   },
   "outputs": [],
   "source": [
    "job_info[\"工资\"].str[-1].value_counts()\n",
    "job_info[\"工资\"].str[-3].value_counts()\n",
    "\n",
    "index1 = job_info[\"工资\"].str[-1].isin([\"年\",\"月\"])\n",
    "index2 = job_info[\"工资\"].str[-3].isin([\"万\",\"千\"])\n",
    "job_info = job_info[index1 & index2]\n",
    "\n",
    "def get_money_max_min(x):\n",
    "    try:\n",
    "        if x[-3] == \"万\":\n",
    "            z = [float(i)*10000 for i in re.findall(\"[0-9]+\\.?[0-9]*\",x)]\n",
    "        elif x[-3] == \"千\":\n",
    "            z = [float(i) * 1000 for i in re.findall(\"[0-9]+\\.?[0-9]*\", x)]\n",
    "        if x[-1] == \"年\":\n",
    "            z = [i/12 for i in z]\n",
    "        return z\n",
    "    except:\n",
    "        return x\n",
    "\n",
    "salary = job_info[\"工资\"].apply(get_money_max_min)\n",
    "job_info[\"最低工资\"] = salary.str[0]\n",
    "job_info[\"最高工资\"] = salary.str[1]\n",
    "job_info[\"工资水平\"] = job_info[[\"最低工资\",\"最高工资\"]].mean(axis=1)"
   ]
  },
  {
   "cell_type": "markdown",
   "metadata": {
    "hidden": true
   },
   "source": [
    "## 公司类型处理"
   ]
  },
  {
   "cell_type": "code",
   "execution_count": 13,
   "metadata": {
    "hidden": true
   },
   "outputs": [],
   "source": [
    "job_info.loc[job_info[\"公司类型\"].apply(lambda x:len(x)<6),\"公司类型\"] = np.nan\n",
    "job_info[\"公司类型\"] = job_info[\"公司类型\"].str[2:-2]"
   ]
  },
  {
   "cell_type": "markdown",
   "metadata": {
    "hidden": true
   },
   "source": [
    "## 行业处理"
   ]
  },
  {
   "cell_type": "code",
   "execution_count": 14,
   "metadata": {
    "hidden": true
   },
   "outputs": [],
   "source": [
    "job_info[\"行业\"] = job_info[\"行业\"].apply(lambda x:re.sub(\",\",\"/\",x))\n",
    "job_info.loc[job_info[\"行业\"].apply(lambda x:len(x)<6),\"行业\"] = np.nan\n",
    "job_info[\"行业\"] = job_info[\"行业\"].str[2:-2].str.split(\"/\").str[0]"
   ]
  },
  {
   "cell_type": "markdown",
   "metadata": {
    "hidden": true
   },
   "source": [
    "## 学历经验处理"
   ]
  },
  {
   "cell_type": "code",
   "execution_count": 15,
   "metadata": {
    "hidden": true
   },
   "outputs": [],
   "source": [
    "job_info[\"学历\"] = job_info[\"经验与学历\"].apply(lambda x:re.findall(\"本科|大专|应届生|在校生|硕士\",x))\n",
    "def func(x):\n",
    "    if len(x) == 0:\n",
    "        return np.nan\n",
    "    elif len(x) == 1 or len(x) == 2:\n",
    "        return x[0]\n",
    "    else:\n",
    "        return x[2]\n",
    "job_info[\"学历\"] = job_info[\"学历\"].apply(func)"
   ]
  },
  {
   "cell_type": "markdown",
   "metadata": {
    "hidden": true
   },
   "source": [
    "##  公司规模处理"
   ]
  },
  {
   "cell_type": "code",
   "execution_count": 16,
   "metadata": {
    "hidden": true
   },
   "outputs": [],
   "source": [
    "def func(x):\n",
    "    if x == \"['少于50人']\":\n",
    "        return \"<50\"\n",
    "    elif x == \"['50-150人']\":\n",
    "        return \"50-150\"\n",
    "    elif x == \"['150-500人']\":\n",
    "        return '150-500'\n",
    "    elif x == \"['500-1000人']\":\n",
    "        return '500-1000'\n",
    "    elif x == \"['1000-5000人']\":\n",
    "        return '1000-5000'\n",
    "    elif x == \"['5000-10000人']\":\n",
    "        return '5000-10000'\n",
    "    elif x == \"['10000人以上']\":\n",
    "        return \">10000\"\n",
    "    else:\n",
    "        return np.nan\n",
    "job_info[\"公司规模\"] = job_info[\"公司规模\"].apply(func)"
   ]
  },
  {
   "cell_type": "markdown",
   "metadata": {
    "hidden": true
   },
   "source": [
    "## 清洗后存储数据为新表"
   ]
  },
  {
   "cell_type": "code",
   "execution_count": 17,
   "metadata": {
    "hidden": true
   },
   "outputs": [],
   "source": [
    "列名 = [\"公司名\",\"岗位名\",\"工作地点\",\"工资水平\",\"发布日期\",\"学历\",\"公司类型\",\"公司规模\",\"行业\",\"工作描述\"]\n",
    "df_清洗后 = job_info[列名]\n",
    "df_清洗后.fillna(value='无')\n",
    "df_清洗后.to_excel(r\"./清洗后job_info.xlsx\",encoding=\"gbk\",index=None)"
   ]
  },
  {
   "cell_type": "markdown",
   "metadata": {},
   "source": [
    "# 数据分析\n"
   ]
  },
  {
   "cell_type": "code",
   "execution_count": 21,
   "metadata": {},
   "outputs": [],
   "source": [
    "# 读取\n",
    "df_清洗后=pd.read_excel('./清洗后job_info.xlsx')"
   ]
  },
  {
   "cell_type": "code",
   "execution_count": 22,
   "metadata": {},
   "outputs": [
    {
     "data": {
      "text/html": [
       "<div>\n",
       "<style scoped>\n",
       "    .dataframe tbody tr th:only-of-type {\n",
       "        vertical-align: middle;\n",
       "    }\n",
       "\n",
       "    .dataframe tbody tr th {\n",
       "        vertical-align: top;\n",
       "    }\n",
       "\n",
       "    .dataframe thead th {\n",
       "        text-align: right;\n",
       "    }\n",
       "</style>\n",
       "<table border=\"1\" class=\"dataframe\">\n",
       "  <thead>\n",
       "    <tr style=\"text-align: right;\">\n",
       "      <th></th>\n",
       "      <th>公司名</th>\n",
       "      <th>岗位名</th>\n",
       "      <th>工作地点</th>\n",
       "      <th>工资水平</th>\n",
       "      <th>发布日期</th>\n",
       "      <th>学历</th>\n",
       "      <th>公司类型</th>\n",
       "      <th>公司规模</th>\n",
       "      <th>行业</th>\n",
       "      <th>工作描述</th>\n",
       "    </tr>\n",
       "  </thead>\n",
       "  <tbody>\n",
       "    <tr>\n",
       "      <th>count</th>\n",
       "      <td>2465</td>\n",
       "      <td>2465</td>\n",
       "      <td>2465</td>\n",
       "      <td>2465.000000</td>\n",
       "      <td>2465</td>\n",
       "      <td>2198</td>\n",
       "      <td>2460</td>\n",
       "      <td>2447</td>\n",
       "      <td>2461</td>\n",
       "      <td>2465</td>\n",
       "    </tr>\n",
       "    <tr>\n",
       "      <th>unique</th>\n",
       "      <td>2414</td>\n",
       "      <td>512</td>\n",
       "      <td>2</td>\n",
       "      <td>NaN</td>\n",
       "      <td>56</td>\n",
       "      <td>4</td>\n",
       "      <td>10</td>\n",
       "      <td>7</td>\n",
       "      <td>56</td>\n",
       "      <td>2256</td>\n",
       "    </tr>\n",
       "    <tr>\n",
       "      <th>top</th>\n",
       "      <td>广东鑫盛弘创资产管理有限公司</td>\n",
       "      <td>运营</td>\n",
       "      <td>广州</td>\n",
       "      <td>NaN</td>\n",
       "      <td>07-15</td>\n",
       "      <td>大专</td>\n",
       "      <td>民营公司</td>\n",
       "      <td>50-150</td>\n",
       "      <td>互联网</td>\n",
       "      <td>[]</td>\n",
       "    </tr>\n",
       "    <tr>\n",
       "      <th>freq</th>\n",
       "      <td>10</td>\n",
       "      <td>708</td>\n",
       "      <td>2368</td>\n",
       "      <td>NaN</td>\n",
       "      <td>1311</td>\n",
       "      <td>1223</td>\n",
       "      <td>1923</td>\n",
       "      <td>778</td>\n",
       "      <td>475</td>\n",
       "      <td>190</td>\n",
       "    </tr>\n",
       "    <tr>\n",
       "      <th>mean</th>\n",
       "      <td>NaN</td>\n",
       "      <td>NaN</td>\n",
       "      <td>NaN</td>\n",
       "      <td>10094.235970</td>\n",
       "      <td>NaN</td>\n",
       "      <td>NaN</td>\n",
       "      <td>NaN</td>\n",
       "      <td>NaN</td>\n",
       "      <td>NaN</td>\n",
       "      <td>NaN</td>\n",
       "    </tr>\n",
       "    <tr>\n",
       "      <th>std</th>\n",
       "      <td>NaN</td>\n",
       "      <td>NaN</td>\n",
       "      <td>NaN</td>\n",
       "      <td>11457.782742</td>\n",
       "      <td>NaN</td>\n",
       "      <td>NaN</td>\n",
       "      <td>NaN</td>\n",
       "      <td>NaN</td>\n",
       "      <td>NaN</td>\n",
       "      <td>NaN</td>\n",
       "    </tr>\n",
       "    <tr>\n",
       "      <th>min</th>\n",
       "      <td>NaN</td>\n",
       "      <td>NaN</td>\n",
       "      <td>NaN</td>\n",
       "      <td>1750.000000</td>\n",
       "      <td>NaN</td>\n",
       "      <td>NaN</td>\n",
       "      <td>NaN</td>\n",
       "      <td>NaN</td>\n",
       "      <td>NaN</td>\n",
       "      <td>NaN</td>\n",
       "    </tr>\n",
       "    <tr>\n",
       "      <th>25%</th>\n",
       "      <td>NaN</td>\n",
       "      <td>NaN</td>\n",
       "      <td>NaN</td>\n",
       "      <td>6000.000000</td>\n",
       "      <td>NaN</td>\n",
       "      <td>NaN</td>\n",
       "      <td>NaN</td>\n",
       "      <td>NaN</td>\n",
       "      <td>NaN</td>\n",
       "      <td>NaN</td>\n",
       "    </tr>\n",
       "    <tr>\n",
       "      <th>50%</th>\n",
       "      <td>NaN</td>\n",
       "      <td>NaN</td>\n",
       "      <td>NaN</td>\n",
       "      <td>8000.000000</td>\n",
       "      <td>NaN</td>\n",
       "      <td>NaN</td>\n",
       "      <td>NaN</td>\n",
       "      <td>NaN</td>\n",
       "      <td>NaN</td>\n",
       "      <td>NaN</td>\n",
       "    </tr>\n",
       "    <tr>\n",
       "      <th>75%</th>\n",
       "      <td>NaN</td>\n",
       "      <td>NaN</td>\n",
       "      <td>NaN</td>\n",
       "      <td>12500.000000</td>\n",
       "      <td>NaN</td>\n",
       "      <td>NaN</td>\n",
       "      <td>NaN</td>\n",
       "      <td>NaN</td>\n",
       "      <td>NaN</td>\n",
       "      <td>NaN</td>\n",
       "    </tr>\n",
       "    <tr>\n",
       "      <th>max</th>\n",
       "      <td>NaN</td>\n",
       "      <td>NaN</td>\n",
       "      <td>NaN</td>\n",
       "      <td>500000.000000</td>\n",
       "      <td>NaN</td>\n",
       "      <td>NaN</td>\n",
       "      <td>NaN</td>\n",
       "      <td>NaN</td>\n",
       "      <td>NaN</td>\n",
       "      <td>NaN</td>\n",
       "    </tr>\n",
       "  </tbody>\n",
       "</table>\n",
       "</div>"
      ],
      "text/plain": [
       "                   公司名   岗位名  工作地点           工资水平   发布日期    学历  公司类型    公司规模  \\\n",
       "count             2465  2465  2465    2465.000000   2465  2198  2460    2447   \n",
       "unique            2414   512     2            NaN     56     4    10       7   \n",
       "top     广东鑫盛弘创资产管理有限公司    运营    广州            NaN  07-15    大专  民营公司  50-150   \n",
       "freq                10   708  2368            NaN   1311  1223  1923     778   \n",
       "mean               NaN   NaN   NaN   10094.235970    NaN   NaN   NaN     NaN   \n",
       "std                NaN   NaN   NaN   11457.782742    NaN   NaN   NaN     NaN   \n",
       "min                NaN   NaN   NaN    1750.000000    NaN   NaN   NaN     NaN   \n",
       "25%                NaN   NaN   NaN    6000.000000    NaN   NaN   NaN     NaN   \n",
       "50%                NaN   NaN   NaN    8000.000000    NaN   NaN   NaN     NaN   \n",
       "75%                NaN   NaN   NaN   12500.000000    NaN   NaN   NaN     NaN   \n",
       "max                NaN   NaN   NaN  500000.000000    NaN   NaN   NaN     NaN   \n",
       "\n",
       "          行业  工作描述  \n",
       "count   2461  2465  \n",
       "unique    56  2256  \n",
       "top      互联网    []  \n",
       "freq     475   190  \n",
       "mean     NaN   NaN  \n",
       "std      NaN   NaN  \n",
       "min      NaN   NaN  \n",
       "25%      NaN   NaN  \n",
       "50%      NaN   NaN  \n",
       "75%      NaN   NaN  \n",
       "max      NaN   NaN  "
      ]
     },
     "execution_count": 22,
     "metadata": {},
     "output_type": "execute_result"
    }
   ],
   "source": [
    "# 看看\n",
    "df_清洗后.describe(include=\"all\")"
   ]
  },
  {
   "cell_type": "markdown",
   "metadata": {},
   "source": [
    "## 行业需求统计"
   ]
  },
  {
   "cell_type": "code",
   "execution_count": 210,
   "metadata": {},
   "outputs": [],
   "source": [
    "行业=df_清洗后.行业\n",
    "# 行业"
   ]
  },
  {
   "cell_type": "code",
   "execution_count": 211,
   "metadata": {},
   "outputs": [
    {
     "data": {
      "text/plain": [
       "行业\n",
       "互联网                  475\n",
       "计算机软件                400\n",
       "快速消费品(食品、饮料、化妆品)     157\n",
       "贸易                   140\n",
       "服装                   135\n",
       "计算机服务(系统、数据服务、维修)     99\n",
       "通信                    93\n",
       "专业服务(咨询、人力资源、财会)      68\n",
       "电子技术                  67\n",
       "批发                    59\n",
       "dtype: int64"
      ]
     },
     "metadata": {},
     "output_type": "display_data"
    }
   ],
   "source": [
    "行业数统计=df_清洗后.groupby(by='行业').size().sort_values(ascending=False).head(10)\n",
    "display(行业数统计)"
   ]
  },
  {
   "cell_type": "code",
   "execution_count": 27,
   "metadata": {},
   "outputs": [],
   "source": [
    "# 中文\n",
    "# import matplotlib.pyplot as plt\n",
    "# plt.rcParams['font.sans-serif'] = ['SimHei']\n",
    "# plt.rcParams['axes.unicode_minus'] = False"
   ]
  },
  {
   "cell_type": "code",
   "execution_count": 36,
   "metadata": {},
   "outputs": [],
   "source": [
    "# 中文怎么还不行烦死了烦死了烦死了\n",
    "import numpy as np\n",
    "import matplotlib.pyplot as plt\n",
    "plt.rcParams['font.sans-serif'] = ['Arial Unicode MS']"
   ]
  },
  {
   "cell_type": "code",
   "execution_count": 74,
   "metadata": {},
   "outputs": [
    {
     "data": {
      "text/plain": [
       "<matplotlib.axes._subplots.AxesSubplot at 0x1528827f0>"
      ]
     },
     "execution_count": 74,
     "metadata": {},
     "output_type": "execute_result"
    },
    {
     "data": {
      "image/png": "[encoded data removed]",
      "text/plain": [
       "<Figure size 720x720 with 1 Axes>"
      ]
     },
     "metadata": {
      "needs_background": "light"
     },
     "output_type": "display_data"
    }
   ],
   "source": [
    "行业数统计.plot(figsize=(10,10),fontsize='14',kind='bar',title='广州市数据相关各行业需求',grid=True)"
   ]
  },
  {
   "cell_type": "markdown",
   "metadata": {},
   "source": [
    "## 岗位数量统计"
   ]
  },
  {
   "cell_type": "code",
   "execution_count": 39,
   "metadata": {},
   "outputs": [],
   "source": [
    "岗位=df_清洗后.岗位名"
   ]
  },
  {
   "cell_type": "code",
   "execution_count": 41,
   "metadata": {},
   "outputs": [
    {
     "data": {
      "text/plain": [
       "岗位名\n",
       "运营       708\n",
       "数据分析     557\n",
       "大数据      187\n",
       "开发工程师    164\n",
       "数据库       66\n",
       "运维        32\n",
       "数据管理      29\n",
       "数据文员      28\n",
       "测试        25\n",
       "数据产品      17\n",
       "dtype: int64"
      ]
     },
     "metadata": {},
     "output_type": "display_data"
    }
   ],
   "source": [
    "岗位统计=df_清洗后.groupby(by='岗位名').size().sort_values(ascending=False).head(10)\n",
    "display(岗位统计)"
   ]
  },
  {
   "cell_type": "code",
   "execution_count": 76,
   "metadata": {},
   "outputs": [
    {
     "data": {
      "text/plain": [
       "<matplotlib.axes._subplots.AxesSubplot at 0x152840240>"
      ]
     },
     "execution_count": 76,
     "metadata": {},
     "output_type": "execute_result"
    },
    {
     "data": {
      "image/png": "[encoded data removed]",
      "text/plain": [
       "<Figure size 1008x504 with 1 Axes>"
      ]
     },
     "metadata": {
      "needs_background": "light"
     },
     "output_type": "display_data"
    }
   ],
   "source": [
    "岗位统计.plot(figsize=(14,7),\\\n",
    "             kind='bar',\\\n",
    "             color='yellowgreen',\\\n",
    "             title='广州市数据相关各岗位数量',\\\n",
    "             fontsize='17',\\\n",
    "             grid=True)"
   ]
  },
  {
   "cell_type": "markdown",
   "metadata": {},
   "source": [
    "## 岗位薪资水平（取平均值）"
   ]
  },
  {
   "cell_type": "code",
   "execution_count": 212,
   "metadata": {},
   "outputs": [],
   "source": [
    "# 岗位薪资水平（取平均）\n",
    "岗位薪资=df_清洗后.groupby(by='岗位名').agg({\"工资水平\":[\"mean\"]}).sort_values(by=(\"工资水平\",\"mean\"),ascending=False).reset_index().head(10)#.iloc[7:17]"
   ]
  },
  {
   "cell_type": "code",
   "execution_count": 131,
   "metadata": {},
   "outputs": [
    {
     "data": {
      "text/html": [
       "<div>\n",
       "<style scoped>\n",
       "    .dataframe tbody tr th:only-of-type {\n",
       "        vertical-align: middle;\n",
       "    }\n",
       "\n",
       "    .dataframe tbody tr th {\n",
       "        vertical-align: top;\n",
       "    }\n",
       "\n",
       "    .dataframe thead tr th {\n",
       "        text-align: left;\n",
       "    }\n",
       "</style>\n",
       "<table border=\"1\" class=\"dataframe\">\n",
       "  <thead>\n",
       "    <tr>\n",
       "      <th></th>\n",
       "      <th>岗位名</th>\n",
       "      <th>工资水平</th>\n",
       "    </tr>\n",
       "    <tr>\n",
       "      <th></th>\n",
       "      <th></th>\n",
       "      <th>mean</th>\n",
       "    </tr>\n",
       "  </thead>\n",
       "  <tbody>\n",
       "    <tr>\n",
       "      <th>0</th>\n",
       "      <td>数据中心总经理</td>\n",
       "      <td>500000.000000</td>\n",
       "    </tr>\n",
       "    <tr>\n",
       "      <th>1</th>\n",
       "      <td>数据中心营运总监</td>\n",
       "      <td>45833.333333</td>\n",
       "    </tr>\n",
       "    <tr>\n",
       "      <th>2</th>\n",
       "      <td>数据总监</td>\n",
       "      <td>37500.000000</td>\n",
       "    </tr>\n",
       "    <tr>\n",
       "      <th>3</th>\n",
       "      <td>博士后研究员（数据传输与交换）</td>\n",
       "      <td>36666.666667</td>\n",
       "    </tr>\n",
       "    <tr>\n",
       "      <th>4</th>\n",
       "      <td>群益科技--数据中心经理（社会招聘）</td>\n",
       "      <td>35000.000000</td>\n",
       "    </tr>\n",
       "    <tr>\n",
       "      <th>5</th>\n",
       "      <td>高级web 全栈开发</td>\n",
       "      <td>30000.000000</td>\n",
       "    </tr>\n",
       "    <tr>\n",
       "      <th>6</th>\n",
       "      <td>数据模型工程师：</td>\n",
       "      <td>30000.000000</td>\n",
       "    </tr>\n",
       "    <tr>\n",
       "      <th>7</th>\n",
       "      <td>销售工程师（弹性时间、各项福利、底薪+奖金）</td>\n",
       "      <td>29166.666667</td>\n",
       "    </tr>\n",
       "    <tr>\n",
       "      <th>8</th>\n",
       "      <td>数据架构师（数据中台方向）</td>\n",
       "      <td>27500.000000</td>\n",
       "    </tr>\n",
       "    <tr>\n",
       "      <th>9</th>\n",
       "      <td>数据技术研究员</td>\n",
       "      <td>27500.000000</td>\n",
       "    </tr>\n",
       "  </tbody>\n",
       "</table>\n",
       "</div>"
      ],
      "text/plain": [
       "                      岗位名           工资水平\n",
       "                                    mean\n",
       "0                 数据中心总经理  500000.000000\n",
       "1                数据中心营运总监   45833.333333\n",
       "2                    数据总监   37500.000000\n",
       "3         博士后研究员（数据传输与交换）   36666.666667\n",
       "4      群益科技--数据中心经理（社会招聘）   35000.000000\n",
       "5              高级web 全栈开发   30000.000000\n",
       "6                数据模型工程师：   30000.000000\n",
       "7  销售工程师（弹性时间、各项福利、底薪+奖金）   29166.666667\n",
       "8           数据架构师（数据中台方向）   27500.000000\n",
       "9                 数据技术研究员   27500.000000"
      ]
     },
     "execution_count": 131,
     "metadata": {},
     "output_type": "execute_result"
    }
   ],
   "source": [
    "# 看平均薪资\n",
    "岗位薪资"
   ]
  },
  {
   "cell_type": "code",
   "execution_count": 178,
   "metadata": {},
   "outputs": [
    {
     "data": {
      "text/plain": [
       "['数据中心总经理',\n",
       " '数据中心营运总监',\n",
       " '数据总监',\n",
       " '博士后研究员',\n",
       " '群益科技--数据中心经理',\n",
       " '高级web 全栈开发',\n",
       " '数据模型工程师：',\n",
       " '销售工程师',\n",
       " '数据架构师',\n",
       " '数据技术研究员']"
      ]
     },
     "execution_count": 178,
     "metadata": {},
     "output_type": "execute_result"
    }
   ],
   "source": [
    "# 处理下岗位名‘（）’里的不要🙅\n",
    "a=岗位薪资['岗位名'].to_list()\n",
    "b=[]\n",
    "for i in a:\n",
    "    b.append(str(i).split('（'))\n",
    "# print(b)\n",
    "岗位名_处理=[]\n",
    "for x in b:\n",
    "    岗位名_处理.append(x[0])\n",
    "岗位名_处理"
   ]
  },
  {
   "cell_type": "code",
   "execution_count": 195,
   "metadata": {},
   "outputs": [
    {
     "data": {
      "image/png": "[encoded data removed]",
      "text/plain": [
       "<Figure size 1400x700 with 1 Axes>"
      ]
     },
     "metadata": {
      "needs_background": "light"
     },
     "output_type": "display_data"
    }
   ],
   "source": [
    "# 画图\n",
    "bar = plt.bar(岗位名_处理,岗位薪资[\"工资水平\",\"mean\"].values, color='dodgerblue')\n",
    "bar[0].set_color('green')\n",
    "\n",
    "# 给条形图添加数据标注\n",
    "for x, y in enumerate(岗位薪资[\"工资水平\",\"mean\"].values):\n",
    "    plt.text(x-0.4, y+500, \"%s\" %y)\n",
    "\n",
    "plt.tick_params(labelsize=10)\n",
    "plt.xlabel('岗位名')\n",
    "plt.ylabel([\"工资水平\",\"mean\"])\n",
    "plt.title('各岗位薪资平均水平')\n",
    "plt.rcParams['figure.figsize'] = (14, 7)\n",
    "# plt.rcParams['savefig.dpi'] = 100 #图片像素\n",
    "# plt.rcParams['figure.dpi'] = 100 #分辨率"
   ]
  },
  {
   "cell_type": "markdown",
   "metadata": {},
   "source": [
    "## 行业薪资水平（平均值）"
   ]
  },
  {
   "cell_type": "code",
   "execution_count": 207,
   "metadata": {},
   "outputs": [
    {
     "data": {
      "text/html": [
       "<div>\n",
       "<style scoped>\n",
       "    .dataframe tbody tr th:only-of-type {\n",
       "        vertical-align: middle;\n",
       "    }\n",
       "\n",
       "    .dataframe tbody tr th {\n",
       "        vertical-align: top;\n",
       "    }\n",
       "\n",
       "    .dataframe thead tr th {\n",
       "        text-align: left;\n",
       "    }\n",
       "</style>\n",
       "<table border=\"1\" class=\"dataframe\">\n",
       "  <thead>\n",
       "    <tr>\n",
       "      <th></th>\n",
       "      <th>行业</th>\n",
       "      <th colspan=\"3\" halign=\"left\">工资水平</th>\n",
       "    </tr>\n",
       "    <tr>\n",
       "      <th></th>\n",
       "      <th></th>\n",
       "      <th>最小值</th>\n",
       "      <th>最大值</th>\n",
       "      <th>平均值</th>\n",
       "    </tr>\n",
       "  </thead>\n",
       "  <tbody>\n",
       "    <tr>\n",
       "      <th>0</th>\n",
       "      <td>房地产</td>\n",
       "      <td>2500.0</td>\n",
       "      <td>500000.000000</td>\n",
       "      <td>22113.703704</td>\n",
       "    </tr>\n",
       "    <tr>\n",
       "      <th>1</th>\n",
       "      <td>租赁服务</td>\n",
       "      <td>5000.0</td>\n",
       "      <td>25000.000000</td>\n",
       "      <td>14166.666667</td>\n",
       "    </tr>\n",
       "    <tr>\n",
       "      <th>2</th>\n",
       "      <td>石油</td>\n",
       "      <td>7500.0</td>\n",
       "      <td>20000.000000</td>\n",
       "      <td>13552.083333</td>\n",
       "    </tr>\n",
       "    <tr>\n",
       "      <th>3</th>\n",
       "      <td>中介服务</td>\n",
       "      <td>7000.0</td>\n",
       "      <td>25000.000000</td>\n",
       "      <td>12600.000000</td>\n",
       "    </tr>\n",
       "    <tr>\n",
       "      <th>4</th>\n",
       "      <td>网络游戏</td>\n",
       "      <td>3700.0</td>\n",
       "      <td>27500.000000</td>\n",
       "      <td>12183.333333</td>\n",
       "    </tr>\n",
       "    <tr>\n",
       "      <th>5</th>\n",
       "      <td>计算机软件</td>\n",
       "      <td>2500.0</td>\n",
       "      <td>41666.666667</td>\n",
       "      <td>12129.583333</td>\n",
       "    </tr>\n",
       "    <tr>\n",
       "      <th>6</th>\n",
       "      <td>多元化业务集团公司</td>\n",
       "      <td>3750.0</td>\n",
       "      <td>45833.333333</td>\n",
       "      <td>11731.481481</td>\n",
       "    </tr>\n",
       "    <tr>\n",
       "      <th>7</th>\n",
       "      <td>学术</td>\n",
       "      <td>5000.0</td>\n",
       "      <td>23333.333333</td>\n",
       "      <td>11541.666667</td>\n",
       "    </tr>\n",
       "    <tr>\n",
       "      <th>8</th>\n",
       "      <td>电气</td>\n",
       "      <td>5250.0</td>\n",
       "      <td>20833.333333</td>\n",
       "      <td>11238.888889</td>\n",
       "    </tr>\n",
       "    <tr>\n",
       "      <th>9</th>\n",
       "      <td>教育</td>\n",
       "      <td>2500.0</td>\n",
       "      <td>35000.000000</td>\n",
       "      <td>11155.660377</td>\n",
       "    </tr>\n",
       "  </tbody>\n",
       "</table>\n",
       "</div>"
      ],
      "text/plain": [
       "          行业    工资水平                             \n",
       "                 最小值            最大值           平均值\n",
       "0        房地产  2500.0  500000.000000  22113.703704\n",
       "1       租赁服务  5000.0   25000.000000  14166.666667\n",
       "2         石油  7500.0   20000.000000  13552.083333\n",
       "3       中介服务  7000.0   25000.000000  12600.000000\n",
       "4       网络游戏  3700.0   27500.000000  12183.333333\n",
       "5      计算机软件  2500.0   41666.666667  12129.583333\n",
       "6  多元化业务集团公司  3750.0   45833.333333  11731.481481\n",
       "7         学术  5000.0   23333.333333  11541.666667\n",
       "8         电气  5250.0   20833.333333  11238.888889\n",
       "9         教育  2500.0   35000.000000  11155.660377"
      ]
     },
     "execution_count": 207,
     "metadata": {},
     "output_type": "execute_result"
    }
   ],
   "source": [
    "行业工资水平_前10=df_清洗后.groupby(by='行业').agg({\"工资水平\":[\"min\",\"max\",\"mean\"]}).rename(columns={'min':'最小值','max':'最大值','mean':'平均值'}).sort_values(by=(\"工资水平\",\"平均值\"),ascending=False).head(10).reset_index()\n",
    "行业工资水平_前10"
   ]
  },
  {
   "cell_type": "code",
   "execution_count": 208,
   "metadata": {},
   "outputs": [
    {
     "data": {
      "text/html": [
       "<div>\n",
       "<style scoped>\n",
       "    .dataframe tbody tr th:only-of-type {\n",
       "        vertical-align: middle;\n",
       "    }\n",
       "\n",
       "    .dataframe tbody tr th {\n",
       "        vertical-align: top;\n",
       "    }\n",
       "\n",
       "    .dataframe thead tr th {\n",
       "        text-align: left;\n",
       "    }\n",
       "</style>\n",
       "<table border=\"1\" class=\"dataframe\">\n",
       "  <thead>\n",
       "    <tr>\n",
       "      <th></th>\n",
       "      <th>行业</th>\n",
       "      <th colspan=\"3\" halign=\"left\">工资水平</th>\n",
       "    </tr>\n",
       "    <tr>\n",
       "      <th></th>\n",
       "      <th></th>\n",
       "      <th>最小值</th>\n",
       "      <th>最大值</th>\n",
       "      <th>平均值</th>\n",
       "    </tr>\n",
       "  </thead>\n",
       "  <tbody>\n",
       "    <tr>\n",
       "      <th>0</th>\n",
       "      <td>房地产</td>\n",
       "      <td>2500.0</td>\n",
       "      <td>500000.000000</td>\n",
       "      <td>22113.703704</td>\n",
       "    </tr>\n",
       "    <tr>\n",
       "      <th>1</th>\n",
       "      <td>租赁服务</td>\n",
       "      <td>5000.0</td>\n",
       "      <td>25000.000000</td>\n",
       "      <td>14166.666667</td>\n",
       "    </tr>\n",
       "    <tr>\n",
       "      <th>2</th>\n",
       "      <td>石油</td>\n",
       "      <td>7500.0</td>\n",
       "      <td>20000.000000</td>\n",
       "      <td>13552.083333</td>\n",
       "    </tr>\n",
       "    <tr>\n",
       "      <th>3</th>\n",
       "      <td>中介服务</td>\n",
       "      <td>7000.0</td>\n",
       "      <td>25000.000000</td>\n",
       "      <td>12600.000000</td>\n",
       "    </tr>\n",
       "    <tr>\n",
       "      <th>4</th>\n",
       "      <td>网络游戏</td>\n",
       "      <td>3700.0</td>\n",
       "      <td>27500.000000</td>\n",
       "      <td>12183.333333</td>\n",
       "    </tr>\n",
       "    <tr>\n",
       "      <th>5</th>\n",
       "      <td>计算机软件</td>\n",
       "      <td>2500.0</td>\n",
       "      <td>41666.666667</td>\n",
       "      <td>12129.583333</td>\n",
       "    </tr>\n",
       "    <tr>\n",
       "      <th>6</th>\n",
       "      <td>多元化业务集团公司</td>\n",
       "      <td>3750.0</td>\n",
       "      <td>45833.333333</td>\n",
       "      <td>11731.481481</td>\n",
       "    </tr>\n",
       "    <tr>\n",
       "      <th>7</th>\n",
       "      <td>学术</td>\n",
       "      <td>5000.0</td>\n",
       "      <td>23333.333333</td>\n",
       "      <td>11541.666667</td>\n",
       "    </tr>\n",
       "    <tr>\n",
       "      <th>8</th>\n",
       "      <td>电气</td>\n",
       "      <td>5250.0</td>\n",
       "      <td>20833.333333</td>\n",
       "      <td>11238.888889</td>\n",
       "    </tr>\n",
       "    <tr>\n",
       "      <th>9</th>\n",
       "      <td>教育</td>\n",
       "      <td>2500.0</td>\n",
       "      <td>35000.000000</td>\n",
       "      <td>11155.660377</td>\n",
       "    </tr>\n",
       "  </tbody>\n",
       "</table>\n",
       "</div>"
      ],
      "text/plain": [
       "          行业    工资水平                             \n",
       "                 最小值            最大值           平均值\n",
       "0        房地产  2500.0  500000.000000  22113.703704\n",
       "1       租赁服务  5000.0   25000.000000  14166.666667\n",
       "2         石油  7500.0   20000.000000  13552.083333\n",
       "3       中介服务  7000.0   25000.000000  12600.000000\n",
       "4       网络游戏  3700.0   27500.000000  12183.333333\n",
       "5      计算机软件  2500.0   41666.666667  12129.583333\n",
       "6  多元化业务集团公司  3750.0   45833.333333  11731.481481\n",
       "7         学术  5000.0   23333.333333  11541.666667\n",
       "8         电气  5250.0   20833.333333  11238.888889\n",
       "9         教育  2500.0   35000.000000  11155.660377"
      ]
     },
     "execution_count": 208,
     "metadata": {},
     "output_type": "execute_result"
    }
   ],
   "source": [
    "# 行业薪资\n",
    "行业工资水平_前10"
   ]
  },
  {
   "cell_type": "code",
   "execution_count": 209,
   "metadata": {},
   "outputs": [
    {
     "data": {
      "image/png": "[encoded data removed]",
      "text/plain": [
       "<Figure size 1400x700 with 1 Axes>"
      ]
     },
     "metadata": {
      "needs_background": "light"
     },
     "output_type": "display_data"
    }
   ],
   "source": [
    "# 行业工资水平画图\n",
    "bar = plt.bar(行业工资水平_前10['行业'],行业工资水平_前10[\"工资水平\",\"平均值\"].values, color='dodgerblue')\n",
    "bar[0].set_color('green')\n",
    "\n",
    "# 给条形图添加数据标注\n",
    "for x, y in enumerate(行业工资水平_前10[\"工资水平\",\"平均值\"].values):\n",
    "    plt.text(x-0.4, y+500, \"%s\" %y)\n",
    "\n",
    "plt.tick_params(labelsize=10)\n",
    "plt.xlabel('行业名')\n",
    "plt.ylabel([\"工资水平\",\"平均值\"])\n",
    "plt.title('各行业薪资平均水平')\n",
    "plt.rcParams['figure.figsize'] = (14, 7)\n",
    "# plt.rcParams['savefig.dpi'] = 100 #图片像素\n",
    "# plt.rcParams['figure.dpi'] = 100 #分辨率"
   ]
  },
  {
   "cell_type": "code",
   "execution_count": null,
   "metadata": {},
   "outputs": [],
   "source": []
  }
 ],
 "metadata": {
  "kernelspec": {
   "display_name": "Python 3",
   "language": "python",
   "name": "python3"
  },
  "language_info": {
   "codemirror_mode": {
    "name": "ipython",
    "version": 3
   },
   "file_extension": ".py",
   "mimetype": "text/x-python",
   "name": "python",
   "nbconvert_exporter": "python",
   "pygments_lexer": "ipython3",
   "version": "3.7.3"
  },
  "toc": {
   "base_numbering": 1,
   "nav_menu": {},
   "number_sections": true,
   "sideBar": true,
   "skip_h1_title": false,
   "title_cell": "Table of Contents",
   "title_sidebar": "Contents",
   "toc_cell": false,
   "toc_position": {
    "height": "calc(100% - 180px)",
    "left": "10px",
    "top": "150px",
    "width": "336px"
   },
   "toc_section_display": true,
   "toc_window_display": false
  }
 },
 "nbformat": 4,
 "nbformat_minor": 2
}
