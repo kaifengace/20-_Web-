{
 "cells": [
  {
   "cell_type": "markdown",
   "metadata": {},
   "source": [
    "# 爬虫学习 使用“requests-html”模块"
   ]
  },
  {
   "cell_type": "markdown",
   "metadata": {},
   "source": [
    "此模块可以让我们更方便的解析html页面，使得爬虫更加简单易懂。\n",
    "\n",
    "使用方法详见[官方文档](https://requests-html.kennethreitz.org/)。\n",
    "\n",
    "<b>[中文文档](https://cncert.github.io/requests-html-doc-cn/#/)</b>\n"
   ]
  },
  {
   "cell_type": "code",
   "execution_count": null,
   "metadata": {},
   "outputs": [],
   "source": []
  },
  {
   "cell_type": "markdown",
   "metadata": {},
   "source": [
    "## 爬新闻页面"
   ]
  },
  {
   "cell_type": "markdown",
   "metadata": {},
   "source": [
    "### 示例1(通过css定位）"
   ]
  },
  {
   "cell_type": "code",
   "execution_count": 8,
   "metadata": {},
   "outputs": [
    {
     "name": "stdout",
     "output_type": "stream",
     "text": [
      "《动物森友会》刷爆朋友圈的背后 是逃离时代的我们\n",
      "{'https://news.cnblogs.com/n/658292/'}\n",
      "一群日本小学生，在《我的世界》里搞了场“云”毕业\n",
      "{'https://news.cnblogs.com/n/658276/'}\n",
      "这款超硬核的游戏，蕴藏着微软实现复兴的巨大野心\n",
      "{'https://news.cnblogs.com/n/658219/'}\n",
      "Google 开源 Pigweed，涉足嵌入式开发\n",
      "{'https://news.cnblogs.com/n/658198/'}\n",
      "帮罗永浩算笔账：创业这些年，到底挣了多少钱？\n",
      "{'https://news.cnblogs.com/n/658176/'}\n",
      "被谷歌剪掉命根子的出海应用，没几个冤枉的\n",
      "{'https://news.cnblogs.com/n/658174/'}\n",
      "马云给高中生写了一份信，三年后，让全世界都来考数学\n",
      "{'https://news.cnblogs.com/n/658169/'}\n",
      "怀疑开发者在“造核弹”？GitHub 不断封禁开源项目\n",
      "{'https://news.cnblogs.com/n/658107/'}\n",
      "AMD 发布 Ryzen 9 系列移动 CPU，笔记本市场变天了么？\n",
      "{'https://news.cnblogs.com/n/658087/'}\n",
      "为什么阿里喜欢全面并购，腾讯喜欢战略投资？\n",
      "{'https://news.cnblogs.com/n/658059/'}\n",
      "从百度掉队谈起：给百度开药，其实只有一条\n",
      "{'https://news.cnblogs.com/n/658007/'}\n",
      "支付宝若要击败美团，难度到底有多大？\n",
      "{'https://news.cnblogs.com/n/658006/'}\n",
      "追踪网赚游戏：是谁割了你，而你又割了谁？\n",
      "{'https://news.cnblogs.com/n/657964/'}\n",
      "成本480万的《三体》改编动画，如何做到9.9分？\n",
      "{'https://news.cnblogs.com/n/657962/'}\n",
      "互联网公司的灰色战争\n",
      "{'https://news.cnblogs.com/n/657960/'}\n",
      "图灵奖背后：一个奥斯卡拿到手软，一个公司卖了160亿\n",
      "{'https://news.cnblogs.com/n/657944/'}\n",
      "一个叫“郭红”的人 炮制了朋友圈所有的“世界失控”\n",
      "{'https://news.cnblogs.com/n/657930/'}\n",
      ".NET 5 Preview 1 发布\n",
      "{'https://news.cnblogs.com/n/657924/'}\n"
     ]
    }
   ],
   "source": [
    "\n",
    "from requests_html import HTMLSession\n",
    "\n",
    "session = HTMLSession()\n",
    "\n",
    "r = session.get(\"https://news.cnblogs.com/n/recommend\")\n",
    "\n",
    "# 通过CSS找到新闻标签\n",
    "news = r.html.find('h2.news_entry > a')\n",
    "\n",
    "for new in news:\n",
    "    print(new.text)  # 获得新闻标题\n",
    "    print(new.absolute_links)  # 获得新闻链接"
   ]
  },
  {
   "cell_type": "markdown",
   "metadata": {},
   "source": [
    "### 示例2（通过xpath定位）"
   ]
  },
  {
   "cell_type": "code",
   "execution_count": 1,
   "metadata": {},
   "outputs": [
    {
     "name": "stdout",
     "output_type": "stream",
     "text": [
      "web mining Engineer\n",
      "{'https://www.liepin.com/job/1917951351.shtml'}\n",
      "( Senior） Research Manager\n",
      "{'https://www.liepin.com/job/1923198421.shtml'}\n",
      "(Associate）research Director\n",
      "{'https://www.liepin.com/job/1920754473.shtml'}\n",
      "高级数据分析员(信息系统)Sr. Data Analyst(IS)\n",
      "{'https://www.liepin.com/job/1927198767.shtml'}\n",
      "SAP ApplicationDevelopment Project Lead\n",
      "{'https://www.liepin.com/job/1926638333.shtml'}\n",
      "Machine Learning Deployment Engineer\n",
      "{'https://www.liepin.com/job/1926370455.shtml'}\n",
      "Machine Learning Deployment Engineer\n",
      "{'https://www.liepin.com/job/1926370453.shtml'}\n",
      "Associate Director, Global Risk Management\n",
      "{'https://www.liepin.com/job/1926267845.shtml'}\n",
      "Business Analyst\n",
      "{'https://www.liepin.com/a/19634343.shtml'}\n",
      "Risk Management Specialist\n",
      "{'https://www.liepin.com/job/1926256361.shtml'}\n",
      "Developer – WeChat, Microsoft LUIS, BotFramework and NLP\n",
      "{'https://www.liepin.com/job/1922703265.shtml'}\n",
      "Data Scientist\n",
      "{'https://www.liepin.com/a/19176709.shtml'}\n",
      "Machine Learning Deployment Engineer\n",
      "{'https://www.liepin.com/a/19147549.shtml'}\n",
      "NLP 自然语言处理 专家\n",
      "{'https://www.liepin.com/a/18073569.shtml'}\n",
      "计算机化学研究员 Scientist of Computational Chemistry-00174\n",
      "{'https://www.liepin.com/job/1915660198.shtml'}\n",
      "资深数据分析师 Senior Data Analyst (Mobile)\n",
      "{'https://www.liepin.com/job/1915145798.shtml'}\n",
      "AI软件工程师\n",
      "{'https://www.liepin.com/job/1925171311.shtml'}\n",
      "Platform Architect, TDC\n",
      "{'https://www.liepin.com/job/199260312.shtml'}\n",
      "Senior Manager, Application Architect\n",
      "{'https://www.liepin.com/job/199625698.shtml'}\n",
      "Java Developer(Java开发员)\n",
      "{'https://www.liepin.com/job/198943933.shtml'}\n",
      "Manager, Solution Architect\n",
      "{'https://www.liepin.com/job/198814215.shtml'}\n",
      "IT Programmer\n",
      "{'https://www.liepin.com/job/199485158.shtml'}\n",
      "Account Manager 客户经理-大数据平台（快消-零售）\n",
      "{'https://www.liepin.com/job/1923455945.shtml'}\n",
      "Analytic Specialist Solution Architect - 大数据解决方案架构师\n",
      "{'https://www.liepin.com/job/1921998615.shtml'}\n",
      "Machine Learning Deployment Engineer\n",
      "{'https://www.liepin.com/a/18149331.shtml'}\n",
      "自然语言处理研究员\n",
      "{'https://www.liepin.com/job/198521942.shtml'}\n",
      "Discovery-Computational Structural Biologist\n",
      "{'https://www.liepin.com/job/1914180892.shtml'}\n",
      "ITA senior AssociateG00065\n",
      "{'https://www.liepin.com/job/1926657791.shtml'}\n",
      "Java Leader\n",
      "{'https://www.liepin.com/a/18476197.shtml'}\n",
      "网络安全系统架构师（态势感知方向）\n",
      "{'https://www.liepin.com/job/1923127787.shtml'}\n",
      "Ecommerce Data and Insight Manager\n",
      "{'https://www.liepin.com/job/1915662352.shtml'}\n",
      "APAC Logistics Analyst亚太物流分析师（Contractor）\n",
      "{'https://www.liepin.com/job/1926084111.shtml'}\n",
      "AI Engineer\n",
      "{'https://www.liepin.com/job/1924674841.shtml'}\n",
      "Logistics Analyst t物流分析师\n",
      "{'https://www.liepin.com/job/1923071559.shtml'}\n",
      "AI NLP Engineer\n",
      "{'https://www.liepin.com/job/1915650614.shtml'}\n",
      "Java Engineer--大数据应用方向\n",
      "{'https://www.liepin.com/job/1926801249.shtml'}\n",
      "首席搜索算法工程师\n",
      "{'https://www.liepin.com/job/1923962721.shtml'}\n",
      "Data Service Librarian\n",
      "{'https://www.liepin.com/job/1922083517.shtml'}\n",
      "人工智能专家（总监）\n",
      "{'https://www.liepin.com/a/19332673.shtml'}\n",
      "Senior PC Software Engineer/高级PC软件工程师\n",
      "{'https://www.liepin.com/job/1919057165.shtml'}\n"
     ]
    }
   ],
   "source": [
    "from requests_html import HTMLSession\n",
    "\n",
    "session = HTMLSession()\n",
    "\n",
    "r = session.get(\"https://www.liepin.com/zhaopin/?key=web+mining\")\n",
    "\n",
    "# 通过xpath找到工作标签\n",
    "news = r.html.xpath('//div[@class=\"job-info\"]/h3/a')\n",
    "for new in news:\n",
    "    print(new.text)  # 获得工作标题\n",
    "    print(new.absolute_links)  # 获得工作链接"
   ]
  },
  {
   "cell_type": "markdown",
   "metadata": {},
   "source": [
    "> jupyter黑魔法（显示爬取的图片）"
   ]
  },
  {
   "cell_type": "code",
   "execution_count": 2,
   "metadata": {},
   "outputs": [
    {
     "data": {
      "text/html": [
       "<img src=\"https://httpstatusdogs.com/img/418.jpg\" alt=\"\">"
      ],
      "text/plain": [
       "<IPython.core.display.HTML object>"
      ]
     },
     "metadata": {},
     "output_type": "display_data"
    }
   ],
   "source": [
    "# html图\n",
    "from IPython.core.display import display, HTML\n",
    "display(HTML('<img src=\"https://httpstatusdogs.com/img/418.jpg\" alt=\"\">'))"
   ]
  },
  {
   "cell_type": "code",
   "execution_count": 3,
   "metadata": {},
   "outputs": [
    {
     "data": {
      "text/markdown": [
       "![](https://httpstatusdogs.com/img/418.jpg)"
      ],
      "text/plain": [
       "<IPython.core.display.Markdown object>"
      ]
     },
     "metadata": {},
     "output_type": "display_data"
    }
   ],
   "source": [
    "# markdown图\n",
    "from IPython.core.display import display, Markdown\n",
    "display(Markdown('![](https://httpstatusdogs.com/img/418.jpg)'))"
   ]
  },
  {
   "cell_type": "code",
   "execution_count": 4,
   "metadata": {},
   "outputs": [],
   "source": [
    "# 加值功能 抓网页图"
   ]
  },
  {
   "cell_type": "code",
   "execution_count": 6,
   "metadata": {},
   "outputs": [
    {
     "data": {
      "text/markdown": [
       "![](data:image/png;base64,iVBORw0KGgoAAAANSUhEUgAAAAEAAAABCAQAAAC1HAwCAAAAC0lEQVR42mNgYAAAAAMAASsJTYQAAAAASUVORK5CYII=)"
      ],
      "text/plain": [
       "<IPython.core.display.Markdown object>"
      ]
     },
     "metadata": {},
     "output_type": "display_data"
    },
    {
     "data": {
      "text/markdown": [
       "![](https://tse1-mm.cn.bing.net/th/id/OET.bc70150f0a0f46e98b97ab7418544007?w=272&h=272&c=7&rs=1&o=5&pid=1.9)"
      ],
      "text/plain": [
       "<IPython.core.display.Markdown object>"
      ]
     },
     "metadata": {},
     "output_type": "display_data"
    },
    {
     "data": {
      "text/markdown": [
       "![](https://tse1-mm.cn.bing.net/th/id/OET.6c67b92a90e642419f9d56226f0a1f25?w=272&h=135&c=7&rs=1&o=5&pid=1.9)"
      ],
      "text/plain": [
       "<IPython.core.display.Markdown object>"
      ]
     },
     "metadata": {},
     "output_type": "display_data"
    },
    {
     "data": {
      "text/markdown": [
       "![](https://tse1-mm.cn.bing.net/th/id/OET.e03c2838234f4cd1b3aa09541a208aab?w=272&h=135&c=7&rs=1&o=5&pid=1.9)"
      ],
      "text/plain": [
       "<IPython.core.display.Markdown object>"
      ]
     },
     "metadata": {},
     "output_type": "display_data"
    },
    {
     "data": {
      "text/markdown": [
       "![](https://tse1-mm.cn.bing.net/th/id/OET.843fba32bfe94c4085c86ca17dc7dcf1?w=272&h=135&c=7&rs=1&o=5&pid=1.9)"
      ],
      "text/plain": [
       "<IPython.core.display.Markdown object>"
      ]
     },
     "metadata": {},
     "output_type": "display_data"
    },
    {
     "data": {
      "text/markdown": [
       "![](https://tse1-mm.cn.bing.net/th/id/OET.c79e967af54b4bd2962ff5762873f19d?w=272&h=135&c=7&rs=1&o=5&pid=1.9)"
      ],
      "text/plain": [
       "<IPython.core.display.Markdown object>"
      ]
     },
     "metadata": {},
     "output_type": "display_data"
    },
    {
     "data": {
      "text/markdown": [
       "![](https://tse1-mm.cn.bing.net/th/id/OET.114569a5ac5948839511c68dbb63138c?w=272&h=135&c=7&rs=1&o=5&pid=1.9)"
      ],
      "text/plain": [
       "<IPython.core.display.Markdown object>"
      ]
     },
     "metadata": {},
     "output_type": "display_data"
    },
    {
     "data": {
      "text/markdown": [
       "![](https://tse1-mm.cn.bing.net/th/id/OET.af1cd8f22e12465fbc3a3710d5c49937?w=272&h=135&c=7&rs=1&o=5&pid=1.9)"
      ],
      "text/plain": [
       "<IPython.core.display.Markdown object>"
      ]
     },
     "metadata": {},
     "output_type": "display_data"
    },
    {
     "data": {
      "text/markdown": [
       "![](https://tse1-mm.cn.bing.net/th/id/OET.c1db9a3ba2be4e009d47afb71ab3c20b?w=135&h=135&c=7&rs=1&o=5&pid=1.9)"
      ],
      "text/plain": [
       "<IPython.core.display.Markdown object>"
      ]
     },
     "metadata": {},
     "output_type": "display_data"
    },
    {
     "data": {
      "text/markdown": [
       "![](https://tse1-mm.cn.bing.net/th/id/OET.e78b0b979bc74f59b809294edc34d10a?w=135&h=135&c=7&rs=1&o=5&pid=1.9)"
      ],
      "text/plain": [
       "<IPython.core.display.Markdown object>"
      ]
     },
     "metadata": {},
     "output_type": "display_data"
    },
    {
     "data": {
      "text/markdown": [
       "![](https://tse1-mm.cn.bing.net/th/id/OET.249361366e2d43858acde0a77c5a1d4d?w=135&h=135&c=7&rs=1&o=5&pid=1.9)"
      ],
      "text/plain": [
       "<IPython.core.display.Markdown object>"
      ]
     },
     "metadata": {},
     "output_type": "display_data"
    },
    {
     "data": {
      "text/markdown": [
       "![](https://tse1-mm.cn.bing.net/th/id/OET.21a0caa8b95c4b479180e20814e190e4?w=135&h=135&c=7&rs=1&o=5&pid=1.9)"
      ],
      "text/plain": [
       "<IPython.core.display.Markdown object>"
      ]
     },
     "metadata": {},
     "output_type": "display_data"
    },
    {
     "data": {
      "text/markdown": [
       "![](https://tse1-mm.cn.bing.net/th/id/OET.0c62c79ee15146caa94830cbffe68a15?w=272&h=272&c=7&rs=1&o=5&pid=1.9)"
      ],
      "text/plain": [
       "<IPython.core.display.Markdown object>"
      ]
     },
     "metadata": {},
     "output_type": "display_data"
    },
    {
     "data": {
      "text/markdown": [
       "![](https://tse1-mm.cn.bing.net/th/id/OET.91319928824a4a619e21ed4bb785c006?w=135&h=272&c=7&rs=1&o=5&pid=1.9)"
      ],
      "text/plain": [
       "<IPython.core.display.Markdown object>"
      ]
     },
     "metadata": {},
     "output_type": "display_data"
    },
    {
     "data": {
      "text/markdown": [
       "![](https://tse1-mm.cn.bing.net/th/id/OET.269a1c8ab83f419db21f1447477f9d4d?w=135&h=272&c=7&rs=1&o=5&pid=1.9)"
      ],
      "text/plain": [
       "<IPython.core.display.Markdown object>"
      ]
     },
     "metadata": {},
     "output_type": "display_data"
    },
    {
     "data": {
      "text/markdown": [
       "![](https://tse1-mm.cn.bing.net/th/id/OET.e7020eeba24a423d9694f2874de81238?w=135&h=272&c=7&rs=1&o=5&pid=1.9)"
      ],
      "text/plain": [
       "<IPython.core.display.Markdown object>"
      ]
     },
     "metadata": {},
     "output_type": "display_data"
    },
    {
     "data": {
      "text/markdown": [
       "![](https://tse1-mm.cn.bing.net/th/id/OET.569ec4dfca424c539a920eb5c8f9103e?w=135&h=272&c=7&rs=1&o=5&pid=1.9)"
      ],
      "text/plain": [
       "<IPython.core.display.Markdown object>"
      ]
     },
     "metadata": {},
     "output_type": "display_data"
    },
    {
     "data": {
      "text/markdown": [
       "![](https://tse1-mm.cn.bing.net/th/id/OET.d78d1790f0d54d0697f6cf01571d8c5d?w=135&h=272&c=7&rs=1&o=5&pid=1.9)"
      ],
      "text/plain": [
       "<IPython.core.display.Markdown object>"
      ]
     },
     "metadata": {},
     "output_type": "display_data"
    },
    {
     "data": {
      "text/markdown": [
       "![](https://tse1-mm.cn.bing.net/th/id/OET.0cb8103b50f644f7803116f3f3afbe19?w=135&h=272&c=7&rs=1&o=5&pid=1.9)"
      ],
      "text/plain": [
       "<IPython.core.display.Markdown object>"
      ]
     },
     "metadata": {},
     "output_type": "display_data"
    },
    {
     "data": {
      "text/markdown": [
       "![](https://tse1-mm.cn.bing.net/th/id/OET.15ebe1689a5e49148b32625ce7dfc3e7?w=135&h=135&c=7&rs=1&o=5&pid=1.9)"
      ],
      "text/plain": [
       "<IPython.core.display.Markdown object>"
      ]
     },
     "metadata": {},
     "output_type": "display_data"
    },
    {
     "data": {
      "text/markdown": [
       "![](https://tse1-mm.cn.bing.net/th/id/OET.9232ec87d1b44164b89cc86bceda2f89?w=135&h=135&c=7&rs=1&o=5&pid=1.9)"
      ],
      "text/plain": [
       "<IPython.core.display.Markdown object>"
      ]
     },
     "metadata": {},
     "output_type": "display_data"
    },
    {
     "data": {
      "text/markdown": [
       "![](https://tse1-mm.cn.bing.net/th/id/OET.84f864f390bc4c4da7a24442518e24d4?w=135&h=135&c=7&rs=1&o=5&pid=1.9)"
      ],
      "text/plain": [
       "<IPython.core.display.Markdown object>"
      ]
     },
     "metadata": {},
     "output_type": "display_data"
    },
    {
     "data": {
      "text/markdown": [
       "![](https://tse1-mm.cn.bing.net/th/id/OET.8d985aa5d30644b38716ac203eaecf32?w=135&h=135&c=7&rs=1&o=5&pid=1.9)"
      ],
      "text/plain": [
       "<IPython.core.display.Markdown object>"
      ]
     },
     "metadata": {},
     "output_type": "display_data"
    },
    {
     "data": {
      "text/markdown": [
       "![](https://tse1-mm.cn.bing.net/th/id/OET.94ec66594fbc486ea4a80fcf46a94a43?w=272&h=272&c=7&rs=1&o=5&pid=1.9)"
      ],
      "text/plain": [
       "<IPython.core.display.Markdown object>"
      ]
     },
     "metadata": {},
     "output_type": "display_data"
    },
    {
     "data": {
      "text/markdown": [
       "![](https://tse1-mm.cn.bing.net/th/id/OET.ce8e35cf44254cc1937d3599379a8d2c?w=135&h=272&c=7&rs=1&o=5&pid=1.9)"
      ],
      "text/plain": [
       "<IPython.core.display.Markdown object>"
      ]
     },
     "metadata": {},
     "output_type": "display_data"
    },
    {
     "data": {
      "text/markdown": [
       "![](https://tse1-mm.cn.bing.net/th/id/OET.9c7eaa350b1b47f6bd2eaaf62e5a186d?w=135&h=272&c=7&rs=1&o=5&pid=1.9)"
      ],
      "text/plain": [
       "<IPython.core.display.Markdown object>"
      ]
     },
     "metadata": {},
     "output_type": "display_data"
    },
    {
     "data": {
      "text/markdown": [
       "![](https://tse1-mm.cn.bing.net/th/id/OET.4d85185c1c38460a99da2ecaa594b66e?w=135&h=272&c=7&rs=1&o=5&pid=1.9)"
      ],
      "text/plain": [
       "<IPython.core.display.Markdown object>"
      ]
     },
     "metadata": {},
     "output_type": "display_data"
    },
    {
     "data": {
      "text/markdown": [
       "![](https://tse1-mm.cn.bing.net/th/id/OET.b48c7915bd5c4e4ba4ca09d71f79757c?w=135&h=272&c=7&rs=1&o=5&pid=1.9)"
      ],
      "text/plain": [
       "<IPython.core.display.Markdown object>"
      ]
     },
     "metadata": {},
     "output_type": "display_data"
    },
    {
     "data": {
      "text/markdown": [
       "![](https://tse1-mm.cn.bing.net/th/id/OET.fa5f3e5bd55f44f9b0f85f0271fa58bd?w=135&h=272&c=7&rs=1&o=5&pid=1.9)"
      ],
      "text/plain": [
       "<IPython.core.display.Markdown object>"
      ]
     },
     "metadata": {},
     "output_type": "display_data"
    },
    {
     "data": {
      "text/markdown": [
       "![](https://tse1-mm.cn.bing.net/th/id/OET.d55a3d45e7c8436ea982b946e014cbdf?w=135&h=272&c=7&rs=1&o=5&pid=1.9)"
      ],
      "text/plain": [
       "<IPython.core.display.Markdown object>"
      ]
     },
     "metadata": {},
     "output_type": "display_data"
    },
    {
     "data": {
      "text/markdown": [
       "![](https://tse1-mm.cn.bing.net/th/id/OET.126389af6ec542d783dd0b987f3f5535?w=135&h=135&c=7&rs=1&o=5&pid=1.9)"
      ],
      "text/plain": [
       "<IPython.core.display.Markdown object>"
      ]
     },
     "metadata": {},
     "output_type": "display_data"
    },
    {
     "data": {
      "text/markdown": [
       "![](https://tse1-mm.cn.bing.net/th/id/OET.e47575bfe7e04cb58e1145d0dd8bf661?w=135&h=135&c=7&rs=1&o=5&pid=1.9)"
      ],
      "text/plain": [
       "<IPython.core.display.Markdown object>"
      ]
     },
     "metadata": {},
     "output_type": "display_data"
    },
    {
     "data": {
      "text/markdown": [
       "![](https://tse1-mm.cn.bing.net/th/id/OET.443f23182e1b4a39bba6b5addd0a0a9e?w=135&h=135&c=7&rs=1&o=5&pid=1.9)"
      ],
      "text/plain": [
       "<IPython.core.display.Markdown object>"
      ]
     },
     "metadata": {},
     "output_type": "display_data"
    },
    {
     "data": {
      "text/markdown": [
       "![](https://tse1-mm.cn.bing.net/th/id/OET.9bfc3c7a14934163a44268a2f93839d8?w=135&h=135&c=7&rs=1&o=5&pid=1.9)"
      ],
      "text/plain": [
       "<IPython.core.display.Markdown object>"
      ]
     },
     "metadata": {},
     "output_type": "display_data"
    },
    {
     "data": {
      "text/markdown": [
       "![](https://tse1-mm.cn.bing.net/th/id/OET.efe3f9fc7f784df3824c2c4f6e05e77f?w=272&h=272&c=7&rs=1&o=5&pid=1.9)"
      ],
      "text/plain": [
       "<IPython.core.display.Markdown object>"
      ]
     },
     "metadata": {},
     "output_type": "display_data"
    },
    {
     "data": {
      "text/markdown": [
       "![](https://tse1-mm.cn.bing.net/th/id/OET.b795a280749f48ca95a9dea4163cdb3c?w=272&h=135&c=7&rs=1&o=5&pid=1.9)"
      ],
      "text/plain": [
       "<IPython.core.display.Markdown object>"
      ]
     },
     "metadata": {},
     "output_type": "display_data"
    },
    {
     "data": {
      "text/markdown": [
       "![](https://tse1-mm.cn.bing.net/th/id/OET.4dc363ac1e1b4b6e996aee01aada03c0?w=272&h=135&c=7&rs=1&o=5&pid=1.9)"
      ],
      "text/plain": [
       "<IPython.core.display.Markdown object>"
      ]
     },
     "metadata": {},
     "output_type": "display_data"
    },
    {
     "data": {
      "text/markdown": [
       "![](https://tse1-mm.cn.bing.net/th/id/OET.009d7b6a10864f5895dd227b8b6aca5a?w=272&h=135&c=7&rs=1&o=5&pid=1.9)"
      ],
      "text/plain": [
       "<IPython.core.display.Markdown object>"
      ]
     },
     "metadata": {},
     "output_type": "display_data"
    },
    {
     "data": {
      "text/markdown": [
       "![](https://tse1-mm.cn.bing.net/th/id/OET.4a23232f3da340bbbcea184defa95785?w=272&h=135&c=7&rs=1&o=5&pid=1.9)"
      ],
      "text/plain": [
       "<IPython.core.display.Markdown object>"
      ]
     },
     "metadata": {},
     "output_type": "display_data"
    },
    {
     "data": {
      "text/markdown": [
       "![](https://tse1-mm.cn.bing.net/th/id/OET.33c7e256696349ab8261e9a8af156ac7?w=272&h=135&c=7&rs=1&o=5&pid=1.9)"
      ],
      "text/plain": [
       "<IPython.core.display.Markdown object>"
      ]
     },
     "metadata": {},
     "output_type": "display_data"
    },
    {
     "data": {
      "text/markdown": [
       "![](https://tse1-mm.cn.bing.net/th/id/OET.07125a24199f49aca5c46ba40c130f86?w=272&h=135&c=7&rs=1&o=5&pid=1.9)"
      ],
      "text/plain": [
       "<IPython.core.display.Markdown object>"
      ]
     },
     "metadata": {},
     "output_type": "display_data"
    },
    {
     "data": {
      "text/markdown": [
       "![](https://tse1-mm.cn.bing.net/th/id/OET.e6e9bf3521a9440d80883ad9b303517b?w=135&h=135&c=7&rs=1&o=5&pid=1.9)"
      ],
      "text/plain": [
       "<IPython.core.display.Markdown object>"
      ]
     },
     "metadata": {},
     "output_type": "display_data"
    },
    {
     "data": {
      "text/markdown": [
       "![](https://tse1-mm.cn.bing.net/th/id/OET.fae29efc4ff648029f1ef70585843e62?w=135&h=135&c=7&rs=1&o=5&pid=1.9)"
      ],
      "text/plain": [
       "<IPython.core.display.Markdown object>"
      ]
     },
     "metadata": {},
     "output_type": "display_data"
    },
    {
     "data": {
      "text/markdown": [
       "![](https://tse1-mm.cn.bing.net/th/id/OET.2d20012bbff14d7b9b2fb9b386fba7d7?w=135&h=135&c=7&rs=1&o=5&pid=1.9)"
      ],
      "text/plain": [
       "<IPython.core.display.Markdown object>"
      ]
     },
     "metadata": {},
     "output_type": "display_data"
    },
    {
     "data": {
      "text/markdown": [
       "![](https://tse1-mm.cn.bing.net/th/id/OET.22eceb574e414031bec812c28ead4b0d?w=135&h=135&c=7&rs=1&o=5&pid=1.9)"
      ],
      "text/plain": [
       "<IPython.core.display.Markdown object>"
      ]
     },
     "metadata": {},
     "output_type": "display_data"
    },
    {
     "data": {
      "text/markdown": [
       "![](https://tse1-mm.cn.bing.net/th/id/OET.1ec0493ebfc0451983e24ef7afab32cc?w=272&h=272&c=7&rs=1&o=5&pid=1.9)"
      ],
      "text/plain": [
       "<IPython.core.display.Markdown object>"
      ]
     },
     "metadata": {},
     "output_type": "display_data"
    },
    {
     "data": {
      "text/markdown": [
       "![](https://tse1-mm.cn.bing.net/th/id/OET.1ca1d0f4d5af42f09decbe20d9258e08?w=272&h=135&c=7&rs=1&o=5&pid=1.9)"
      ],
      "text/plain": [
       "<IPython.core.display.Markdown object>"
      ]
     },
     "metadata": {},
     "output_type": "display_data"
    },
    {
     "data": {
      "text/markdown": [
       "![](https://tse1-mm.cn.bing.net/th/id/OET.ac36515ef40d41ce872ad24873b2b01e?w=272&h=135&c=7&rs=1&o=5&pid=1.9)"
      ],
      "text/plain": [
       "<IPython.core.display.Markdown object>"
      ]
     },
     "metadata": {},
     "output_type": "display_data"
    },
    {
     "data": {
      "text/markdown": [
       "![](https://tse1-mm.cn.bing.net/th/id/OET.191598f3fd704b93a141faa025145673?w=272&h=135&c=7&rs=1&o=5&pid=1.9)"
      ],
      "text/plain": [
       "<IPython.core.display.Markdown object>"
      ]
     },
     "metadata": {},
     "output_type": "display_data"
    },
    {
     "data": {
      "text/markdown": [
       "![](https://tse1-mm.cn.bing.net/th/id/OET.eff35fefece14bc999ae04aa7c012c2c?w=272&h=135&c=7&rs=1&o=5&pid=1.9)"
      ],
      "text/plain": [
       "<IPython.core.display.Markdown object>"
      ]
     },
     "metadata": {},
     "output_type": "display_data"
    },
    {
     "data": {
      "text/markdown": [
       "![](https://tse1-mm.cn.bing.net/th/id/OET.5354bdc5fb5143968c7b8dcda370919e?w=272&h=135&c=7&rs=1&o=5&pid=1.9)"
      ],
      "text/plain": [
       "<IPython.core.display.Markdown object>"
      ]
     },
     "metadata": {},
     "output_type": "display_data"
    },
    {
     "data": {
      "text/markdown": [
       "![](https://tse1-mm.cn.bing.net/th/id/OET.0c681e62143e49929c2f44e30ab61b90?w=272&h=135&c=7&rs=1&o=5&pid=1.9)"
      ],
      "text/plain": [
       "<IPython.core.display.Markdown object>"
      ]
     },
     "metadata": {},
     "output_type": "display_data"
    },
    {
     "data": {
      "text/markdown": [
       "![](https://tse1-mm.cn.bing.net/th/id/OET.738c80cb3daa48e79b6f29f100ec42ed?w=135&h=135&c=7&rs=1&o=5&pid=1.9)"
      ],
      "text/plain": [
       "<IPython.core.display.Markdown object>"
      ]
     },
     "metadata": {},
     "output_type": "display_data"
    },
    {
     "data": {
      "text/markdown": [
       "![](https://tse1-mm.cn.bing.net/th/id/OET.8ec6c4aee5194b0a896db5ef3191afab?w=135&h=135&c=7&rs=1&o=5&pid=1.9)"
      ],
      "text/plain": [
       "<IPython.core.display.Markdown object>"
      ]
     },
     "metadata": {},
     "output_type": "display_data"
    },
    {
     "data": {
      "text/markdown": [
       "![](https://tse1-mm.cn.bing.net/th/id/OET.7706e7f7221949bcb5f237c4fbfb7bc2?w=135&h=135&c=7&rs=1&o=5&pid=1.9)"
      ],
      "text/plain": [
       "<IPython.core.display.Markdown object>"
      ]
     },
     "metadata": {},
     "output_type": "display_data"
    },
    {
     "data": {
      "text/markdown": [
       "![](https://tse1-mm.cn.bing.net/th/id/OET.78ff3df35c654a4b913b297134bd63e0?w=135&h=135&c=7&rs=1&o=5&pid=1.9)"
      ],
      "text/plain": [
       "<IPython.core.display.Markdown object>"
      ]
     },
     "metadata": {},
     "output_type": "display_data"
    },
    {
     "data": {
      "text/markdown": [
       "![](https://tse1-mm.cn.bing.net/th/id/OET.409ef668387749e4af68a0dfce45c983?w=272&h=272&c=7&rs=1&o=5&pid=1.9)"
      ],
      "text/plain": [
       "<IPython.core.display.Markdown object>"
      ]
     },
     "metadata": {},
     "output_type": "display_data"
    },
    {
     "data": {
      "text/markdown": [
       "![](https://tse1-mm.cn.bing.net/th/id/OET.9ad45a55f5ac4133909b7cf15cc36fde?w=272&h=135&c=7&rs=1&o=5&pid=1.9)"
      ],
      "text/plain": [
       "<IPython.core.display.Markdown object>"
      ]
     },
     "metadata": {},
     "output_type": "display_data"
    },
    {
     "data": {
      "text/markdown": [
       "![](https://tse1-mm.cn.bing.net/th/id/OET.ae179eedbe6e425484b14c8978fa4079?w=272&h=135&c=7&rs=1&o=5&pid=1.9)"
      ],
      "text/plain": [
       "<IPython.core.display.Markdown object>"
      ]
     },
     "metadata": {},
     "output_type": "display_data"
    },
    {
     "data": {
      "text/markdown": [
       "![](https://tse1-mm.cn.bing.net/th/id/OET.164bf99f079a41c69d9fa0c349fa825f?w=272&h=135&c=7&rs=1&o=5&pid=1.9)"
      ],
      "text/plain": [
       "<IPython.core.display.Markdown object>"
      ]
     },
     "metadata": {},
     "output_type": "display_data"
    },
    {
     "data": {
      "text/markdown": [
       "![](https://tse1-mm.cn.bing.net/th/id/OET.9fb2529795ce419bb3f96a701a0edb36?w=272&h=135&c=7&rs=1&o=5&pid=1.9)"
      ],
      "text/plain": [
       "<IPython.core.display.Markdown object>"
      ]
     },
     "metadata": {},
     "output_type": "display_data"
    },
    {
     "data": {
      "text/markdown": [
       "![](https://tse1-mm.cn.bing.net/th/id/OET.3e3a5b91f801498984228dcc9ba6b743?w=272&h=135&c=7&rs=1&o=5&pid=1.9)"
      ],
      "text/plain": [
       "<IPython.core.display.Markdown object>"
      ]
     },
     "metadata": {},
     "output_type": "display_data"
    },
    {
     "data": {
      "text/markdown": [
       "![](https://tse1-mm.cn.bing.net/th/id/OET.81582f824b024116a5b7a91c185f968e?w=272&h=135&c=7&rs=1&o=5&pid=1.9)"
      ],
      "text/plain": [
       "<IPython.core.display.Markdown object>"
      ]
     },
     "metadata": {},
     "output_type": "display_data"
    },
    {
     "data": {
      "text/markdown": [
       "![](https://tse1-mm.cn.bing.net/th/id/OET.e255cd1d563846faa4b1551556a2b85d?w=135&h=135&c=7&rs=1&o=5&pid=1.9)"
      ],
      "text/plain": [
       "<IPython.core.display.Markdown object>"
      ]
     },
     "metadata": {},
     "output_type": "display_data"
    },
    {
     "data": {
      "text/markdown": [
       "![](https://tse1-mm.cn.bing.net/th/id/OET.6a0f85e050a54119a65ebecacd4d203a?w=135&h=135&c=7&rs=1&o=5&pid=1.9)"
      ],
      "text/plain": [
       "<IPython.core.display.Markdown object>"
      ]
     },
     "metadata": {},
     "output_type": "display_data"
    },
    {
     "data": {
      "text/markdown": [
       "![](https://tse1-mm.cn.bing.net/th/id/OET.2a67a683253746ae8f1062188c0d0c49?w=135&h=135&c=7&rs=1&o=5&pid=1.9)"
      ],
      "text/plain": [
       "<IPython.core.display.Markdown object>"
      ]
     },
     "metadata": {},
     "output_type": "display_data"
    },
    {
     "data": {
      "text/markdown": [
       "![](https://tse1-mm.cn.bing.net/th/id/OET.0c734667886f4459af7239e907d705f7?w=135&h=135&c=7&rs=1&o=5&pid=1.9)"
      ],
      "text/plain": [
       "<IPython.core.display.Markdown object>"
      ]
     },
     "metadata": {},
     "output_type": "display_data"
    },
    {
     "data": {
      "text/markdown": [
       "![](/rs/5g/LB/ic/ytiieusXgM2K8bLkEDP-AS1ePds.png)"
      ],
      "text/plain": [
       "<IPython.core.display.Markdown object>"
      ]
     },
     "metadata": {},
     "output_type": "display_data"
    }
   ],
   "source": [
    "from requests_html import HTMLSession\n",
    "\n",
    "session = HTMLSession()\n",
    "\n",
    "r = session.get(\"https://cn.bing.com/images/trending\")\n",
    "\n",
    "# 通过xpath找到工作标签\n",
    "items = r.html.xpath('//img/@src')\n",
    "\n",
    "for url in items:\n",
    "#     print(url)  # 获得图片src url\n",
    "    display(Markdown('![]({url})'.format(url=url)))  # 展示图片    "
   ]
  },
  {
   "cell_type": "markdown",
   "metadata": {},
   "source": [
    "# 爬图和豆瓣\n"
   ]
  },
  {
   "cell_type": "markdown",
   "metadata": {},
   "source": [
    "## 图"
   ]
  },
  {
   "cell_type": "code",
   "execution_count": 7,
   "metadata": {},
   "outputs": [],
   "source": [
    "import pandas as pd\n",
    "\n",
    "\n",
    "URL_src = { \"HTTP状态狗\" : \"https://httpstatusdogs.com/\",\n",
    "           \"豆瓣电影排行榜\" : \"https://movie.douban.com/chart\"  }\n"
   ]
  },
  {
   "cell_type": "code",
   "execution_count": 8,
   "metadata": {},
   "outputs": [
    {
     "ename": "HTTPError",
     "evalue": "HTTP Error 403: Forbidden",
     "output_type": "error",
     "traceback": [
      "\u001b[0;31m---------------------------------------------------------------------------\u001b[0m",
      "\u001b[0;31mHTTPError\u001b[0m                                 Traceback (most recent call last)",
      "\u001b[0;32m<ipython-input-8-4115974cd6be>\u001b[0m in \u001b[0;36m<module>\u001b[0;34m\u001b[0m\n\u001b[0;32m----> 1\u001b[0;31m \u001b[0mdf\u001b[0m \u001b[0;34m=\u001b[0m \u001b[0mpd\u001b[0m\u001b[0;34m.\u001b[0m\u001b[0mread_html\u001b[0m\u001b[0;34m(\u001b[0m\u001b[0mURL_src\u001b[0m\u001b[0;34m[\u001b[0m\u001b[0;34m'HTTP状态狗'\u001b[0m\u001b[0;34m]\u001b[0m\u001b[0;34m,\u001b[0m \u001b[0mencoding\u001b[0m\u001b[0;34m=\u001b[0m\u001b[0;34m\"utf8\"\u001b[0m\u001b[0;34m,\u001b[0m \u001b[0mheader\u001b[0m\u001b[0;34m=\u001b[0m\u001b[0;36m0\u001b[0m\u001b[0;34m,\u001b[0m \u001b[0mindex_col\u001b[0m\u001b[0;34m=\u001b[0m\u001b[0;36m0\u001b[0m\u001b[0;34m)\u001b[0m\u001b[0;34m\u001b[0m\u001b[0;34m\u001b[0m\u001b[0m\n\u001b[0m",
      "\u001b[0;32m~/anaconda3/lib/python3.7/site-packages/pandas/io/html.py\u001b[0m in \u001b[0;36mread_html\u001b[0;34m(io, match, flavor, header, index_col, skiprows, attrs, parse_dates, thousands, encoding, decimal, converters, na_values, keep_default_na, displayed_only)\u001b[0m\n\u001b[1;32m   1098\u001b[0m         \u001b[0mna_values\u001b[0m\u001b[0;34m=\u001b[0m\u001b[0mna_values\u001b[0m\u001b[0;34m,\u001b[0m\u001b[0;34m\u001b[0m\u001b[0;34m\u001b[0m\u001b[0m\n\u001b[1;32m   1099\u001b[0m         \u001b[0mkeep_default_na\u001b[0m\u001b[0;34m=\u001b[0m\u001b[0mkeep_default_na\u001b[0m\u001b[0;34m,\u001b[0m\u001b[0;34m\u001b[0m\u001b[0;34m\u001b[0m\u001b[0m\n\u001b[0;32m-> 1100\u001b[0;31m         \u001b[0mdisplayed_only\u001b[0m\u001b[0;34m=\u001b[0m\u001b[0mdisplayed_only\u001b[0m\u001b[0;34m,\u001b[0m\u001b[0;34m\u001b[0m\u001b[0;34m\u001b[0m\u001b[0m\n\u001b[0m\u001b[1;32m   1101\u001b[0m     )\n",
      "\u001b[0;32m~/anaconda3/lib/python3.7/site-packages/pandas/io/html.py\u001b[0m in \u001b[0;36m_parse\u001b[0;34m(flavor, io, match, attrs, encoding, displayed_only, **kwargs)\u001b[0m\n\u001b[1;32m    893\u001b[0m \u001b[0;34m\u001b[0m\u001b[0m\n\u001b[1;32m    894\u001b[0m         \u001b[0;32mtry\u001b[0m\u001b[0;34m:\u001b[0m\u001b[0;34m\u001b[0m\u001b[0;34m\u001b[0m\u001b[0m\n\u001b[0;32m--> 895\u001b[0;31m             \u001b[0mtables\u001b[0m \u001b[0;34m=\u001b[0m \u001b[0mp\u001b[0m\u001b[0;34m.\u001b[0m\u001b[0mparse_tables\u001b[0m\u001b[0;34m(\u001b[0m\u001b[0;34m)\u001b[0m\u001b[0;34m\u001b[0m\u001b[0;34m\u001b[0m\u001b[0m\n\u001b[0m\u001b[1;32m    896\u001b[0m         \u001b[0;32mexcept\u001b[0m \u001b[0mValueError\u001b[0m \u001b[0;32mas\u001b[0m \u001b[0mcaught\u001b[0m\u001b[0;34m:\u001b[0m\u001b[0;34m\u001b[0m\u001b[0;34m\u001b[0m\u001b[0m\n\u001b[1;32m    897\u001b[0m             \u001b[0;31m# if `io` is an io-like object, check if it's seekable\u001b[0m\u001b[0;34m\u001b[0m\u001b[0;34m\u001b[0m\u001b[0;34m\u001b[0m\u001b[0m\n",
      "\u001b[0;32m~/anaconda3/lib/python3.7/site-packages/pandas/io/html.py\u001b[0m in \u001b[0;36mparse_tables\u001b[0;34m(self)\u001b[0m\n\u001b[1;32m    211\u001b[0m         \u001b[0mlist\u001b[0m \u001b[0mof\u001b[0m \u001b[0mparsed\u001b[0m \u001b[0;34m(\u001b[0m\u001b[0mheader\u001b[0m\u001b[0;34m,\u001b[0m \u001b[0mbody\u001b[0m\u001b[0;34m,\u001b[0m \u001b[0mfooter\u001b[0m\u001b[0;34m)\u001b[0m \u001b[0mtuples\u001b[0m \u001b[0;32mfrom\u001b[0m \u001b[0mtables\u001b[0m\u001b[0;34m.\u001b[0m\u001b[0;34m\u001b[0m\u001b[0;34m\u001b[0m\u001b[0m\n\u001b[1;32m    212\u001b[0m         \"\"\"\n\u001b[0;32m--> 213\u001b[0;31m         \u001b[0mtables\u001b[0m \u001b[0;34m=\u001b[0m \u001b[0mself\u001b[0m\u001b[0;34m.\u001b[0m\u001b[0m_parse_tables\u001b[0m\u001b[0;34m(\u001b[0m\u001b[0mself\u001b[0m\u001b[0;34m.\u001b[0m\u001b[0m_build_doc\u001b[0m\u001b[0;34m(\u001b[0m\u001b[0;34m)\u001b[0m\u001b[0;34m,\u001b[0m \u001b[0mself\u001b[0m\u001b[0;34m.\u001b[0m\u001b[0mmatch\u001b[0m\u001b[0;34m,\u001b[0m \u001b[0mself\u001b[0m\u001b[0;34m.\u001b[0m\u001b[0mattrs\u001b[0m\u001b[0;34m)\u001b[0m\u001b[0;34m\u001b[0m\u001b[0;34m\u001b[0m\u001b[0m\n\u001b[0m\u001b[1;32m    214\u001b[0m         \u001b[0;32mreturn\u001b[0m \u001b[0;34m(\u001b[0m\u001b[0mself\u001b[0m\u001b[0;34m.\u001b[0m\u001b[0m_parse_thead_tbody_tfoot\u001b[0m\u001b[0;34m(\u001b[0m\u001b[0mtable\u001b[0m\u001b[0;34m)\u001b[0m \u001b[0;32mfor\u001b[0m \u001b[0mtable\u001b[0m \u001b[0;32min\u001b[0m \u001b[0mtables\u001b[0m\u001b[0;34m)\u001b[0m\u001b[0;34m\u001b[0m\u001b[0;34m\u001b[0m\u001b[0m\n\u001b[1;32m    215\u001b[0m \u001b[0;34m\u001b[0m\u001b[0m\n",
      "\u001b[0;32m~/anaconda3/lib/python3.7/site-packages/pandas/io/html.py\u001b[0m in \u001b[0;36m_build_doc\u001b[0;34m(self)\u001b[0m\n\u001b[1;32m    731\u001b[0m                     \u001b[0;32mpass\u001b[0m\u001b[0;34m\u001b[0m\u001b[0;34m\u001b[0m\u001b[0m\n\u001b[1;32m    732\u001b[0m             \u001b[0;32melse\u001b[0m\u001b[0;34m:\u001b[0m\u001b[0;34m\u001b[0m\u001b[0;34m\u001b[0m\u001b[0m\n\u001b[0;32m--> 733\u001b[0;31m                 \u001b[0;32mraise\u001b[0m \u001b[0me\u001b[0m\u001b[0;34m\u001b[0m\u001b[0;34m\u001b[0m\u001b[0m\n\u001b[0m\u001b[1;32m    734\u001b[0m         \u001b[0;32melse\u001b[0m\u001b[0;34m:\u001b[0m\u001b[0;34m\u001b[0m\u001b[0;34m\u001b[0m\u001b[0m\n\u001b[1;32m    735\u001b[0m             \u001b[0;32mif\u001b[0m \u001b[0;32mnot\u001b[0m \u001b[0mhasattr\u001b[0m\u001b[0;34m(\u001b[0m\u001b[0mr\u001b[0m\u001b[0;34m,\u001b[0m \u001b[0;34m\"text_content\"\u001b[0m\u001b[0;34m)\u001b[0m\u001b[0;34m:\u001b[0m\u001b[0;34m\u001b[0m\u001b[0;34m\u001b[0m\u001b[0m\n",
      "\u001b[0;32m~/anaconda3/lib/python3.7/site-packages/pandas/io/html.py\u001b[0m in \u001b[0;36m_build_doc\u001b[0;34m(self)\u001b[0m\n\u001b[1;32m    712\u001b[0m         \u001b[0;32mtry\u001b[0m\u001b[0;34m:\u001b[0m\u001b[0;34m\u001b[0m\u001b[0;34m\u001b[0m\u001b[0m\n\u001b[1;32m    713\u001b[0m             \u001b[0;32mif\u001b[0m \u001b[0mis_url\u001b[0m\u001b[0;34m(\u001b[0m\u001b[0mself\u001b[0m\u001b[0;34m.\u001b[0m\u001b[0mio\u001b[0m\u001b[0;34m)\u001b[0m\u001b[0;34m:\u001b[0m\u001b[0;34m\u001b[0m\u001b[0;34m\u001b[0m\u001b[0m\n\u001b[0;32m--> 714\u001b[0;31m                 \u001b[0;32mwith\u001b[0m \u001b[0murlopen\u001b[0m\u001b[0;34m(\u001b[0m\u001b[0mself\u001b[0m\u001b[0;34m.\u001b[0m\u001b[0mio\u001b[0m\u001b[0;34m)\u001b[0m \u001b[0;32mas\u001b[0m \u001b[0mf\u001b[0m\u001b[0;34m:\u001b[0m\u001b[0;34m\u001b[0m\u001b[0;34m\u001b[0m\u001b[0m\n\u001b[0m\u001b[1;32m    715\u001b[0m                     \u001b[0mr\u001b[0m \u001b[0;34m=\u001b[0m \u001b[0mparse\u001b[0m\u001b[0;34m(\u001b[0m\u001b[0mf\u001b[0m\u001b[0;34m,\u001b[0m \u001b[0mparser\u001b[0m\u001b[0;34m=\u001b[0m\u001b[0mparser\u001b[0m\u001b[0;34m)\u001b[0m\u001b[0;34m\u001b[0m\u001b[0;34m\u001b[0m\u001b[0m\n\u001b[1;32m    716\u001b[0m             \u001b[0;32melse\u001b[0m\u001b[0;34m:\u001b[0m\u001b[0;34m\u001b[0m\u001b[0;34m\u001b[0m\u001b[0m\n",
      "\u001b[0;32m~/anaconda3/lib/python3.7/site-packages/pandas/io/common.py\u001b[0m in \u001b[0;36murlopen\u001b[0;34m(*args, **kwargs)\u001b[0m\n\u001b[1;32m    139\u001b[0m     \u001b[0;32mimport\u001b[0m \u001b[0murllib\u001b[0m\u001b[0;34m.\u001b[0m\u001b[0mrequest\u001b[0m\u001b[0;34m\u001b[0m\u001b[0;34m\u001b[0m\u001b[0m\n\u001b[1;32m    140\u001b[0m \u001b[0;34m\u001b[0m\u001b[0m\n\u001b[0;32m--> 141\u001b[0;31m     \u001b[0;32mreturn\u001b[0m \u001b[0murllib\u001b[0m\u001b[0;34m.\u001b[0m\u001b[0mrequest\u001b[0m\u001b[0;34m.\u001b[0m\u001b[0murlopen\u001b[0m\u001b[0;34m(\u001b[0m\u001b[0;34m*\u001b[0m\u001b[0margs\u001b[0m\u001b[0;34m,\u001b[0m \u001b[0;34m**\u001b[0m\u001b[0mkwargs\u001b[0m\u001b[0;34m)\u001b[0m\u001b[0;34m\u001b[0m\u001b[0;34m\u001b[0m\u001b[0m\n\u001b[0m\u001b[1;32m    142\u001b[0m \u001b[0;34m\u001b[0m\u001b[0m\n\u001b[1;32m    143\u001b[0m \u001b[0;34m\u001b[0m\u001b[0m\n",
      "\u001b[0;32m~/anaconda3/lib/python3.7/urllib/request.py\u001b[0m in \u001b[0;36murlopen\u001b[0;34m(url, data, timeout, cafile, capath, cadefault, context)\u001b[0m\n\u001b[1;32m    220\u001b[0m     \u001b[0;32melse\u001b[0m\u001b[0;34m:\u001b[0m\u001b[0;34m\u001b[0m\u001b[0;34m\u001b[0m\u001b[0m\n\u001b[1;32m    221\u001b[0m         \u001b[0mopener\u001b[0m \u001b[0;34m=\u001b[0m \u001b[0m_opener\u001b[0m\u001b[0;34m\u001b[0m\u001b[0;34m\u001b[0m\u001b[0m\n\u001b[0;32m--> 222\u001b[0;31m     \u001b[0;32mreturn\u001b[0m \u001b[0mopener\u001b[0m\u001b[0;34m.\u001b[0m\u001b[0mopen\u001b[0m\u001b[0;34m(\u001b[0m\u001b[0murl\u001b[0m\u001b[0;34m,\u001b[0m \u001b[0mdata\u001b[0m\u001b[0;34m,\u001b[0m \u001b[0mtimeout\u001b[0m\u001b[0;34m)\u001b[0m\u001b[0;34m\u001b[0m\u001b[0;34m\u001b[0m\u001b[0m\n\u001b[0m\u001b[1;32m    223\u001b[0m \u001b[0;34m\u001b[0m\u001b[0m\n\u001b[1;32m    224\u001b[0m \u001b[0;32mdef\u001b[0m \u001b[0minstall_opener\u001b[0m\u001b[0;34m(\u001b[0m\u001b[0mopener\u001b[0m\u001b[0;34m)\u001b[0m\u001b[0;34m:\u001b[0m\u001b[0;34m\u001b[0m\u001b[0;34m\u001b[0m\u001b[0m\n",
      "\u001b[0;32m~/anaconda3/lib/python3.7/urllib/request.py\u001b[0m in \u001b[0;36mopen\u001b[0;34m(self, fullurl, data, timeout)\u001b[0m\n\u001b[1;32m    529\u001b[0m         \u001b[0;32mfor\u001b[0m \u001b[0mprocessor\u001b[0m \u001b[0;32min\u001b[0m \u001b[0mself\u001b[0m\u001b[0;34m.\u001b[0m\u001b[0mprocess_response\u001b[0m\u001b[0;34m.\u001b[0m\u001b[0mget\u001b[0m\u001b[0;34m(\u001b[0m\u001b[0mprotocol\u001b[0m\u001b[0;34m,\u001b[0m \u001b[0;34m[\u001b[0m\u001b[0;34m]\u001b[0m\u001b[0;34m)\u001b[0m\u001b[0;34m:\u001b[0m\u001b[0;34m\u001b[0m\u001b[0;34m\u001b[0m\u001b[0m\n\u001b[1;32m    530\u001b[0m             \u001b[0mmeth\u001b[0m \u001b[0;34m=\u001b[0m \u001b[0mgetattr\u001b[0m\u001b[0;34m(\u001b[0m\u001b[0mprocessor\u001b[0m\u001b[0;34m,\u001b[0m \u001b[0mmeth_name\u001b[0m\u001b[0;34m)\u001b[0m\u001b[0;34m\u001b[0m\u001b[0;34m\u001b[0m\u001b[0m\n\u001b[0;32m--> 531\u001b[0;31m             \u001b[0mresponse\u001b[0m \u001b[0;34m=\u001b[0m \u001b[0mmeth\u001b[0m\u001b[0;34m(\u001b[0m\u001b[0mreq\u001b[0m\u001b[0;34m,\u001b[0m \u001b[0mresponse\u001b[0m\u001b[0;34m)\u001b[0m\u001b[0;34m\u001b[0m\u001b[0;34m\u001b[0m\u001b[0m\n\u001b[0m\u001b[1;32m    532\u001b[0m \u001b[0;34m\u001b[0m\u001b[0m\n\u001b[1;32m    533\u001b[0m         \u001b[0;32mreturn\u001b[0m \u001b[0mresponse\u001b[0m\u001b[0;34m\u001b[0m\u001b[0;34m\u001b[0m\u001b[0m\n",
      "\u001b[0;32m~/anaconda3/lib/python3.7/urllib/request.py\u001b[0m in \u001b[0;36mhttp_response\u001b[0;34m(self, request, response)\u001b[0m\n\u001b[1;32m    639\u001b[0m         \u001b[0;32mif\u001b[0m \u001b[0;32mnot\u001b[0m \u001b[0;34m(\u001b[0m\u001b[0;36m200\u001b[0m \u001b[0;34m<=\u001b[0m \u001b[0mcode\u001b[0m \u001b[0;34m<\u001b[0m \u001b[0;36m300\u001b[0m\u001b[0;34m)\u001b[0m\u001b[0;34m:\u001b[0m\u001b[0;34m\u001b[0m\u001b[0;34m\u001b[0m\u001b[0m\n\u001b[1;32m    640\u001b[0m             response = self.parent.error(\n\u001b[0;32m--> 641\u001b[0;31m                 'http', request, response, code, msg, hdrs)\n\u001b[0m\u001b[1;32m    642\u001b[0m \u001b[0;34m\u001b[0m\u001b[0m\n\u001b[1;32m    643\u001b[0m         \u001b[0;32mreturn\u001b[0m \u001b[0mresponse\u001b[0m\u001b[0;34m\u001b[0m\u001b[0;34m\u001b[0m\u001b[0m\n",
      "\u001b[0;32m~/anaconda3/lib/python3.7/urllib/request.py\u001b[0m in \u001b[0;36merror\u001b[0;34m(self, proto, *args)\u001b[0m\n\u001b[1;32m    567\u001b[0m         \u001b[0;32mif\u001b[0m \u001b[0mhttp_err\u001b[0m\u001b[0;34m:\u001b[0m\u001b[0;34m\u001b[0m\u001b[0;34m\u001b[0m\u001b[0m\n\u001b[1;32m    568\u001b[0m             \u001b[0margs\u001b[0m \u001b[0;34m=\u001b[0m \u001b[0;34m(\u001b[0m\u001b[0mdict\u001b[0m\u001b[0;34m,\u001b[0m \u001b[0;34m'default'\u001b[0m\u001b[0;34m,\u001b[0m \u001b[0;34m'http_error_default'\u001b[0m\u001b[0;34m)\u001b[0m \u001b[0;34m+\u001b[0m \u001b[0morig_args\u001b[0m\u001b[0;34m\u001b[0m\u001b[0;34m\u001b[0m\u001b[0m\n\u001b[0;32m--> 569\u001b[0;31m             \u001b[0;32mreturn\u001b[0m \u001b[0mself\u001b[0m\u001b[0;34m.\u001b[0m\u001b[0m_call_chain\u001b[0m\u001b[0;34m(\u001b[0m\u001b[0;34m*\u001b[0m\u001b[0margs\u001b[0m\u001b[0;34m)\u001b[0m\u001b[0;34m\u001b[0m\u001b[0;34m\u001b[0m\u001b[0m\n\u001b[0m\u001b[1;32m    570\u001b[0m \u001b[0;34m\u001b[0m\u001b[0m\n\u001b[1;32m    571\u001b[0m \u001b[0;31m# XXX probably also want an abstract factory that knows when it makes\u001b[0m\u001b[0;34m\u001b[0m\u001b[0;34m\u001b[0m\u001b[0;34m\u001b[0m\u001b[0m\n",
      "\u001b[0;32m~/anaconda3/lib/python3.7/urllib/request.py\u001b[0m in \u001b[0;36m_call_chain\u001b[0;34m(self, chain, kind, meth_name, *args)\u001b[0m\n\u001b[1;32m    501\u001b[0m         \u001b[0;32mfor\u001b[0m \u001b[0mhandler\u001b[0m \u001b[0;32min\u001b[0m \u001b[0mhandlers\u001b[0m\u001b[0;34m:\u001b[0m\u001b[0;34m\u001b[0m\u001b[0;34m\u001b[0m\u001b[0m\n\u001b[1;32m    502\u001b[0m             \u001b[0mfunc\u001b[0m \u001b[0;34m=\u001b[0m \u001b[0mgetattr\u001b[0m\u001b[0;34m(\u001b[0m\u001b[0mhandler\u001b[0m\u001b[0;34m,\u001b[0m \u001b[0mmeth_name\u001b[0m\u001b[0;34m)\u001b[0m\u001b[0;34m\u001b[0m\u001b[0;34m\u001b[0m\u001b[0m\n\u001b[0;32m--> 503\u001b[0;31m             \u001b[0mresult\u001b[0m \u001b[0;34m=\u001b[0m \u001b[0mfunc\u001b[0m\u001b[0;34m(\u001b[0m\u001b[0;34m*\u001b[0m\u001b[0margs\u001b[0m\u001b[0;34m)\u001b[0m\u001b[0;34m\u001b[0m\u001b[0;34m\u001b[0m\u001b[0m\n\u001b[0m\u001b[1;32m    504\u001b[0m             \u001b[0;32mif\u001b[0m \u001b[0mresult\u001b[0m \u001b[0;32mis\u001b[0m \u001b[0;32mnot\u001b[0m \u001b[0;32mNone\u001b[0m\u001b[0;34m:\u001b[0m\u001b[0;34m\u001b[0m\u001b[0;34m\u001b[0m\u001b[0m\n\u001b[1;32m    505\u001b[0m                 \u001b[0;32mreturn\u001b[0m \u001b[0mresult\u001b[0m\u001b[0;34m\u001b[0m\u001b[0;34m\u001b[0m\u001b[0m\n",
      "\u001b[0;32m~/anaconda3/lib/python3.7/urllib/request.py\u001b[0m in \u001b[0;36mhttp_error_default\u001b[0;34m(self, req, fp, code, msg, hdrs)\u001b[0m\n\u001b[1;32m    647\u001b[0m \u001b[0;32mclass\u001b[0m \u001b[0mHTTPDefaultErrorHandler\u001b[0m\u001b[0;34m(\u001b[0m\u001b[0mBaseHandler\u001b[0m\u001b[0;34m)\u001b[0m\u001b[0;34m:\u001b[0m\u001b[0;34m\u001b[0m\u001b[0;34m\u001b[0m\u001b[0m\n\u001b[1;32m    648\u001b[0m     \u001b[0;32mdef\u001b[0m \u001b[0mhttp_error_default\u001b[0m\u001b[0;34m(\u001b[0m\u001b[0mself\u001b[0m\u001b[0;34m,\u001b[0m \u001b[0mreq\u001b[0m\u001b[0;34m,\u001b[0m \u001b[0mfp\u001b[0m\u001b[0;34m,\u001b[0m \u001b[0mcode\u001b[0m\u001b[0;34m,\u001b[0m \u001b[0mmsg\u001b[0m\u001b[0;34m,\u001b[0m \u001b[0mhdrs\u001b[0m\u001b[0;34m)\u001b[0m\u001b[0;34m:\u001b[0m\u001b[0;34m\u001b[0m\u001b[0;34m\u001b[0m\u001b[0m\n\u001b[0;32m--> 649\u001b[0;31m         \u001b[0;32mraise\u001b[0m \u001b[0mHTTPError\u001b[0m\u001b[0;34m(\u001b[0m\u001b[0mreq\u001b[0m\u001b[0;34m.\u001b[0m\u001b[0mfull_url\u001b[0m\u001b[0;34m,\u001b[0m \u001b[0mcode\u001b[0m\u001b[0;34m,\u001b[0m \u001b[0mmsg\u001b[0m\u001b[0;34m,\u001b[0m \u001b[0mhdrs\u001b[0m\u001b[0;34m,\u001b[0m \u001b[0mfp\u001b[0m\u001b[0;34m)\u001b[0m\u001b[0;34m\u001b[0m\u001b[0;34m\u001b[0m\u001b[0m\n\u001b[0m\u001b[1;32m    650\u001b[0m \u001b[0;34m\u001b[0m\u001b[0m\n\u001b[1;32m    651\u001b[0m \u001b[0;32mclass\u001b[0m \u001b[0mHTTPRedirectHandler\u001b[0m\u001b[0;34m(\u001b[0m\u001b[0mBaseHandler\u001b[0m\u001b[0;34m)\u001b[0m\u001b[0;34m:\u001b[0m\u001b[0;34m\u001b[0m\u001b[0;34m\u001b[0m\u001b[0m\n",
      "\u001b[0;31mHTTPError\u001b[0m: HTTP Error 403: Forbidden"
     ]
    }
   ],
   "source": [
    "df = pd.read_html(URL_src['HTTP状态狗'], encoding=\"utf8\", header=0, index_col=0)\n",
    "\n",
    "\n",
    "# 会出现403报错"
   ]
  },
  {
   "cell_type": "code",
   "execution_count": 10,
   "metadata": {},
   "outputs": [],
   "source": [
    "# 为什么？没找到内容？要请求内容，才会返回。\n"
   ]
  },
  {
   "cell_type": "markdown",
   "metadata": {},
   "source": [
    "**改试 requests + lxml**"
   ]
  },
  {
   "cell_type": "code",
   "execution_count": 11,
   "metadata": {},
   "outputs": [
    {
     "name": "stdout",
     "output_type": "stream",
     "text": [
      "200 b'<!doctype html>\\n<html lang=\"en\">\\n<head>\\n<meta charset=\"utf-8\" />\\n<meta http-equiv=\"X-UA-Compatible\" content=\"IE=edge,chrome=1\" />\\n<title>HTTP Status Dogs</title>\\n<meta name=\"rating\" content=\"general\" />\\n<meta name=\"subject\" content=\"Hypertext Transfer Protocol Response status codes. And dogs.\" />\\n<meta name=\"author\" content=\"Mike Lee\" />\\n<meta name=\"publisher\" content=\"HTTP Status Dogs\" />\\n<meta name=\"copyright\" content=\"Mike Lee\" />\\n<meta name=\"host\" content=\"httpstatusdogs.com\" />\\n<meta name=\"description\" content=\"HTTP Status Dogs. Hypertext Transfer Protocol Response status codes. And dogs.\" />\\n<meta name=\"viewport\" content=\"width=device-width, initial-scale=1\">\\n<meta property=\"og:type\" content=\"website\" />\\n<meta property=\"og:title\" content=\"HTTP Status Dogs\" />\\n<meta property=\"og:description\" content=\"HTTP Status Dogs. Hypertext Transfer Protocol Response status codes. And dogs.\" />\\n<meta property=\"og:image\" content=\"https://httpstatusdogs.com/img/200.jpg\" />\\n<meta property=\"og:site_name\" content=\"HTTP Status Dogs\" />\\n<meta property=\"og:url\" content=\"https://httpstatusdogs.com/\" />\\n<meta name=\"twitter:card\" content=\"summary_large_image\" />\\n<meta name=\"twitter:title\" content=\"HTTP Status Dogs\" />\\n<meta name=\"twitter:description\" content=\"HTTP Status Dogs. Hypertext Transfer Protocol Response status codes. And dogs.\" />\\n<meta name=\"twitter:image\" content=\"https://httpstatusdogs.com/img/200.jpg\" />\\n<meta name=\"twitter:site\" content=\"@mikeeleorg\" />\\n<meta name=\"twitter:creator\" content=\"@mikeeleorg\" />\\n<link rel=\"canonical\" href=\"https://httpstatusdogs.com/\" />\\n<link rel=\"apple-touch-icon\" href=\"apple-touch-icon.png\">\\n<link rel=\"icon\" href=\"https://httpstatusdogs.com/img/paw-32x32.png\" sizes=\"32x32\" type=\"image/png\">\\n<link rel=\"icon\" href=\"https://httpstatusdogs.com/img/paw-48x48.png\" sizes=\"48x48\" type=\"image/png\">\\n<link rel=\"icon\" href=\"https://httpstatusdogs.com/img/paw-62x62.png\" sizes=\"62x62\" type=\"image/png\">\\n<link rel=\"icon\" href=\"https://httpstatusdogs.com/img/paw-192x192.png\" sizes=\"192x192\" type=\"image/png\">\\n<link rel=\"stylesheet\" href=\"https://maxcdn.bootstrapcdn.com/bootstrap/4.0.0-beta/css/bootstrap.min.css\" integrity=\"sha384-/Y6pD6FV/Vv2HJnA6t+vslU6fwYXjCFtcEpHbNJ0lyAFsXTsjBbfaDjzALeQsN6M\" crossorigin=\"anonymous\">\\n<link rel=\"stylesheet\" href=\"/css/styles.css\">\\n<script>\\n\\n  (function(i,s,o,g,r,a,m){i[\\'GoogleAnalyticsObject\\']=r;i[r]=i[r]||function(){\\n  (i[r].q=i[r].q||[]).push(arguments)},i[r].l=1*new Date();a=s.createElement(o),\\n  m=s.getElementsByTagName(o)[0];a.async=1;a.src=g;m.parentNode.insertBefore(a,m)\\n  })(window,document,\\'script\\',\\'https://www.google-analytics.com/analytics.js\\',\\'ga\\');\\n  ga(\\'create\\', \\'UA-316713-16\\', \\'auto\\');\\n  ga(\\'send\\', \\'pageview\\');\\n\\n  </script>\\n</head>\\n<body itemscope itemtype=\"http://schema.org/APIReference\">\\n<header class=\"container-fluid\">\\n<div class=\"row\">\\n<div class=\"col-md-8\">\\n<h1 class=\"site-name\" itemprop=\"author\"><a href=\"https://httpstatusdogs.com/\" itemprop=\"url\">HTTP Status Dogs</a></h1>\\n<h2 class=\"tagline\" itemprop=\"about\">Hypertext Transfer Protocol Response status codes. And dogs.</h2>\\n</div>\\n<div class=\"col-md-4 inspiration\">\\n<div>Inspired by the <a href=\"https://www.flickr.com/photos/girliemac/sets/72157628409467125\">HTTP Status Cats</a> from <a href=\"https://twitter.com/girlie_mac\">@girlie_mac</a> :)</div>\\n</div>\\n</div>\\n</header>\\n<hr>\\n<main class=\"container-fluid\">\\n<div class=\"row\">\\n<div class=\"col-lg-3 col-md-4 col-sm-6 col-xs-12\">\\n<a href=\"100-continue\" class=\"thumbnail\"><img src=\"img/100.jpg\" alt=\"100 Continue\"></a>\\n</div>\\n<div class=\"col-lg-3 col-md-4 col-sm-6 col-xs-12\">\\n<a href=\"200-ok\" class=\"thumbnail\"><img src=\"img/200.jpg\" alt=\"200 OK\"></a>\\n</div>\\n<div class=\"col-lg-3 col-md-4 col-sm-6 col-xs-12\">\\n<a href=\"201-created\" class=\"thumbnail\"><img src=\"img/201.jpg\" alt=\"201 Created\"></a>\\n</div>\\n<div class=\"col-lg-3 col-md-4 col-sm-6 col-xs-12\">\\n<a href=\"202-accepted\" class=\"thumbnail\"><img src=\"img/202.jpg\" alt=\"202 Accepted\"></a>\\n</div>\\n<div class=\"col-lg-3 col-md-4 col-sm-6 col-xs-12\">\\n<a href=\"203-non-authoritative-information\" class=\"thumbnail\"><img src=\"img/203.jpg\" alt=\"203 Non-Authoritative Information\"></a>\\n</div>\\n<div class=\"col-lg-3 col-md-4 col-sm-6 col-xs-12\">\\n<a href=\"204-no-content\" class=\"thumbnail\"><img src=\"img/204.jpg\" alt=\"204 No Content\"></a>\\n</div>\\n<div class=\"col-lg-3 col-md-4 col-sm-6 col-xs-12\">\\n<a href=\"206-partial-content\" class=\"thumbnail\"><img src=\"img/206.jpg\" alt=\"206 Partial Content\"></a>\\n</div>\\n<div class=\"col-lg-3 col-md-4 col-sm-6 col-xs-12\">\\n<a href=\"207-multi-status\" class=\"thumbnail\"><img src=\"img/207.jpg\" alt=\"207 Multi-Status\"></a>\\n</div>\\n<div class=\"col-lg-3 col-md-4 col-sm-6 col-xs-12\">\\n<a href=\"208-already-reported\" class=\"thumbnail\"><img src=\"img/208.jpg\" alt=\"208 Already Reported\"></a>\\n</div>\\n<div class=\"col-lg-3 col-md-4 col-sm-6 col-xs-12\">\\n<a href=\"226-im-used\" class=\"thumbnail\"><img src=\"img/226.jpg\" alt=\"226 IM Used\"></a>\\n</div>\\n<div class=\"col-lg-3 col-md-4 col-sm-6 col-xs-12\">\\n<a href=\"300-multiple-choices\" class=\"thumbnail\"><img src=\"img/300.jpg\" alt=\"300 Multiple Choices\"></a>\\n</div>\\n<div class=\"col-lg-3 col-md-4 col-sm-6 col-xs-12\">\\n<a href=\"301-moved-permanently\" class=\"thumbnail\"><img src=\"img/301.jpg\" alt=\"301 Moved Permanently\"></a>\\n</div>\\n<div class=\"col-lg-3 col-md-4 col-sm-6 col-xs-12\">\\n<a href=\"302-found\" class=\"thumbnail\"><img src=\"img/302.jpg\" alt=\"302 Found\"></a>\\n</div>\\n<div class=\"col-lg-3 col-md-4 col-sm-6 col-xs-12\">\\n<a href=\"303-see-other\" class=\"thumbnail\"><img src=\"img/303.jpg\" alt=\"303 See Other\"></a>\\n</div>\\n<div class=\"col-lg-3 col-md-4 col-sm-6 col-xs-12\">\\n<a href=\"304-not-modified\" class=\"thumbnail\"><img src=\"img/304.jpg\" alt=\"304 Not Modified\"></a>\\n</div>\\n<div class=\"col-lg-3 col-md-4 col-sm-6 col-xs-12\">\\n<a href=\"305-use-proxy\" class=\"thumbnail\"><img src=\"img/305.jpg\" alt=\"305 Use Proxy\"></a>\\n</div>\\n<div class=\"col-lg-3 col-md-4 col-sm-6 col-xs-12\">\\n<a href=\"306-switch-proxy\" class=\"thumbnail\"><img src=\"img/306.jpg\" alt=\"306 Switch Proxy\"></a>\\n</div>\\n<div class=\"col-lg-3 col-md-4 col-sm-6 col-xs-12\">\\n<a href=\"307-temporary-redirect\" class=\"thumbnail\"><img src=\"img/307.jpg\" alt=\"307 Temporary Redirect\"></a>\\n</div>\\n<div class=\"col-lg-3 col-md-4 col-sm-6 col-xs-12\">\\n<a href=\"308-permanent-redirect\" class=\"thumbnail\"><img src=\"img/308.jpg\" alt=\"308 Permanent Redirect\"></a>\\n</div>\\n<div class=\"col-lg-3 col-md-4 col-sm-6 col-xs-12\">\\n<a href=\"400-bad-request\" class=\"thumbnail\"><img src=\"img/400.jpg\" alt=\"400 Bad Request\"></a>\\n</div>\\n<div class=\"col-lg-3 col-md-4 col-sm-6 col-xs-12\">\\n<a href=\"401-unauthorized\" class=\"thumbnail\"><img src=\"img/401.jpg\" alt=\"401 Unauthorized\"></a>\\n</div>\\n<div class=\"col-lg-3 col-md-4 col-sm-6 col-xs-12\">\\n<a href=\"402-payment-required\" class=\"thumbnail\"><img src=\"img/402.jpg\" alt=\"402 Payment Required\"></a>\\n</div>\\n<div class=\"col-lg-3 col-md-4 col-sm-6 col-xs-12\">\\n<a href=\"403-forbidden\" class=\"thumbnail\"><img src=\"img/403.jpg\" alt=\"403 Forbidden\"></a>\\n</div>\\n<div class=\"col-lg-3 col-md-4 col-sm-6 col-xs-12\">\\n<a href=\"404-not-found\" class=\"thumbnail\"><img src=\"img/404.jpg\" alt=\"404 Not Found\"></a>\\n</div>\\n<div class=\"col-lg-3 col-md-4 col-sm-6 col-xs-12\">\\n<a href=\"405-method-not-allowed\" class=\"thumbnail\"><img src=\"img/405.jpg\" alt=\"405 Method Not Allowed\"></a>\\n</div>\\n<div class=\"col-lg-3 col-md-4 col-sm-6 col-xs-12\">\\n<a href=\"406-not-acceptable\" class=\"thumbnail\"><img src=\"img/406.jpg\" alt=\"406 Not Acceptable\"></a>\\n</div>\\n<div class=\"col-lg-3 col-md-4 col-sm-6 col-xs-12\">\\n<a href=\"407-proxy-authentication-required\" class=\"thumbnail\"><img src=\"img/407.jpg\" alt=\"407 Proxy Authentication Required\"></a>\\n</div>\\n<div class=\"col-lg-3 col-md-4 col-sm-6 col-xs-12\">\\n<a href=\"408-request-timeout\" class=\"thumbnail\"><img src=\"img/408.jpg\" alt=\"408 Request Timeout\"></a>\\n</div>\\n<div class=\"col-lg-3 col-md-4 col-sm-6 col-xs-12\">\\n<a href=\"409-conflict\" class=\"thumbnail\"><img src=\"img/409.jpg\" alt=\"409 Conflict\"></a>\\n</div>\\n<div class=\"col-lg-3 col-md-4 col-sm-6 col-xs-12\">\\n<a href=\"410-gone\" class=\"thumbnail\"><img src=\"img/410.jpg\" alt=\"410 Gone\"></a>\\n</div>\\n<div class=\"col-lg-3 col-md-4 col-sm-6 col-xs-12\">\\n<a href=\"411-length-required\" class=\"thumbnail\"><img src=\"img/411.jpg\" alt=\"411 Length Required\"></a>\\n</div>\\n<div class=\"col-lg-3 col-md-4 col-sm-6 col-xs-12\">\\n<a href=\"412-precondition-failed\" class=\"thumbnail\"><img src=\"img/412.jpg\" alt=\"412 Precondition Failed\"></a>\\n</div>\\n<div class=\"col-lg-3 col-md-4 col-sm-6 col-xs-12\">\\n<a href=\"413-request-entity-too-large\" class=\"thumbnail\"><img src=\"img/413.jpg\" alt=\"413 Request Entity Too Large\"></a>\\n</div>\\n<div class=\"col-lg-3 col-md-4 col-sm-6 col-xs-12\">\\n<a href=\"414-request-uri-too-long\" class=\"thumbnail\"><img src=\"img/414.jpg\" alt=\"414 Request-URI Too Long\"></a>\\n</div>\\n<div class=\"col-lg-3 col-md-4 col-sm-6 col-xs-12\">\\n<a href=\"416-requested-range-not-satisfiable\" class=\"thumbnail\"><img src=\"img/416.jpg\" alt=\"416 Requested Range Not Satisfiable\"></a>\\n</div>\\n<div class=\"col-lg-3 col-md-4 col-sm-6 col-xs-12\">\\n<a href=\"417-expectation-failed\" class=\"thumbnail\"><img src=\"img/417.jpg\" alt=\"417 Expectation Failed\"></a>\\n</div>\\n<div class=\"col-lg-3 col-md-4 col-sm-6 col-xs-12\">\\n<a href=\"418-im-a-teapot\" class=\"thumbnail\"><img src=\"img/418.jpg\" alt=\"418 I\\'m a teapot\"></a>\\n</div>\\n<div class=\"col-lg-3 col-md-4 col-sm-6 col-xs-12\">\\n<a href=\"420-enhance-your-calm\" class=\"thumbnail\"><img src=\"img/420.jpg\" alt=\"420 Enhance Your Calm\"></a>\\n</div>\\n<div class=\"col-lg-3 col-md-4 col-sm-6 col-xs-12\">\\n<a href=\"422-unprocessable-entity\" class=\"thumbnail\"><img src=\"img/422.jpg\" alt=\"422 Unprocessable Entity\"></a>\\n</div>\\n<div class=\"col-lg-3 col-md-4 col-sm-6 col-xs-12\">\\n<a href=\"423-locked\" class=\"thumbnail\"><img src=\"img/423.jpg\" alt=\"423 Locked\"></a>\\n</div>\\n<div class=\"col-lg-3 col-md-4 col-sm-6 col-xs-12\">\\n<a href=\"424-failed-dependency\" class=\"thumbnail\"><img src=\"img/424.jpg\" alt=\"424 Failed Dependency\"></a>\\n</div>\\n<div class=\"col-lg-3 col-md-4 col-sm-6 col-xs-12\">\\n<a href=\"425-unordered-collection\" class=\"thumbnail\"><img src=\"img/425.jpg\" alt=\"425 Unordered Collection\"></a>\\n</div>\\n<div class=\"col-lg-3 col-md-4 col-sm-6 col-xs-12\">\\n<a href=\"426-upgrade-required\" class=\"thumbnail\"><img src=\"img/426.jpg\" alt=\"426 Upgrade Required\"></a>\\n</div>\\n<div class=\"col-lg-3 col-md-4 col-sm-6 col-xs-12\">\\n<a href=\"429-too-many-requests\" class=\"thumbnail\"><img src=\"img/429.jpg\" alt=\"429 Too Many Requests\"></a>\\n</div>\\n<div class=\"col-lg-3 col-md-4 col-sm-6 col-xs-12\">\\n<a href=\"431-request-header-fields-too-large\" class=\"thumbnail\"><img src=\"img/431.jpg\" alt=\"431 Request Header Fields Too Large\"></a>\\n</div>\\n<div class=\"col-lg-3 col-md-4 col-sm-6 col-xs-12\">\\n<a href=\"444-no-response\" class=\"thumbnail\"><img src=\"img/444.jpg\" alt=\"444 No Response\"></a>\\n</div>\\n<div class=\"col-lg-3 col-md-4 col-sm-6 col-xs-12\">\\n<a href=\"450-blocked-by-windows-parental-controls\" class=\"thumbnail\"><img src=\"img/450.jpg\" alt=\"450 Blocked by Windows Parental Controls\"></a>\\n</div>\\n<div class=\"col-lg-3 col-md-4 col-sm-6 col-xs-12\">\\n<a href=\"451-unavailable-for-legal-reasons\" class=\"thumbnail\"><img src=\"img/451.jpg\" alt=\"451 Unavailable For Legal Reasons\"></a>\\n</div>\\n<div class=\"col-lg-3 col-md-4 col-sm-6 col-xs-12\">\\n<a href=\"494-request-header-too-large\" class=\"thumbnail\"><img src=\"img/494.jpg\" alt=\"494 Request Header Too Large\"></a>\\n</div>\\n<div class=\"col-lg-3 col-md-4 col-sm-6 col-xs-12\">\\n<a href=\"500-internal-server-error\" class=\"thumbnail\"><img src=\"img/500.jpg\" alt=\"500 Internal Server Error\"></a>\\n</div>\\n<div class=\"col-lg-3 col-md-4 col-sm-6 col-xs-12\">\\n<a href=\"501-not-implemented\" class=\"thumbnail\"><img src=\"img/501.jpg\" alt=\"501 Not Implemented\"></a>\\n</div>\\n<div class=\"col-lg-3 col-md-4 col-sm-6 col-xs-12\">\\n<a href=\"502-bad-gateway\" class=\"thumbnail\"><img src=\"img/502.jpg\" alt=\"502 Bad Gateway\"></a>\\n</div>\\n<div class=\"col-lg-3 col-md-4 col-sm-6 col-xs-12\">\\n<a href=\"503-service-unavailable\" class=\"thumbnail\"><img src=\"img/503.jpg\" alt=\"503 Service Unavailable\"></a>\\n</div>\\n<div class=\"col-lg-3 col-md-4 col-sm-6 col-xs-12\">\\n<a href=\"504-gateway-timeout\" class=\"thumbnail\"><img src=\"img/504.jpg\" alt=\"504 Gateway Timeout\"></a>\\n</div>\\n<div class=\"col-lg-3 col-md-4 col-sm-6 col-xs-12\">\\n<a href=\"506-variant-also-negotiates\" class=\"thumbnail\"><img src=\"img/506.jpg\" alt=\"506 Variant Also Negotiates\"></a>\\n</div>\\n<div class=\"col-lg-3 col-md-4 col-sm-6 col-xs-12\">\\n<a href=\"507-insufficient-storage\" class=\"thumbnail\"><img src=\"img/507.jpg\" alt=\"507 Insufficient Storage\"></a>\\n</div>\\n<div class=\"col-lg-3 col-md-4 col-sm-6 col-xs-12\">\\n<a href=\"508-loop-detected\" class=\"thumbnail\"><img src=\"img/508.jpg\" alt=\"508 Loop Detected\"></a>\\n</div>\\n<div class=\"col-lg-3 col-md-4 col-sm-6 col-xs-12\">\\n<a href=\"509-bandwidth-limit-exceeded\" class=\"thumbnail\"><img src=\"img/509.jpg\" alt=\"509 Bandwidth Limit Exceeded\"></a>\\n</div>\\n<div class=\"col-lg-3 col-md-4 col-sm-6 col-xs-12\">\\n<a href=\"510-not-extended\" class=\"thumbnail\"><img src=\"img/510.jpg\" alt=\"510 Not Extended\"></a>\\n</div>\\n</div>\\n</main>\\n<div class=\"paw\"></div>\\n<hr>\\n<footer class=\"container-fluid\">\\n<div class=\"row\">\\n<div class=\"col-md-6\">\\n<p>\\n&copy; Copyright 2020.\\nFrom <a href=\"https://twitter.com/mikeleeorg\">@mikeleeorg</a>.<br>\\nFor more fun:\\n<a href=\"https://csshumor.com/\">CSS Humor</a> &middot;\\n<a href=\"https://doggoipsum.com/\">Doggo Ipsum</a> &middot;\\n<a href=\"https://web20ipsum.com/\">Web 2.0 Ipsum</a> &middot;\\n<a href=\"https://javascriptbabybooks.com/\">JavaScript Baby Books</a>.\\n</p>\\n</div>\\n<div class=\"col-md-6\">\\n<p class=\"social-share\">Ha ha funny, right? Share with your friends!</p>\\n<a href=\"https://twitter.com/share\" class=\"twitter-share-button\" data-via=\"mikeleeorg\">Tweet</a>\\n<div class=\"fb-share-button\" data-layout=\"button_count\" data-mobile-iframe=\"true\"></div>\\n<div class=\"g-plusone\" data-size=\"medium\"></div>\\n<a href=\"//www.reddit.com/submit\" class=\"reddit\" onclick=\"window.location=\\'//www.reddit.com/submit?url=\\' + encodeURIComponent(window.location); return false\"><img src=\"//www.redditstatic.com/spreddit7.gif\" alt=\"submit to reddit\" border=\"0\" /></a>\\n</div>\\n</div>\\n</footer>\\n<div id=\"fb-root\"></div>\\n<script src=\"https://code.jquery.com/jquery-3.2.1.slim.min.js\" integrity=\"sha256-k2WSCIexGzOj3Euiig+TlR8gA0EmPjuc79OEeY5L45g=\" crossorigin=\"anonymous\"></script>\\n<script>\\n\\njQuery(document).ready(function($) {\\n  $(document).keydown(function(e) {\\n    if (e.which == 39) { location.href = $(\".next a\").attr(\"href\"); e.preventDefault(); }\\n    if (e.which == 37) { location.href = $(\".previous a\").attr(\"href\"); e.preventDefault(); }\\n  })\\n});\\n\\n!function(d,s,id){var js,fjs=d.getElementsByTagName(s)[0],p=/^http:/.test(d.location)?\\'http\\':\\'https\\';if(!d.getElementById(id)){js=d.createElement(s);js.id=id;js.src=p+\\'://platform.twitter.com/widgets.js\\';fjs.parentNode.insertBefore(js,fjs);}}(document, \\'script\\', \\'twitter-wjs\\');\\n\\n(function(d, s, id) {\\n  var js, fjs = d.getElementsByTagName(s)[0];\\n  if (d.getElementById(id)) return;\\n  js = d.createElement(s); js.id = id;\\n  js.src = \"//connect.facebook.net/en_US/sdk.js#xfbml=1&version=v2.6&appId=261169337249871\";\\n  fjs.parentNode.insertBefore(js, fjs);\\n}(document, \\'script\\', \\'facebook-jssdk\\'));\\n\\n</script>\\n<script src=\"https://apis.google.com/js/platform.js\" async defer></script>\\n</body>\\n</html>\\n'\n"
     ]
    }
   ],
   "source": [
    "import requests\n",
    "r = requests.get(URL_src['HTTP状态狗'])\n",
    "print (r.status_code, r.content)"
   ]
  },
  {
   "cell_type": "code",
   "execution_count": 12,
   "metadata": {},
   "outputs": [],
   "source": [
    "# 有内容返回了！"
   ]
  },
  {
   "cell_type": "markdown",
   "metadata": {},
   "source": [
    "### 下载爬图"
   ]
  },
  {
   "cell_type": "code",
   "execution_count": 13,
   "metadata": {},
   "outputs": [],
   "source": [
    "# 建个目录，运行文件同级"
   ]
  },
  {
   "cell_type": "code",
   "execution_count": 15,
   "metadata": {},
   "outputs": [
    {
     "name": "stdout",
     "output_type": "stream",
     "text": [
      "mkdir: img: File exists\r\n"
     ]
    }
   ],
   "source": [
    "!mkdir img"
   ]
  },
  {
   "cell_type": "code",
   "execution_count": 16,
   "metadata": {},
   "outputs": [],
   "source": [
    "# 开始下载"
   ]
  },
  {
   "cell_type": "code",
   "execution_count": 17,
   "metadata": {},
   "outputs": [
    {
     "ename": "NameError",
     "evalue": "name 'list_img_src' is not defined",
     "output_type": "error",
     "traceback": [
      "\u001b[0;31m---------------------------------------------------------------------------\u001b[0m",
      "\u001b[0;31mNameError\u001b[0m                                 Traceback (most recent call last)",
      "\u001b[0;32m<ipython-input-17-898c29f0bb79>\u001b[0m in \u001b[0;36m<module>\u001b[0;34m\u001b[0m\n\u001b[1;32m      2\u001b[0m \u001b[0;32mimport\u001b[0m \u001b[0mshutil\u001b[0m\u001b[0;34m\u001b[0m\u001b[0;34m\u001b[0m\u001b[0m\n\u001b[1;32m      3\u001b[0m \u001b[0;34m\u001b[0m\u001b[0m\n\u001b[0;32m----> 4\u001b[0;31m \u001b[0;32mfor\u001b[0m \u001b[0mimgfilename\u001b[0m \u001b[0;32min\u001b[0m \u001b[0mlist_img_src\u001b[0m\u001b[0;34m:\u001b[0m\u001b[0;34m\u001b[0m\u001b[0;34m\u001b[0m\u001b[0m\n\u001b[0m\u001b[1;32m      5\u001b[0m     \u001b[0mpath\u001b[0m \u001b[0;34m=\u001b[0m \u001b[0murllib\u001b[0m\u001b[0;34m.\u001b[0m\u001b[0mparse\u001b[0m\u001b[0;34m.\u001b[0m\u001b[0murljoin\u001b[0m\u001b[0;34m(\u001b[0m \u001b[0murl_base\u001b[0m\u001b[0;34m,\u001b[0m \u001b[0mimgfilename\u001b[0m\u001b[0;34m)\u001b[0m\u001b[0;34m\u001b[0m\u001b[0;34m\u001b[0m\u001b[0m\n\u001b[1;32m      6\u001b[0m \u001b[0;34m\u001b[0m\u001b[0m\n",
      "\u001b[0;31mNameError\u001b[0m: name 'list_img_src' is not defined"
     ]
    }
   ],
   "source": [
    "import requests\n",
    "import shutil\n",
    "\n",
    "for imgfilename in list_img_src:\n",
    "    path = urllib.parse.urljoin( url_base, imgfilename)\n",
    "    \n",
    "    resp = requests.get(path, stream=True)\n",
    "    if r.status_code == 200:\n",
    "        with open(imgfilename, mode=\"wb\") as f:    # mode = write binary\n",
    "            resp.raw.decode_content = True\n",
    "            shutil.copyfileobj(resp.raw, f) \n",
    "    del resp\n",
    "            "
   ]
  },
  {
   "cell_type": "markdown",
   "metadata": {},
   "source": [
    "## 爬豆瓣"
   ]
  },
  {
   "cell_type": "code",
   "execution_count": 18,
   "metadata": {},
   "outputs": [
    {
     "name": "stdout",
     "output_type": "stream",
     "text": [
      "418 b''\n"
     ]
    }
   ],
   "source": [
    "import requests\n",
    "r = requests.get(URL_src['豆瓣电影排行榜'])\n",
    "print (r.status_code, r.content)"
   ]
  },
  {
   "cell_type": "code",
   "execution_count": 21,
   "metadata": {},
   "outputs": [],
   "source": [
    "# 418就是他不认识你，类型错误差不多。\n",
    "# 带上自己的身份认证去请求(headers)"
   ]
  },
  {
   "cell_type": "code",
   "execution_count": 22,
   "metadata": {},
   "outputs": [],
   "source": [
    "import requests\n",
    "from urllib import parse\n",
    "_headers_ = {\n",
    "        \"Accept\": \"text/plain, */*; q=0.01\", \n",
    "        \"Connection\": \"keep-alive\",\n",
    "        \"Host\" : \"movie.douban.com\", \n",
    "        \"User-Agent\" : \"Mozilla/5.0 (Windows NT 10.0; WOW64) AppleWebKit/537.36 (KHTML, like Gecko) Chrome/62.0.3250.0 Iron Safari/537.36\",\n",
    "}\n",
    "s = requests.Session()\n",
    "u = URL_src['豆瓣电影排行榜']\n",
    "r = s.get(u, headers=_headers_)"
   ]
  },
  {
   "cell_type": "code",
   "execution_count": 23,
   "metadata": {},
   "outputs": [
    {
     "name": "stdout",
     "output_type": "stream",
     "text": [
      "200 b'<!DOCTYPE html>\\n<html lang=\"zh-cmn-Hans\" class=\"ua-windows ua-webkit\">\\n<head>\\n    <meta http-equiv=\"Content-Type\" content=\"text/html; charset=utf-8\">\\n    <meta name=\"renderer\" content=\"webkit\">\\n    <meta name=\"referrer\" content=\"always\">\\n    <meta name=\"google-site-verification\" content=\"ok0wCgT20tBBgo9_zat2iAcimtN4Ftf5ccsh092Xeyw\" />\\n    <title>\\n\\xe8\\xb1\\x86\\xe7\\x93\\xa3\\xe7\\x94\\xb5\\xe5\\xbd\\xb1\\xe6\\x8e\\x92\\xe8\\xa1\\x8c\\xe6\\xa6\\x9c\\n</title>\\n    \\n    <meta name=\"baidu-site-verification\" content=\"cZdR4xxR7RxmM4zE\" />\\n    <meta http-equiv=\"Pragma\" content=\"no-cache\">\\n    <meta http-equiv=\"Expires\" content=\"Sun, 6 Mar 2005 01:00:00 GMT\">\\n    \\n    <meta name=\"keywords\" content=\"\\xe7\\x94\\xb5\\xe5\\xbd\\xb1\\xe6\\x8e\\x92\\xe8\\xa1\\x8c\\xe6\\xa6\\x9c\\xe3\\x80\\x81\\xe6\\x96\\xb0\\xe7\\x89\\x87\\xe6\\x8e\\x92\\xe8\\xa1\\x8c\\xe6\\xa6\\x9c\\xe3\\x80\\x81\\xe8\\xb1\\x86\\xe7\\x93\\xa3\\xe7\\x94\\xb5\\xe5\\xbd\\xb1250\"/>\\n    <meta name=\"description\" content=\"\\xe8\\xb1\\x86\\xe7\\x93\\xa3\\xe7\\x94\\xb5\\xe5\\xbd\\xb1\\xe6\\x8e\\x92\\xe8\\xa1\\x8c\\xe6\\xa6\\x9c,\\xe6\\x8f\\x90\\xe4\\xbe\\x9b\\xe6\\x9c\\x80\\xe6\\x96\\xb0\\xe7\\x94\\xb5\\xe5\\xbd\\xb1\\xe6\\x8e\\x92\\xe8\\xa1\\x8c\\xe6\\xa6\\x9c\\xe3\\x80\\x81\\xe6\\x9c\\xac\\xe5\\x91\\xa8\\xe7\\x94\\xb5\\xe5\\xbd\\xb1\\xe5\\x8f\\xa3\\xe7\\xa2\\x91\\xe6\\xa6\\x9c\\xe5\\x92\\x8c\\xe8\\xb1\\x86\\xe7\\x93\\xa3\\xe7\\x94\\xb5\\xe5\\xbd\\xb1TOP250\" />\\n\\n    <link rel=\"apple-touch-icon\" href=\"https://img3.doubanio.com/f/movie/d59b2715fdea4968a450ee5f6c95c7d7a2030065/pics/movie/apple-touch-icon.png\">\\n    <link href=\"https://img3.doubanio.com/f/shire/3e5dfc68b0f376484c50cf08a58bbca3700911dc/css/douban.css\" rel=\"stylesheet\" type=\"text/css\">\\n    <link href=\"https://img3.doubanio.com/f/shire/ae3f5a3e3085968370b1fc63afcecb22d3284848/css/separation/_all.css\" rel=\"stylesheet\" type=\"text/css\">\\n    <link href=\"https://img3.doubanio.com/f/movie/8864d3756094f5272d3c93e30ee2e324665855b0/css/movie/base/init.css\" rel=\"stylesheet\">\\n    <script type=\"text/javascript\">var _head_start = new Date();</script>\\n    <script type=\"text/javascript\" src=\"https://img3.doubanio.com/f/movie/0495cb173e298c28593766009c7b0a953246c5b5/js/movie/lib/jquery.js\"></script>\\n    <script type=\"text/javascript\" src=\"https://img3.doubanio.com/f/shire/5ecaf46d6954d5a30bc7d99be86ae34031646e00/js/douban.js\"></script>\\n    <script type=\"text/javascript\" src=\"https://img3.doubanio.com/f/shire/0efdc63b77f895eaf85281fb0e44d435c6239a3f/js/separation/_all.js\"></script>\\n    \\n    <style type=\"text/css\"></style>\\n    <style type=\"text/css\">img { max-width: 100%; }</style>\\n    <script type=\"text/javascript\"></script>\\n    <link rel=\"stylesheet\" href=\"https://img3.doubanio.com/misc/mixed_static/7014746226b5bef9.css\">\\n\\n    <link rel=\"shortcut icon\" href=\"https://img3.doubanio.com/favicon.ico\" type=\"image/x-icon\">\\n</head>\\n\\n<body>\\n  \\n    <script type=\"text/javascript\">var _body_start = new Date();</script>\\n\\n    \\n    \\n\\n\\n\\n    <link href=\"//img3.doubanio.com/dae/accounts/resources/f5f3d66/shire/bundle.css\" rel=\"stylesheet\" type=\"text/css\">\\n\\n\\n\\n<div id=\"db-global-nav\" class=\"global-nav\">\\n  <div class=\"bd\">\\n    \\n<div class=\"top-nav-info\">\\n  <a href=\"https://accounts.douban.com/passport/login?source=movie\" class=\"nav-login\" rel=\"nofollow\">\\xe7\\x99\\xbb\\xe5\\xbd\\x95/\\xe6\\xb3\\xa8\\xe5\\x86\\x8c</a>\\n</div>\\n\\n\\n    <div class=\"top-nav-doubanapp\">\\n  <a href=\"https://www.douban.com/doubanapp/app?channel=top-nav\" class=\"lnk-doubanapp\">\\xe4\\xb8\\x8b\\xe8\\xbd\\xbd\\xe8\\xb1\\x86\\xe7\\x93\\xa3\\xe5\\xae\\xa2\\xe6\\x88\\xb7\\xe7\\xab\\xaf</a>\\n  <div id=\"doubanapp-tip\">\\n    <a href=\"https://www.douban.com/doubanapp/app?channel=qipao\" class=\"tip-link\">\\xe8\\xb1\\x86\\xe7\\x93\\xa3 <span class=\"version\">6.0</span> \\xe5\\x85\\xa8\\xe6\\x96\\xb0\\xe5\\x8f\\x91\\xe5\\xb8\\x83</a>\\n    <a href=\"javascript: void 0;\" class=\"tip-close\">\\xc3\\x97</a>\\n  </div>\\n  <div id=\"top-nav-appintro\" class=\"more-items\">\\n    <p class=\"appintro-title\">\\xe8\\xb1\\x86\\xe7\\x93\\xa3</p>\\n    <p class=\"qrcode\">\\xe6\\x89\\xab\\xe7\\xa0\\x81\\xe7\\x9b\\xb4\\xe6\\x8e\\xa5\\xe4\\xb8\\x8b\\xe8\\xbd\\xbd</p>\\n    <div class=\"download\">\\n      <a href=\"https://www.douban.com/doubanapp/redirect?channel=top-nav&direct_dl=1&download=iOS\">iPhone</a>\\n      <span>\\xc2\\xb7</span>\\n      <a href=\"https://www.douban.com/doubanapp/redirect?channel=top-nav&direct_dl=1&download=Android\" class=\"download-android\">Android</a>\\n    </div>\\n  </div>\\n</div>\\n\\n    \\n\\n\\n<div class=\"global-nav-items\">\\n  <ul>\\n    <li class=\"\">\\n      <a href=\"https://www.douban.com\" target=\"_blank\" data-moreurl-dict=\"{&quot;from&quot;:&quot;top-nav-click-main&quot;,&quot;uid&quot;:&quot;0&quot;}\">\\xe8\\xb1\\x86\\xe7\\x93\\xa3</a>\\n    </li>\\n    <li class=\"\">\\n      <a href=\"https://book.douban.com\" target=\"_blank\" data-moreurl-dict=\"{&quot;from&quot;:&quot;top-nav-click-book&quot;,&quot;uid&quot;:&quot;0&quot;}\">\\xe8\\xaf\\xbb\\xe4\\xb9\\xa6</a>\\n    </li>\\n    <li class=\"on\">\\n      <a href=\"https://movie.douban.com\"  data-moreurl-dict=\"{&quot;from&quot;:&quot;top-nav-click-movie&quot;,&quot;uid&quot;:&quot;0&quot;}\">\\xe7\\x94\\xb5\\xe5\\xbd\\xb1</a>\\n    </li>\\n    <li class=\"\">\\n      <a href=\"https://music.douban.com\" target=\"_blank\" data-moreurl-dict=\"{&quot;from&quot;:&quot;top-nav-click-music&quot;,&quot;uid&quot;:&quot;0&quot;}\">\\xe9\\x9f\\xb3\\xe4\\xb9\\x90</a>\\n    </li>\\n    <li class=\"\">\\n      <a href=\"https://www.douban.com/location\" target=\"_blank\" data-moreurl-dict=\"{&quot;from&quot;:&quot;top-nav-click-location&quot;,&quot;uid&quot;:&quot;0&quot;}\">\\xe5\\x90\\x8c\\xe5\\x9f\\x8e</a>\\n    </li>\\n    <li class=\"\">\\n      <a href=\"https://www.douban.com/group\" target=\"_blank\" data-moreurl-dict=\"{&quot;from&quot;:&quot;top-nav-click-group&quot;,&quot;uid&quot;:&quot;0&quot;}\">\\xe5\\xb0\\x8f\\xe7\\xbb\\x84</a>\\n    </li>\\n    <li class=\"\">\\n      <a href=\"https://read.douban.com&#47;?dcs=top-nav&amp;dcm=douban\" target=\"_blank\" data-moreurl-dict=\"{&quot;from&quot;:&quot;top-nav-click-read&quot;,&quot;uid&quot;:&quot;0&quot;}\">\\xe9\\x98\\x85\\xe8\\xaf\\xbb</a>\\n    </li>\\n    <li class=\"\">\\n      <a href=\"https://douban.fm&#47;?from_=shire_top_nav\" target=\"_blank\" data-moreurl-dict=\"{&quot;from&quot;:&quot;top-nav-click-fm&quot;,&quot;uid&quot;:&quot;0&quot;}\">FM</a>\\n    </li>\\n    <li class=\"\">\\n      <a href=\"https://time.douban.com&#47;?dt_time_source=douban-web_top_nav\" target=\"_blank\" data-moreurl-dict=\"{&quot;from&quot;:&quot;top-nav-click-time&quot;,&quot;uid&quot;:&quot;0&quot;}\">\\xe6\\x97\\xb6\\xe9\\x97\\xb4</a>\\n    </li>\\n    <li class=\"\">\\n      <a href=\"https://market.douban.com&#47;?utm_campaign=douban_top_nav&amp;utm_source=douban&amp;utm_medium=pc_web\" target=\"_blank\" data-moreurl-dict=\"{&quot;from&quot;:&quot;top-nav-click-market&quot;,&quot;uid&quot;:&quot;0&quot;}\">\\xe8\\xb1\\x86\\xe5\\x93\\x81</a>\\n    </li>\\n    <li>\\n      <a href=\"#more\" class=\"bn-more\"><span>\\xe6\\x9b\\xb4\\xe5\\xa4\\x9a</span></a>\\n      <div class=\"more-items\">\\n        <table cellpadding=\"0\" cellspacing=\"0\">\\n          <tbody>\\n            <tr>\\n              <td>\\n                <a href=\"https://ypy.douban.com\" target=\"_blank\" data-moreurl-dict=\"{&quot;from&quot;:&quot;top-nav-click-ypy&quot;,&quot;uid&quot;:&quot;0&quot;}\">\\xe8\\xb1\\x86\\xe7\\x93\\xa3\\xe6\\x91\\x84\\xe5\\xbd\\xb1</a>\\n              </td>\\n            </tr>\\n          </tbody>\\n        </table>\\n      </div>\\n    </li>\\n  </ul>\\n</div>\\n\\n  </div>\\n</div>\\n<script>\\n  ;window._GLOBAL_NAV = {\\n    DOUBAN_URL: \"https://www.douban.com\",\\n    N_NEW_NOTIS: 0,\\n    N_NEW_DOUMAIL: 0\\n  };\\n</script>\\n\\n\\n\\n    <script src=\"//img3.doubanio.com/dae/accounts/resources/f5f3d66/shire/bundle.js\" defer=\"defer\"></script>\\n\\n\\n\\n\\n    \\n\\n\\n\\n    <link href=\"//img3.doubanio.com/dae/accounts/resources/f5f3d66/movie/bundle.css\" rel=\"stylesheet\" type=\"text/css\">\\n\\n\\n\\n\\n<div id=\"db-nav-movie\" class=\"nav\">\\n  <div class=\"nav-wrap\">\\n  <div class=\"nav-primary\">\\n    <div class=\"nav-logo\">\\n      <a href=\"https:&#47;&#47;movie.douban.com\">\\xe8\\xb1\\x86\\xe7\\x93\\xa3\\xe7\\x94\\xb5\\xe5\\xbd\\xb1</a>\\n    </div>\\n    <div class=\"nav-search\">\\n      <form action=\"https:&#47;&#47;search.douban.com&#47;movie/subject_search\" method=\"get\">\\n        <fieldset>\\n          <legend>\\xe6\\x90\\x9c\\xe7\\xb4\\xa2\\xef\\xbc\\x9a</legend>\\n          <label for=\"inp-query\">\\n          </label>\\n          <div class=\"inp\"><input id=\"inp-query\" name=\"search_text\" size=\"22\" maxlength=\"60\" placeholder=\"\\xe6\\x90\\x9c\\xe7\\xb4\\xa2\\xe7\\x94\\xb5\\xe5\\xbd\\xb1\\xe3\\x80\\x81\\xe7\\x94\\xb5\\xe8\\xa7\\x86\\xe5\\x89\\xa7\\xe3\\x80\\x81\\xe7\\xbb\\xbc\\xe8\\x89\\xba\\xe3\\x80\\x81\\xe5\\xbd\\xb1\\xe4\\xba\\xba\" value=\"\"></div>\\n          <div class=\"inp-btn\"><input type=\"submit\" value=\"\\xe6\\x90\\x9c\\xe7\\xb4\\xa2\"></div>\\n          <input type=\"hidden\" name=\"cat\" value=\"1002\" />\\n        </fieldset>\\n      </form>\\n    </div>\\n  </div>\\n  </div>\\n  <div class=\"nav-secondary\">\\n    \\n\\n<div class=\"nav-items\">\\n  <ul>\\n    <li    ><a href=\"https://movie.douban.com/cinema/nowplaying/\"\\n     >\\xe5\\xbd\\xb1\\xe8\\xae\\xaf&\\xe8\\xb4\\xad\\xe7\\xa5\\xa8</a>\\n    </li>\\n    <li    ><a href=\"https://movie.douban.com/explore\"\\n     >\\xe9\\x80\\x89\\xe7\\x94\\xb5\\xe5\\xbd\\xb1</a>\\n    </li>\\n    <li    ><a href=\"https://movie.douban.com/tv/\"\\n     >\\xe7\\x94\\xb5\\xe8\\xa7\\x86\\xe5\\x89\\xa7</a>\\n    </li>\\n    <li    ><a href=\"https://movie.douban.com/chart\"\\n     >\\xe6\\x8e\\x92\\xe8\\xa1\\x8c\\xe6\\xa6\\x9c</a>\\n    </li>\\n    <li    ><a href=\"https://movie.douban.com/tag/\"\\n     >\\xe5\\x88\\x86\\xe7\\xb1\\xbb</a>\\n    </li>\\n    <li    ><a href=\"https://movie.douban.com/review/best/\"\\n     >\\xe5\\xbd\\xb1\\xe8\\xaf\\x84</a>\\n    </li>\\n    <li    ><a href=\"https://movie.douban.com/annual/2019?source=navigation\"\\n     >2019\\xe5\\xb9\\xb4\\xe5\\xba\\xa6\\xe6\\xa6\\x9c\\xe5\\x8d\\x95</a>\\n    </li>\\n    <li    ><a href=\"https://m.douban.com/standbyme/annual2019?source=navigation\"\\n            target=\"_blank\"\\n     >2019\\xe4\\xb9\\xa6\\xe5\\xbd\\xb1\\xe9\\x9f\\xb3\\xe6\\x8a\\xa5\\xe5\\x91\\x8a</a>\\n    </li>\\n  </ul>\\n</div>\\n\\n    <a href=\"https://movie.douban.com/annual/2019?source=movie_navigation\" class=\"movieannual\"></a>\\n  </div>\\n</div>\\n\\n<script id=\"suggResult\" type=\"text/x-jquery-tmpl\">\\n  <li data-link=\"{{= url}}\">\\n            <a href=\"{{= url}}\" onclick=\"moreurl(this, {from:\\'movie_search_sugg\\', query:\\'{{= keyword }}\\', subject_id:\\'{{= id}}\\', i: \\'{{= index}}\\', type: \\'{{= type}}\\'})\">\\n            <img src=\"{{= img}}\" width=\"40\" />\\n            <p>\\n                <em>{{= title}}</em>\\n                {{if year}}\\n                    <span>{{= year}}</span>\\n                {{/if}}\\n                {{if sub_title}}\\n                    <br /><span>{{= sub_title}}</span>\\n                {{/if}}\\n                {{if address}}\\n                    <br /><span>{{= address}}</span>\\n                {{/if}}\\n                {{if episode}}\\n                    {{if episode==\"unknow\"}}\\n                        <br /><span>\\xe9\\x9b\\x86\\xe6\\x95\\xb0\\xe6\\x9c\\xaa\\xe7\\x9f\\xa5</span>\\n                    {{else}}\\n                        <br /><span>\\xe5\\x85\\xb1{{= episode}}\\xe9\\x9b\\x86</span>\\n                    {{/if}}\\n                {{/if}}\\n            </p>\\n        </a>\\n        </li>\\n  </script>\\n\\n\\n\\n\\n    <script src=\"//img3.doubanio.com/dae/accounts/resources/f5f3d66/movie/bundle.js\" defer=\"defer\"></script>\\n\\n\\n\\n\\n\\n    \\n    <div id=\"wrapper\">\\n        \\n\\n        \\n    <div id=\"content\">\\n        \\n    <h1>\\xe8\\xb1\\x86\\xe7\\x93\\xa3\\xe7\\x94\\xb5\\xe5\\xbd\\xb1\\xe6\\x8e\\x92\\xe8\\xa1\\x8c\\xe6\\xa6\\x9c</h1>\\n\\n        <div class=\"grid-16-8 clearfix\">\\n            \\n            \\n            <div class=\"article\">\\n                \\n    <h2>\\xe8\\xb1\\x86\\xe7\\x93\\xa3\\xe6\\x96\\xb0\\xe7\\x89\\x87\\xe6\\xa6\\x9c   \\xc2\\xb7 \\xc2\\xb7 \\xc2\\xb7 \\xc2\\xb7 \\xc2\\xb7 \\xc2\\xb7 </h2>\\n    <div class=\"indent\">\\n        \\n\\n\\n\\n\\n\\n<div class=\"\">\\n    <p class=\"ul first\"></p>\\n    <table width=\"100%\" class=\"\">\\n        <tr class=\"item\">\\n            <td width=\"100\" valign=\"top\">\\n                \\n\\n                    <a class=\"nbg\" href=\"https://movie.douban.com/subject/34805219/\"  title=\"\\xe9\\xa5\\xa5\\xe9\\xa5\\xbf\\xe7\\xab\\x99\\xe5\\x8f\\xb0\">\\n                        <img src=\"https://img3.doubanio.com/view/photo/s_ratio_poster/public/p2566870171.jpg\" width=\"75\" alt=\"\\xe9\\xa5\\xa5\\xe9\\xa5\\xbf\\xe7\\xab\\x99\\xe5\\x8f\\xb0\" class=\"\"/>\\n                    </a>\\n            </td>\\n\\n            <td valign=\"top\">\\n                \\n\\n                <div class=\"pl2\">\\n\\n                    <a href=\"https://movie.douban.com/subject/34805219/\"  class=\"\">\\n                        \\xe9\\xa5\\xa5\\xe9\\xa5\\xbf\\xe7\\xab\\x99\\xe5\\x8f\\xb0\\n                        / <span style=\"font-size:13px;\">\\xe9\\xa5\\xa5\\xe9\\xa5\\xbf\\xe6\\x96\\x97\\xe5\\xae\\xa4(\\xe6\\xb8\\xaf) / \\xe7\\xbb\\x9d\\xe5\\x91\\xbd\\xe5\\xa4\\xa7\\xe5\\xb9\\xb3\\xe5\\x8f\\xb0(\\xe5\\x8f\\xb0)</span>\\n                    </a>\\n\\n\\n\\n                    <p class=\"pl\">2019-09-06(\\xe5\\xa4\\x9a\\xe4\\xbc\\xa6\\xe5\\xa4\\x9a\\xe7\\x94\\xb5\\xe5\\xbd\\xb1\\xe8\\x8a\\x82) / 2019-11-08(\\xe8\\xa5\\xbf\\xe7\\x8f\\xad\\xe7\\x89\\x99) / \\xe4\\xbc\\x8a\\xe4\\xb8\\x87\\xc2\\xb7\\xe9\\xa9\\xac\\xe8\\x90\\xa8\\xe6\\x88\\x88 / \\xe4\\xbd\\x90\\xe9\\x87\\x8c\\xe6\\x98\\x82\\xc2\\xb7\\xe4\\xbc\\x8a\\xe5\\x9c\\xad\\xe9\\x87\\x8c\\xe5\\xa5\\xa5\\xe5\\xb0\\x94 / \\xe5\\xae\\x89\\xe4\\xb8\\x9c\\xe5\\xb0\\xbc\\xe4\\xba\\x9a\\xc2\\xb7\\xe5\\x9c\\xa3\\xe8\\x83\\xa1\\xe5\\xae\\x89 / \\xe5\\x9f\\x83\\xe7\\xb1\\xb3\\xe5\\x88\\xa9\\xe5\\xa5\\xa5\\xc2\\xb7\\xe5\\xb8\\x83\\xe9\\x98\\xbf\\xe5\\x8b\\x92 / \\xe4\\xba\\x9a\\xe5\\x8e\\x86\\xe5\\xb1\\xb1\\xe5\\xbe\\xb7\\xe6\\x8b\\x89\\xc2\\xb7\\xe7\\x8e\\x9b\\xe6\\xa1\\x91\\xe5\\x87\\xaf / \\xe9\\xa9\\xac\\xe9\\x87\\x8c\\xe5\\xa5\\xa5\\xc2\\xb7\\xe5\\xb8\\x95\\xe5\\xb0\\x94\\xe5\\xa4\\x9a / \\xe9\\x98\\xbf\\xe5\\xb0\\x94\\xe5\\x90\\x89\\xe6\\x96\\xaf\\xc2\\xb7\\xe9\\x98\\xbf\\xe6\\xb4\\x9b\\xe6\\x96\\xaf\\xe5\\x8d\\xa1\\xe6\\x96\\xaf / \\xe7\\xb1\\xb3\\xe9\\x87\\x8c\\xe4\\xba\\x9a\\xe5\\xa7\\x86\\xc2\\xb7\\xe9\\xa9\\xac\\xe4\\xb8\\x81 / \\xe8\\xa5\\xbf\\xe7\\x8f\\xad\\xe7\\x89\\x99 / elhoyolapelicula.com / \\xe5\\x8a\\xa0\\xe5\\xb0\\x94\\xe5\\xbe\\xb7\\xc2\\xb7\\xe5\\x8a\\xa0\\xe5\\x85\\xb9\\xe7\\x89\\xb9\\xe9\\xb2\\x81\\xc2\\xb7\\xe4\\xb9\\x8c\\xe9\\xb2\\x81\\xe8\\x92\\x82\\xe4\\xba\\x9a...</p>\\n\\n                    \\n\\n\\n                        \\n                        <div class=\"star clearfix\">\\n                                <span class=\"allstar40\"></span>\\n                                <span class=\"rating_nums\">7.8</span>\\n                                <span class=\"pl\">(104267\\xe4\\xba\\xba\\xe8\\xaf\\x84\\xe4\\xbb\\xb7)</span>\\n\\n                        </div>\\n\\n\\n                </div>\\n\\n            </td>\\n        </tr>\\n    </table>\\n    <div id=\"collect_form_34805219\"></div>\\n    <p class=\"ul\"></p>\\n    <table width=\"100%\" class=\"\">\\n        <tr class=\"item\">\\n            <td width=\"100\" valign=\"top\">\\n                \\n\\n                    <a class=\"nbg\" href=\"https://movie.douban.com/subject/2364086/\"  title=\"\\xe9\\x9a\\x90\\xe5\\xbd\\xa2\\xe4\\xba\\xba\">\\n                        <img src=\"https://img9.doubanio.com/view/photo/s_ratio_poster/public/p2582428806.jpg\" width=\"75\" alt=\"\\xe9\\x9a\\x90\\xe5\\xbd\\xa2\\xe4\\xba\\xba\" class=\"\"/>\\n                    </a>\\n            </td>\\n\\n            <td valign=\"top\">\\n                \\n\\n                <div class=\"pl2\">\\n\\n                    <a href=\"https://movie.douban.com/subject/2364086/\"  class=\"\">\\n                        \\xe9\\x9a\\x90\\xe5\\xbd\\xa2\\xe4\\xba\\xba\\n                        / <span style=\"font-size:13px;\">\\xe9\\x9a\\x90\\xe8\\xba\\xab\\xe4\\xba\\xba / \\xe9\\x9a\\x90\\xe5\\xbd\\xa2\\xe5\\xae\\xa2(\\xe6\\xb8\\xaf)</span>\\n                    </a>\\n\\n\\n\\n                    <p class=\"pl\">2020-02-28(\\xe7\\xbe\\x8e\\xe5\\x9b\\xbd) / \\xe4\\xbc\\x8a\\xe4\\xb8\\xbd\\xe8\\x8e\\x8e\\xe7\\x99\\xbd\\xc2\\xb7\\xe8\\x8e\\xab\\xe6\\x96\\xaf / \\xe5\\xa5\\xa5\\xe5\\x88\\xa9\\xe5\\xbc\\x97\\xc2\\xb7\\xe6\\x9d\\xb0\\xe6\\xa3\\xae-\\xe7\\xa7\\x91\\xe6\\x81\\xa9 / \\xe9\\x98\\xbf\\xe5\\xb0\\x94\\xe8\\xbf\\xaa\\xe6\\x96\\xaf\\xc2\\xb7\\xe9\\x9c\\x8d\\xe5\\x90\\x89 / \\xe8\\xbf\\x88\\xe5\\x85\\x8b\\xe5\\xb0\\x94\\xc2\\xb7\\xe5\\xa4\\x9a\\xe6\\x9b\\xbc / \\xe6\\x96\\xaf\\xe6\\x89\\x98\\xe5\\xa7\\x86\\xc2\\xb7\\xe7\\x91\\x9e\\xe5\\xbe\\xb7 / \\xe6\\x9c\\xac\\xe5\\xb0\\xbc\\xe8\\xbf\\xaa\\xe5\\x85\\x8b\\xc2\\xb7\\xe5\\x93\\x88\\xe8\\xbf\\xaa / \\xe5\\x93\\x88\\xe4\\xb8\\xbd\\xe7\\x89\\xb9\\xc2\\xb7\\xe6\\x88\\xb4\\xe5\\xb0\\x94 / \\xe7\\x91\\x9e\\xe5\\xa6\\xae\\xc2\\xb7\\xe6\\x9e\\x97 / \\xe5\\xb8\\x83\\xe8\\x8e\\xb1\\xe6\\x81\\xa9\\xc2\\xb7\\xe7\\xb1\\xb3\\xe6\\xa0\\xb9 / \\xe8\\x96\\x87\\xe8\\x96\\x87\\xe5\\xae\\x89\\xc2\\xb7\\xe6\\xa0\\xbc\\xe9\\x87\\x8c\\xe5\\xb0\\x94 / \\xe5\\xb0\\xbc\\xe5\\x8f\\xa4\\xe6\\x8b\\x89\\xe6\\x96\\xaf\\xc2\\xb7\\xe9\\x9c\\x8d\\xe6\\x99\\xae / \\xe5\\x85\\x8b\\xe5\\x88\\xa9\\xe5\\xa4\\xab\\xc2\\xb7\\xe5\\xa8\\x81\\xe5\\xbb\\x89\\xe5\\xa7\\x86\\xe6\\x96\\xaf / \\xe8\\x90\\xa8\\xe5\\xa7\\x86\\xc2\\xb7\\xe5\\x8f\\xb2\\xe5\\xaf\\x86\\xe6\\x96\\xaf...</p>\\n\\n                    \\n\\n\\n                        \\n                        <div class=\"star clearfix\">\\n                                <span class=\"allstar35\"></span>\\n                                <span class=\"rating_nums\">7.3</span>\\n                                <span class=\"pl\">(68173\\xe4\\xba\\xba\\xe8\\xaf\\x84\\xe4\\xbb\\xb7)</span>\\n\\n                        </div>\\n\\n\\n                </div>\\n\\n            </td>\\n        </tr>\\n    </table>\\n    <div id=\"collect_form_2364086\"></div>\\n    <p class=\"ul\"></p>\\n    <table width=\"100%\" class=\"\">\\n        <tr class=\"item\">\\n            <td width=\"100\" valign=\"top\">\\n                \\n\\n                    <a class=\"nbg\" href=\"https://movie.douban.com/subject/30211998/\"  title=\"\\xe7\\xbb\\x85\\xe5\\xa3\\xab\\xe4\\xbb\\xac\">\\n                        <img src=\"https://img9.doubanio.com/view/photo/s_ratio_poster/public/p2592522995.jpg\" width=\"75\" alt=\"\\xe7\\xbb\\x85\\xe5\\xa3\\xab\\xe4\\xbb\\xac\" class=\"\"/>\\n                    </a>\\n            </td>\\n\\n            <td valign=\"top\">\\n                \\n\\n                <div class=\"pl2\">\\n\\n                    <a href=\"https://movie.douban.com/subject/30211998/\"  class=\"\">\\n                        \\xe7\\xbb\\x85\\xe5\\xa3\\xab\\xe4\\xbb\\xac\\n                        / <span style=\"font-size:13px;\">\\xe7\\x96\\xaf\\xe7\\x8b\\x82\\xe7\\xbb\\x85\\xe5\\xa3\\xab\\xe5\\xb8\\xae(\\xe6\\xb8\\xaf) / \\xe7\\xbb\\x85\\xe5\\xa3\\xab\\xe8\\xbf\\xbd\\xe6\\x9d\\x80\\xe4\\xbb\\xa4(\\xe5\\x8f\\xb0)</span>\\n                    </a>\\n\\n\\n\\n                    <p class=\"pl\">2020-01-24(\\xe7\\xbe\\x8e\\xe5\\x9b\\xbd) / \\xe9\\xa9\\xac\\xe4\\xbf\\xae\\xc2\\xb7\\xe9\\xba\\xa6\\xe5\\xba\\xb7\\xe7\\xba\\xb3 / \\xe6\\x9f\\xa5\\xe7\\x90\\x86\\xc2\\xb7\\xe6\\xb1\\x89\\xe7\\xba\\xb3\\xe5\\xa7\\x86 / \\xe4\\xba\\xa8\\xe5\\x88\\xa9\\xc2\\xb7\\xe6\\x88\\x88\\xe5\\xb0\\x94\\xe4\\xb8\\x81 / \\xe7\\xb1\\xb3\\xe6\\xad\\x87\\xe5\\xb0\\x94\\xc2\\xb7\\xe9\\x81\\x93\\xe5\\x85\\x8b\\xe7\\x91\\x9e / \\xe6\\x9d\\xb0\\xe7\\x91\\x9e\\xe7\\xb1\\xb3\\xc2\\xb7\\xe6\\x96\\xaf\\xe7\\x89\\xb9\\xe6\\x9c\\x97 / \\xe7\\xa7\\x91\\xe6\\x9e\\x97\\xc2\\xb7\\xe6\\xb3\\x95\\xe7\\x91\\x9e\\xe5\\xb0\\x94 / \\xe4\\xbc\\x91\\xc2\\xb7\\xe6\\xa0\\xbc\\xe5\\x85\\xb0\\xe7\\x89\\xb9 / \\xe7\\x90\\xb3\\xc2\\xb7\\xe5\\x8b\\x92\\xe5\\x86\\x85 / \\xe9\\xa9\\xac\\xe5\\x85\\x8b\\xe6\\x96\\xaf\\xc2\\xb7\\xe7\\x8f\\xad\\xe5\\x86\\x85\\xe7\\x89\\xb9 / \\xe5\\xb8\\x83\\xe5\\x88\\x97\\xe5\\xa1\\x94\\xe5\\xb0\\xbc\\xc2\\xb7\\xe9\\x98\\xbf\\xe4\\xbb\\x80\\xe6\\xb2\\x83\\xe6\\x80\\x9d / \\xe4\\xbc\\x8a\\xe5\\xb7\\x9d\\xe4\\xb8\\x9c\\xe5\\x90\\xbe / \\xe5\\xb0\\xa4\\xe9\\x87\\x91\\xe5\\xa8\\x9c\\xc2\\xb7\\xe5\\xba\\x93\\xe6\\x97\\xa5\\xe6\\x95\\x8f\\xe5\\xa8\\x9c / \\xe4\\xb9\\x94\\xe4\\xb8\\xb9\\xc2\\xb7\\xe6\\x9c\\x97 / \\xe6\\x9d\\xb0\\xe6\\xa3\\xae\\xc2\\xb7\\xe7\\x8e\\x8b / \\xe5\\x8f\\xaf\\xe5\\x8f\\xaf\\xc2\\xb7\\xe8\\x90\\xa8\\xe5\\xa7\\x86\\xe7\\xba\\xb3...</p>\\n\\n                    \\n\\n\\n                        \\n                        <div class=\"star clearfix\">\\n                                <span class=\"allstar40\"></span>\\n                                <span class=\"rating_nums\">8.4</span>\\n                                <span class=\"pl\">(33595\\xe4\\xba\\xba\\xe8\\xaf\\x84\\xe4\\xbb\\xb7)</span>\\n\\n                        </div>\\n\\n\\n                </div>\\n\\n            </td>\\n        </tr>\\n    </table>\\n    <div id=\"collect_form_30211998\"></div>\\n    <p class=\"ul\"></p>\\n    <table width=\"100%\" class=\"\">\\n        <tr class=\"item\">\\n            <td width=\"100\" valign=\"top\">\\n                \\n\\n                    <a class=\"nbg\" href=\"https://movie.douban.com/subject/34670218/\"  title=\"\\xe5\\xa4\\xa7\\xe8\\xb5\\xa2\\xe5\\xae\\xb6\">\\n                        <img src=\"https://img3.doubanio.com/view/photo/s_ratio_poster/public/p2591946932.jpg\" width=\"75\" alt=\"\\xe5\\xa4\\xa7\\xe8\\xb5\\xa2\\xe5\\xae\\xb6\" class=\"\"/>\\n                    </a>\\n            </td>\\n\\n            <td valign=\"top\">\\n                \\n\\n                <div class=\"pl2\">\\n\\n                    <a href=\"https://movie.douban.com/subject/34670218/\"  class=\"\">\\n                        \\xe5\\xa4\\xa7\\xe8\\xb5\\xa2\\xe5\\xae\\xb6\\n                        / <span style=\"font-size:13px;\">The Winners</span>\\n                    </a>\\n\\n\\n                        <span style=\"font-size: 13px; padding-left: 3px; color: #00A65F;\">[\\xe5\\x8f\\xaf\\xe6\\x92\\xad\\xe6\\x94\\xbe]</span>\\n\\n                    <p class=\"pl\">2020-03-20(\\xe4\\xb8\\xad\\xe5\\x9b\\xbd\\xe5\\xa4\\xa7\\xe9\\x99\\x86) / \\xe5\\xa4\\xa7\\xe9\\xb9\\x8f / \\xe6\\x9f\\xb3\\xe5\\xb2\\xa9 / \\xe4\\xbb\\xa3\\xe4\\xb9\\x90\\xe4\\xb9\\x90 / \\xe5\\xbc\\xa0\\xe5\\xad\\x90\\xe8\\xb4\\xa4 / \\xe7\\x94\\xb0\\xe9\\x9b\\xa8 / \\xe5\\xad\\x9f\\xe9\\xb9\\xa4\\xe5\\xa0\\x82 / \\xe9\\x99\\xb6\\xe6\\x85\\xa7 / \\xe8\\xae\\xb8\\xe5\\xa8\\xa3 / \\xe7\\x8e\\x8b\\xe6\\x88\\x88 / \\xe6\\x9d\\x9c\\xe6\\xba\\x90 / \\xe9\\x98\\xbf\\xe5\\xa6\\x82\\xe9\\x82\\xa3 / \\xe5\\xbc\\xa0\\xe7\\xbb\\x8d\\xe8\\x8d\\xa3 / \\xe5\\xbc\\xa0\\xe5\\xb8\\x86 / \\xe5\\xa4\\x8f\\xe7\\x94\\x84 / \\xe6\\x9d\\xa8\\xe7\\xa0\\x9a\\xe9\\x93\\x8e / \\xe8\\x87\\xa7\\xe9\\xb8\\xbf\\xe9\\xa3\\x9e / \\xe6\\x9d\\x8e\\xe8\\x90\\x8d / \\xe4\\xb9\\x94\\xe6\\x99\\x9f\\xe4\\xb8\\x80 / \\xe5\\xad\\x9f\\xe9\\x9d\\x9e / \\xe5\\xb1\\x88\\xe8\\x8f\\x81\\xe8\\x8f\\x81 / \\xe8\\x85\\xbe\\xe6\\xa0\\xbc\\xe5\\xb0\\x94 / \\xe5\\x8f\\xb6\\xe6\\x99\\x9e\\xe6\\x9c\\x88 / \\xe6\\x9d\\x9c\\xe7\\xbb\\xb4\\xe7\\x80\\x9a / \\xe8\\x80\\xbf\\xe4\\xb8\\x9a\\xe5\\xba\\xad / \\xe5\\xba\\x9e\\xe5\\x8d\\x9a / \\xe5\\xa7\\x9c\\xe5\\xbf\\x97\\xe5\\x88\\x9a...</p>\\n\\n                    \\n\\n\\n                        \\n                        <div class=\"star clearfix\">\\n                                <span class=\"allstar35\"></span>\\n                                <span class=\"rating_nums\">6.8</span>\\n                                <span class=\"pl\">(114865\\xe4\\xba\\xba\\xe8\\xaf\\x84\\xe4\\xbb\\xb7)</span>\\n\\n                        </div>\\n\\n\\n                </div>\\n\\n            </td>\\n        </tr>\\n    </table>\\n    <div id=\"collect_form_34670218\"></div>\\n    <p class=\"ul\"></p>\\n    <table width=\"100%\" class=\"\">\\n        <tr class=\"item\">\\n            <td width=\"100\" valign=\"top\">\\n                \\n\\n                    <a class=\"nbg\" href=\"https://movie.douban.com/subject/30182726/\"  title=\"\\xe7\\x8b\\xa9\\xe7\\x8c\\x8e\">\\n                        <img src=\"https://img1.doubanio.com/view/photo/s_ratio_poster/public/p2585533507.jpg\" width=\"75\" alt=\"\\xe7\\x8b\\xa9\\xe7\\x8c\\x8e\" class=\"\"/>\\n                    </a>\\n            </td>\\n\\n            <td valign=\"top\">\\n                \\n\\n                <div class=\"pl2\">\\n\\n                    <a href=\"https://movie.douban.com/subject/30182726/\"  class=\"\">\\n                        \\xe7\\x8b\\xa9\\xe7\\x8c\\x8e\\n                        / <span style=\"font-size:13px;\">\\xe7\\x8c\\x8e\\xe9\\x80\\x83\\xe7\\x94\\x9f\\xe6\\xad\\xbb\\xe6\\x88\\x98(\\xe6\\xb8\\xaf) / \\xe7\\x8c\\x8e\\xe6\\x8d\\x95</span>\\n                    </a>\\n\\n\\n\\n                    <p class=\"pl\">2020-03-13(\\xe7\\xbe\\x8e\\xe5\\x9b\\xbd) / \\xe8\\xb4\\x9d\\xe8\\x92\\x82\\xc2\\xb7\\xe5\\x90\\x89\\xe5\\xb0\\x94\\xe5\\xb9\\xb3 / \\xe5\\xb8\\x8c\\xe6\\x8b\\x89\\xe9\\x87\\x8c\\xc2\\xb7\\xe6\\x96\\xaf\\xe4\\xb8\\x87\\xe5\\x85\\x8b / \\xe8\\x89\\xbe\\xe7\\x8e\\x9b\\xc2\\xb7\\xe7\\xbd\\x97\\xe4\\xbc\\xaf\\xe8\\x8c\\xa8 / \\xe8\\xb4\\xbe\\xe6\\x96\\xaf\\xe6\\xb1\\x80\\xc2\\xb7\\xe5\\x93\\x88\\xe7\\x89\\xb9\\xe9\\x9b\\xb7 / \\xe4\\xbc\\x8a\\xe5\\x85\\x8b\\xc2\\xb7\\xe5\\xb7\\xb4\\xe9\\x87\\x8c\\xe9\\x9c\\x8d\\xe5\\xb0\\x94\\xe5\\x85\\xb9 / \\xe6\\xa0\\xbc\\xe4\\xbc\\xa6\\xc2\\xb7\\xe8\\xb1\\xaa\\xe5\\xb0\\x94\\xe9\\xa1\\xbf / \\xe5\\x9f\\x83\\xe7\\xb1\\xb3\\xc2\\xb7\\xe9\\xa9\\xac\\xe8\\xbf\\xaa\\xe6\\xa0\\xb9 / \\xe6\\xa2\\x85\\xe8\\x82\\xaf\\xc2\\xb7\\xe5\\xb8\\x83\\xe8\\x8e\\xb1\\xe5\\xb0\\x94 / \\xe7\\x89\\xb9\\xe7\\x91\\x9e\\xc2\\xb7\\xe9\\x9f\\xa6\\xe4\\xbc\\xaf / \\xe6\\x96\\xaf\\xe8\\x92\\x82\\xe8\\x8a\\xac\\xc2\\xb7\\xe8\\x80\\x83\\xe7\\x89\\xb9\\xe5\\xb0\\x94 / \\xe9\\x9f\\xa6\\xe6\\x81\\xa9\\xc2\\xb7\\xe6\\x9d\\x9c\\xe7\\x93\\xa6\\xe5\\xb0\\x94 / J.C.\\xe9\\xba\\xa6\\xe8\\x82\\xaf\\xe6\\xb3\\xbd / \\xe9\\x87\\x8c\\xe5\\xbe\\xb7\\xc2\\xb7\\xe4\\xbc\\xaf\\xe5\\xb0\\xbc / \\xe6\\xb1\\x89\\xe6\\x96\\xaf\\xc2\\xb7\\xe9\\xa9\\xac\\xe9\\x9b\\xb7\\xe7\\xbd\\x97...</p>\\n\\n                    \\n\\n\\n                        \\n                        <div class=\"star clearfix\">\\n                                <span class=\"allstar35\"></span>\\n                                <span class=\"rating_nums\">7.2</span>\\n                                <span class=\"pl\">(33285\\xe4\\xba\\xba\\xe8\\xaf\\x84\\xe4\\xbb\\xb7)</span>\\n\\n                        </div>\\n\\n\\n                </div>\\n\\n            </td>\\n        </tr>\\n    </table>\\n    <div id=\"collect_form_30182726\"></div>\\n    <p class=\"ul\"></p>\\n    <table width=\"100%\" class=\"\">\\n        <tr class=\"item\">\\n            <td width=\"100\" valign=\"top\">\\n                \\n\\n                    <a class=\"nbg\" href=\"https://movie.douban.com/subject/27046758/\"  title=\"\\xe9\\x80\\x83\\xe7\\xa6\\xbb\\xe6\\xaf\\x94\\xe5\\x8b\\x92\\xe9\\x99\\x80\\xe5\\x88\\xa9\\xe4\\xba\\x9a\">\\n                        <img src=\"https://img9.doubanio.com/view/photo/s_ratio_poster/public/p2589768805.jpg\" width=\"75\" alt=\"\\xe9\\x80\\x83\\xe7\\xa6\\xbb\\xe6\\xaf\\x94\\xe5\\x8b\\x92\\xe9\\x99\\x80\\xe5\\x88\\xa9\\xe4\\xba\\x9a\" class=\"\"/>\\n                    </a>\\n            </td>\\n\\n            <td valign=\"top\">\\n                \\n\\n                <div class=\"pl2\">\\n\\n                    <a href=\"https://movie.douban.com/subject/27046758/\"  class=\"\">\\n                        \\xe9\\x80\\x83\\xe7\\xa6\\xbb\\xe6\\xaf\\x94\\xe5\\x8b\\x92\\xe9\\x99\\x80\\xe5\\x88\\xa9\\xe4\\xba\\x9a\\n                    </a>\\n\\n\\n\\n                    <p class=\"pl\">2020-03-06(\\xe8\\x8b\\xb1\\xe5\\x9b\\xbd) / \\xe4\\xb8\\xb9\\xe5\\xb0\\xbc\\xe5\\xb0\\x94\\xc2\\xb7\\xe9\\x9b\\xb7\\xe5\\xbe\\xb7\\xe5\\x85\\x8b\\xe9\\x87\\x8c\\xe5\\xa4\\xab / \\xe4\\xbc\\x8a\\xe6\\x81\\xa9\\xc2\\xb7\\xe5\\x93\\x88\\xe7\\x89\\xb9 / \\xe4\\xb8\\xb9\\xe5\\xb0\\xbc\\xe5\\xb0\\x94\\xc2\\xb7\\xe9\\x9f\\xa6\\xe4\\xbc\\xaf / \\xe5\\x86\\x85\\xe6\\xa3\\xae\\xc2\\xb7\\xe4\\xbd\\xa9\\xe5\\x90\\x89 / \\xe6\\x96\\xaf\\xe8\\x92\\x82\\xe8\\x8a\\xac\\xc2\\xb7\\xe4\\xba\\xa8\\xe7\\x89\\xb9 / \\xe9\\xa9\\xac\\xe5\\x85\\x8b\\xc2\\xb7\\xe4\\xbc\\xa6\\xe7\\xba\\xb3\\xe5\\xbe\\xb7\\xc2\\xb7\\xe6\\xb8\\xa9\\xe7\\x89\\xb9 / \\xe7\\x8f\\x8d\\xe5\\xa6\\xae\\xe7\\x89\\xb9\\xc2\\xb7\\xe5\\x85\\x8b\\xe7\\xbd\\x97\\xe5\\xae\\x81 / \\xe5\\xb1\\xb1\\xe5\\xa7\\x86\\xc2\\xb7\\xe5\\xb0\\xbc\\xe5\\xb0\\x94 / Ratidzo Mambo / \\xe8\\x8b\\xb1\\xe5\\x9b\\xbd / \\xe6\\xbe\\xb3\\xe5\\xa4\\xa7\\xe5\\x88\\xa9\\xe4\\xba\\x9a / \\xe5\\xbc\\x97\\xe6\\x9c\\x97\\xe8\\xa5\\xbf\\xe6\\x96\\xaf\\xc2\\xb7\\xe5\\xae\\x89\\xe5\\x8d\\x97 / 106\\xe5\\x88\\x86\\xe9\\x92\\x9f / \\xe9\\x80\\x83\\xe7\\xa6\\xbb\\xe6\\xaf\\x94\\xe5\\x8b\\x92\\xe9\\x99\\x80\\xe5\\x88\\xa9\\xe4\\xba\\x9a / \\xe5\\x89\\xa7\\xe6\\x83\\x85 / \\xe7\\x8a\\xaf\\xe7\\xbd\\xaa...</p>\\n\\n                    \\n\\n\\n                        \\n                        <div class=\"star clearfix\">\\n                                <span class=\"allstar40\"></span>\\n                                <span class=\"rating_nums\">7.6</span>\\n                                <span class=\"pl\">(20806\\xe4\\xba\\xba\\xe8\\xaf\\x84\\xe4\\xbb\\xb7)</span>\\n\\n                        </div>\\n\\n\\n                </div>\\n\\n            </td>\\n        </tr>\\n    </table>\\n    <div id=\"collect_form_27046758\"></div>\\n    <p class=\"ul\"></p>\\n    <table width=\"100%\" class=\"\">\\n        <tr class=\"item\">\\n            <td width=\"100\" valign=\"top\">\\n                \\n\\n                    <a class=\"nbg\" href=\"https://movie.douban.com/subject/30176393/\"  title=\"\\xe8\\xaf\\xaf\\xe6\\x9d\\x80\">\\n                        <img src=\"https://img3.doubanio.com/view/photo/s_ratio_poster/public/p2576090251.jpg\" width=\"75\" alt=\"\\xe8\\xaf\\xaf\\xe6\\x9d\\x80\" class=\"\"/>\\n                    </a>\\n            </td>\\n\\n            <td valign=\"top\">\\n                \\n\\n                <div class=\"pl2\">\\n\\n                    <a href=\"https://movie.douban.com/subject/30176393/\"  class=\"\">\\n                        \\xe8\\xaf\\xaf\\xe6\\x9d\\x80\\n                        / <span style=\"font-size:13px;\">\\xe8\\xaf\\xaf\\xe6\\x9d\\x80\\xe7\\x9e\\x92\\xe5\\xa4\\xa9\\xe8\\xae\\xb0\\xe4\\xb8\\xad\\xe5\\x9b\\xbd\\xe7\\x89\\x88 / Sheep Without a Shepherd</span>\\n                    </a>\\n\\n\\n                        <span style=\"font-size: 13px; padding-left: 3px; color: #00A65F;\">[\\xe5\\x8f\\xaf\\xe6\\x92\\xad\\xe6\\x94\\xbe]</span>\\n\\n                    <p class=\"pl\">2019-12-07(\\xe5\\xa4\\xa7\\xe8\\xa7\\x84\\xe6\\xa8\\xa1\\xe7\\x82\\xb9\\xe6\\x98\\xa0) / 2019-12-13(\\xe4\\xb8\\xad\\xe5\\x9b\\xbd\\xe5\\xa4\\xa7\\xe9\\x99\\x86) / \\xe8\\x82\\x96\\xe5\\xa4\\xae / \\xe8\\xb0\\xad\\xe5\\x8d\\x93 / \\xe9\\x99\\x88\\xe5\\x86\\xb2 / \\xe5\\xa7\\x9c\\xe7\\x9a\\x93\\xe6\\x96\\x87 / \\xe7\\xa7\\xa6\\xe6\\xb2\\x9b / \\xe8\\xbe\\xb9\\xe5\\xa4\\xa9\\xe6\\x89\\xac / \\xe8\\xae\\xb8\\xe6\\x96\\x87\\xe5\\xa7\\x97 / \\xe5\\xbc\\xa0\\xe7\\x86\\x99\\xe7\\x84\\xb6 / \\xe6\\x96\\xbd\\xe5\\x90\\x8d\\xe5\\xb8\\x85 / \\xe9\\xbb\\x84\\xe5\\x81\\xa5\\xe7\\x8e\\xae / \\xe8\\xb0\\xb7\\xe6\\xb4\\x8b / \\xe9\\x99\\x88\\xe5\\xbf\\x97\\xe6\\x9c\\x8b / \\xe5\\xbc\\xa0\\xe6\\x9e\\x97 / \\xe4\\xb8\\xad\\xe5\\x9b\\xbd\\xe5\\xa4\\xa7\\xe9\\x99\\x86 / \\xe6\\x9f\\xaf\\xe6\\xb1\\xb6\\xe5\\x88\\xa9 / 112\\xe5\\x88\\x86\\xe9\\x92\\x9f / \\xe5\\x89\\xa7\\xe6\\x83\\x85 / \\xe7\\x8a\\xaf\\xe7\\xbd\\xaa / \\xe6\\x82\\xac\\xe7\\x96\\x91 / \\xe6\\x9d\\xa8\\xe8\\x96\\x87\\xe8\\x96\\x87 Weiwei Yang / \\xe7\\xbf\\x9f\\xe5\\x9f\\xb9 / \\xe6\\x9d\\x8e\\xe9\\xb9\\x8f...</p>\\n\\n                    \\n\\n\\n                        \\n                        <div class=\"star clearfix\">\\n                                <span class=\"allstar40\"></span>\\n                                <span class=\"rating_nums\">7.7</span>\\n                                <span class=\"pl\">(478810\\xe4\\xba\\xba\\xe8\\xaf\\x84\\xe4\\xbb\\xb7)</span>\\n\\n                        </div>\\n\\n\\n                </div>\\n\\n            </td>\\n        </tr>\\n    </table>\\n    <div id=\"collect_form_30176393\"></div>\\n    <p class=\"ul\"></p>\\n    <table width=\"100%\" class=\"\">\\n        <tr class=\"item\">\\n            <td width=\"100\" valign=\"top\">\\n                \\n\\n                    <a class=\"nbg\" href=\"https://movie.douban.com/subject/30401849/\"  title=\"1/2\\xe7\\x9a\\x84\\xe9\\xad\\x94\\xe6\\xb3\\x95\">\\n                        <img src=\"https://img3.doubanio.com/view/photo/s_ratio_poster/public/p2575243691.jpg\" width=\"75\" alt=\"1/2\\xe7\\x9a\\x84\\xe9\\xad\\x94\\xe6\\xb3\\x95\" class=\"\"/>\\n                    </a>\\n            </td>\\n\\n            <td valign=\"top\">\\n                \\n\\n                <div class=\"pl2\">\\n\\n                    <a href=\"https://movie.douban.com/subject/30401849/\"  class=\"\">\\n                        1/2\\xe7\\x9a\\x84\\xe9\\xad\\x94\\xe6\\xb3\\x95\\n                        / <span style=\"font-size:13px;\">\\xe9\\xad\\x94\\xe6\\xb3\\x95\\xe7\\x8e\\xaf\\xe6\\xb8\\xb8\\xe8\\xae\\xb0 / \\xe5\\x8b\\x87\\xe5\\xbe\\x80\\xe7\\x9b\\xb4\\xe5\\x89\\x8d</span>\\n                    </a>\\n\\n\\n\\n                    <p class=\"pl\">2020-02-21(\\xe6\\x9f\\x8f\\xe6\\x9e\\x97\\xe7\\x94\\xb5\\xe5\\xbd\\xb1\\xe8\\x8a\\x82) / 2020-03-06(\\xe7\\xbe\\x8e\\xe5\\x9b\\xbd) / \\xe6\\xb1\\xa4\\xe5\\xa7\\x86\\xc2\\xb7\\xe8\\xb5\\xab\\xe5\\x85\\xb0\\xe5\\xbe\\xb7 / \\xe5\\x85\\x8b\\xe9\\x87\\x8c\\xe6\\x96\\xaf\\xc2\\xb7\\xe5\\xb8\\x95\\xe6\\x8b\\x89\\xe7\\x89\\xb9 / \\xe8\\x8c\\xb1\\xe8\\x8e\\x89\\xe4\\xba\\x9a\\xc2\\xb7\\xe8\\xb7\\xaf\\xe6\\x98\\x93\\xe6\\x96\\xaf-\\xe5\\xbe\\xb7\\xe7\\x91\\x9e\\xe5\\xbc\\x97\\xe6\\x96\\xaf / \\xe5\\xa5\\xa5\\xe5\\x85\\x8b\\xe5\\xa1\\x94\\xe7\\xbb\\xb4\\xe4\\xba\\x9a\\xc2\\xb7\\xe6\\x96\\xaf\\xe5\\xae\\xbe\\xe7\\x91\\x9f / \\xe6\\xa2\\x85\\xe5\\xb0\\x94\\xc2\\xb7\\xe7\\xbd\\x97\\xe5\\xbe\\xb7\\xe9\\x87\\x8c\\xe6\\xa0\\xbc\\xe6\\x96\\xaf / \\xe5\\x87\\xaf\\xe5\\xb0\\x94\\xc2\\xb7\\xe6\\x9f\\x8f\\xe6\\xb5\\xb7\\xe8\\x8e\\xab / \\xe4\\xb8\\xbd\\xe5\\xa8\\x9c\\xc2\\xb7\\xe7\\xbb\\xb4\\xe7\\x89\\xb9 / \\xe9\\xbb\\x84\\xe9\\x98\\xbf\\xe4\\xb8\\xbd / \\xe6\\xa0\\xbc\\xe8\\x95\\xbe\\xc2\\xb7\\xe5\\xbe\\xb7\\xe4\\xb8\\xbd\\xe6\\x96\\xaf\\xe5\\x8b\\x92 / \\xe5\\xb4\\x94\\xe8\\x8c\\x9c\\xc2\\xb7\\xe5\\xb0\\xa4\\xe7\\x8e\\x9b / \\xe7\\xbb\\xb4\\xe5\\xb0\\x94\\xe6\\x91\\xa9\\xc2\\xb7\\xe7\\x93\\xa6\\xe5\\xb0\\x94\\xe5\\xbe\\xb7\\xe6\\x8b\\x89\\xe7\\x8e\\x9b...</p>\\n\\n                    \\n\\n\\n                        \\n                        <div class=\"star clearfix\">\\n                                <span class=\"allstar40\"></span>\\n                                <span class=\"rating_nums\">7.9</span>\\n                                <span class=\"pl\">(9956\\xe4\\xba\\xba\\xe8\\xaf\\x84\\xe4\\xbb\\xb7)</span>\\n\\n                        </div>\\n\\n\\n                </div>\\n\\n            </td>\\n        </tr>\\n    </table>\\n    <div id=\"collect_form_30401849\"></div>\\n    <p class=\"ul\"></p>\\n    <table width=\"100%\" class=\"\">\\n        <tr class=\"item\">\\n            <td width=\"100\" valign=\"top\">\\n                \\n\\n                    <a class=\"nbg\" href=\"https://movie.douban.com/subject/30371819/\"  title=\"\\xe7\\x83\\xad\\xe5\\xb8\\xa6\\xe9\\x9b\\xa8\">\\n                        <img src=\"https://img9.doubanio.com/view/photo/s_ratio_poster/public/p2573124645.jpg\" width=\"75\" alt=\"\\xe7\\x83\\xad\\xe5\\xb8\\xa6\\xe9\\x9b\\xa8\" class=\"\"/>\\n                    </a>\\n            </td>\\n\\n            <td valign=\"top\">\\n                \\n\\n                <div class=\"pl2\">\\n\\n                    <a href=\"https://movie.douban.com/subject/30371819/\"  class=\"\">\\n                        \\xe7\\x83\\xad\\xe5\\xb8\\xa6\\xe9\\x9b\\xa8\\n                        / <span style=\"font-size:13px;\">Wet Season</span>\\n                    </a>\\n\\n\\n\\n                    <p class=\"pl\">2019-09-08(\\xe5\\xa4\\x9a\\xe4\\xbc\\xa6\\xe5\\xa4\\x9a\\xe7\\x94\\xb5\\xe5\\xbd\\xb1\\xe8\\x8a\\x82) / 2019-11-28(\\xe6\\x96\\xb0\\xe5\\x8a\\xa0\\xe5\\x9d\\xa1) / \\xe6\\x9d\\xa8\\xe9\\x9b\\x81\\xe9\\x9b\\x81 / \\xe8\\xae\\xb8\\xe5\\xae\\xb6\\xe4\\xb9\\x90 / \\xe6\\x9d\\x8e\\xe9\\x93\\xad\\xe9\\xa1\\xba / \\xe6\\x9d\\xa8\\xe4\\xb8\\x96\\xe5\\xbd\\xac / \\xe6\\x96\\xb0\\xe5\\x8a\\xa0\\xe5\\x9d\\xa1 / \\xe4\\xb8\\xad\\xe5\\x9b\\xbd\\xe5\\x8f\\xb0\\xe6\\xb9\\xbe / \\xe9\\x99\\x88\\xe5\\x93\\xb2\\xe8\\x89\\xba / 103\\xe5\\x88\\x86\\xe9\\x92\\x9f / \\xe5\\x89\\xa7\\xe6\\x83\\x85 / \\xe9\\x99\\x88\\xe5\\x93\\xb2\\xe8\\x89\\xba Anthony Chen / \\xe8\\x8b\\xb1\\xe8\\xaf\\xad / \\xe6\\xb1\\x89\\xe8\\xaf\\xad\\xe6\\x99\\xae\\xe9\\x80\\x9a\\xe8\\xaf\\x9d / \\xe7\\xa6\\x8f\\xe5\\xbb\\xba\\xe8\\xaf\\x9d</p>\\n\\n                    \\n\\n\\n                        \\n                        <div class=\"star clearfix\">\\n                                <span class=\"allstar40\"></span>\\n                                <span class=\"rating_nums\">7.7</span>\\n                                <span class=\"pl\">(12840\\xe4\\xba\\xba\\xe8\\xaf\\x84\\xe4\\xbb\\xb7)</span>\\n\\n                        </div>\\n\\n\\n                </div>\\n\\n            </td>\\n        </tr>\\n    </table>\\n    <div id=\"collect_form_30371819\"></div>\\n    <p class=\"ul\"></p>\\n    <table width=\"100%\" class=\"\">\\n        <tr class=\"item\">\\n            <td width=\"100\" valign=\"top\">\\n                \\n\\n                    <a class=\"nbg\" href=\"https://movie.douban.com/subject/30405087/\"  title=\"\\xe7\\x81\\xab\\xe5\\x8f\\xa3\\xe7\\x9a\\x84\\xe4\\xb8\\xa4\\xe4\\xba\\xba\">\\n                        <img src=\"https://img3.doubanio.com/view/photo/s_ratio_poster/public/p2556419282.jpg\" width=\"75\" alt=\"\\xe7\\x81\\xab\\xe5\\x8f\\xa3\\xe7\\x9a\\x84\\xe4\\xb8\\xa4\\xe4\\xba\\xba\" class=\"\"/>\\n                    </a>\\n            </td>\\n\\n            <td valign=\"top\">\\n                \\n\\n                <div class=\"pl2\">\\n\\n                    <a href=\"https://movie.douban.com/subject/30405087/\"  class=\"\">\\n                        \\xe7\\x81\\xab\\xe5\\x8f\\xa3\\xe7\\x9a\\x84\\xe4\\xb8\\xa4\\xe4\\xba\\xba\\n                        / <span style=\"font-size:13px;\">\\xe7\\x81\\xab\\xe5\\x8f\\xa3\\xe7\\xa7\\x98\\xe6\\x83\\x85 / \\xe7\\x81\\xab\\xe5\\x8f\\xa3\\xe7\\x9a\\x84\\xe4\\xba\\x8c\\xe4\\xba\\xba</span>\\n                    </a>\\n\\n\\n\\n                    <p class=\"pl\">2019-08-23(\\xe6\\x97\\xa5\\xe6\\x9c\\xac) / \\xe6\\x9f\\x84\\xe6\\x9c\\xac\\xe4\\xbd\\x91 / \\xe6\\xb3\\xb7\\xe5\\x86\\x85\\xe5\\x85\\xac\\xe7\\xbe\\x8e / \\xe6\\x9f\\x84\\xe6\\x9c\\xac\\xe6\\x98\\x8e / \\xe6\\x97\\xa5\\xe6\\x9c\\xac / \\xe8\\x8d\\x92\\xe4\\xba\\x95\\xe6\\x99\\xb4\\xe5\\xbd\\xa6 / 115\\xe5\\x88\\x86\\xe9\\x92\\x9f / \\xe7\\x81\\xab\\xe5\\x8f\\xa3\\xe7\\x9a\\x84\\xe4\\xb8\\xa4\\xe4\\xba\\xba / \\xe7\\x88\\xb1\\xe6\\x83\\x85 / \\xe6\\x83\\x85\\xe8\\x89\\xb2 / \\xe8\\x8d\\x92\\xe4\\xba\\x95\\xe6\\x99\\xb4\\xe5\\xbd\\xa6 Haruhiko Arai / \\xe7\\x99\\xbd\\xe7\\x9f\\xb3\\xe4\\xb8\\x80\\xe6\\x96\\x87 Kazufumi Shiraishi / \\xe6\\x97\\xa5\\xe8\\xaf\\xad</p>\\n\\n                    \\n\\n\\n                        \\n                        <div class=\"star clearfix\">\\n                                <span class=\"allstar35\"></span>\\n                                <span class=\"rating_nums\">6.9</span>\\n                                <span class=\"pl\">(9170\\xe4\\xba\\xba\\xe8\\xaf\\x84\\xe4\\xbb\\xb7)</span>\\n\\n                        </div>\\n\\n\\n                </div>\\n\\n            </td>\\n        </tr>\\n    </table>\\n    <div id=\"collect_form_30405087\"></div>\\n</div>\\n\\n\\n    </div>\\n    \\n\\n            </div>\\n            <div class=\"aside\">\\n                \\n    \\n  \\n  <div>\\n      <h2>\\xe5\\x88\\x86\\xe7\\xb1\\xbb\\xe6\\x8e\\x92\\xe8\\xa1\\x8c\\xe6\\xa6\\x9c \\xc2\\xb7 \\xc2\\xb7 \\xc2\\xb7 \\xc2\\xb7 \\xc2\\xb7 \\xc2\\xb7<img style=\" position: absolute;\" src=\"https://img3.doubanio.com/f/shire/e49eca1517424a941871a2667a8957fd6c72d632/pics/new_menu.gif\"></h2>\\n      <div class=\"types\">\\n          <span><a href=\"/typerank?type_name=\\xe5\\x89\\xa7\\xe6\\x83\\x85&type=11&interval_id=100:90&action=\">\\xe5\\x89\\xa7\\xe6\\x83\\x85</a></span>\\n          <span><a href=\"/typerank?type_name=\\xe5\\x96\\x9c\\xe5\\x89\\xa7&type=24&interval_id=100:90&action=\">\\xe5\\x96\\x9c\\xe5\\x89\\xa7</a></span>\\n          <span><a href=\"/typerank?type_name=\\xe5\\x8a\\xa8\\xe4\\xbd\\x9c&type=5&interval_id=100:90&action=\">\\xe5\\x8a\\xa8\\xe4\\xbd\\x9c</a></span>\\n          <span><a href=\"/typerank?type_name=\\xe7\\x88\\xb1\\xe6\\x83\\x85&type=13&interval_id=100:90&action=\">\\xe7\\x88\\xb1\\xe6\\x83\\x85</a></span>\\n          <span><a href=\"/typerank?type_name=\\xe7\\xa7\\x91\\xe5\\xb9\\xbb&type=17&interval_id=100:90&action=\">\\xe7\\xa7\\x91\\xe5\\xb9\\xbb</a></span>\\n          <span><a href=\"/typerank?type_name=\\xe5\\x8a\\xa8\\xe7\\x94\\xbb&type=25&interval_id=100:90&action=\">\\xe5\\x8a\\xa8\\xe7\\x94\\xbb</a></span>\\n          <span><a href=\"/typerank?type_name=\\xe6\\x82\\xac\\xe7\\x96\\x91&type=10&interval_id=100:90&action=\">\\xe6\\x82\\xac\\xe7\\x96\\x91</a></span>\\n          <span><a href=\"/typerank?type_name=\\xe6\\x83\\x8a\\xe6\\x82\\x9a&type=19&interval_id=100:90&action=\">\\xe6\\x83\\x8a\\xe6\\x82\\x9a</a></span>\\n          <span><a href=\"/typerank?type_name=\\xe6\\x81\\x90\\xe6\\x80\\x96&type=20&interval_id=100:90&action=\">\\xe6\\x81\\x90\\xe6\\x80\\x96</a></span>\\n          <span><a href=\"/typerank?type_name=\\xe7\\xba\\xaa\\xe5\\xbd\\x95\\xe7\\x89\\x87&type=1&interval_id=100:90&action=\">\\xe7\\xba\\xaa\\xe5\\xbd\\x95\\xe7\\x89\\x87</a></span>\\n          <span><a href=\"/typerank?type_name=\\xe7\\x9f\\xad\\xe7\\x89\\x87&type=23&interval_id=100:90&action=\">\\xe7\\x9f\\xad\\xe7\\x89\\x87</a></span>\\n          <span><a href=\"/typerank?type_name=\\xe6\\x83\\x85\\xe8\\x89\\xb2&type=6&interval_id=100:90&action=\">\\xe6\\x83\\x85\\xe8\\x89\\xb2</a></span>\\n          <span><a href=\"/typerank?type_name=\\xe5\\x90\\x8c\\xe6\\x80\\xa7&type=26&interval_id=100:90&action=\">\\xe5\\x90\\x8c\\xe6\\x80\\xa7</a></span>\\n          <span><a href=\"/typerank?type_name=\\xe9\\x9f\\xb3\\xe4\\xb9\\x90&type=14&interval_id=100:90&action=\">\\xe9\\x9f\\xb3\\xe4\\xb9\\x90</a></span>\\n          <span><a href=\"/typerank?type_name=\\xe6\\xad\\x8c\\xe8\\x88\\x9e&type=7&interval_id=100:90&action=\">\\xe6\\xad\\x8c\\xe8\\x88\\x9e</a></span>\\n          <span><a href=\"/typerank?type_name=\\xe5\\xae\\xb6\\xe5\\xba\\xad&type=28&interval_id=100:90&action=\">\\xe5\\xae\\xb6\\xe5\\xba\\xad</a></span>\\n          <span><a href=\"/typerank?type_name=\\xe5\\x84\\xbf\\xe7\\xab\\xa5&type=8&interval_id=100:90&action=\">\\xe5\\x84\\xbf\\xe7\\xab\\xa5</a></span>\\n          <span><a href=\"/typerank?type_name=\\xe4\\xbc\\xa0\\xe8\\xae\\xb0&type=2&interval_id=100:90&action=\">\\xe4\\xbc\\xa0\\xe8\\xae\\xb0</a></span>\\n          <span><a href=\"/typerank?type_name=\\xe5\\x8e\\x86\\xe5\\x8f\\xb2&type=4&interval_id=100:90&action=\">\\xe5\\x8e\\x86\\xe5\\x8f\\xb2</a></span>\\n          <span><a href=\"/typerank?type_name=\\xe6\\x88\\x98\\xe4\\xba\\x89&type=22&interval_id=100:90&action=\">\\xe6\\x88\\x98\\xe4\\xba\\x89</a></span>\\n          <span><a href=\"/typerank?type_name=\\xe7\\x8a\\xaf\\xe7\\xbd\\xaa&type=3&interval_id=100:90&action=\">\\xe7\\x8a\\xaf\\xe7\\xbd\\xaa</a></span>\\n          <span><a href=\"/typerank?type_name=\\xe8\\xa5\\xbf\\xe9\\x83\\xa8&type=27&interval_id=100:90&action=\">\\xe8\\xa5\\xbf\\xe9\\x83\\xa8</a></span>\\n          <span><a href=\"/typerank?type_name=\\xe5\\xa5\\x87\\xe5\\xb9\\xbb&type=16&interval_id=100:90&action=\">\\xe5\\xa5\\x87\\xe5\\xb9\\xbb</a></span>\\n          <span><a href=\"/typerank?type_name=\\xe5\\x86\\x92\\xe9\\x99\\xa9&type=15&interval_id=100:90&action=\">\\xe5\\x86\\x92\\xe9\\x99\\xa9</a></span>\\n          <span><a href=\"/typerank?type_name=\\xe7\\x81\\xbe\\xe9\\x9a\\xbe&type=12&interval_id=100:90&action=\">\\xe7\\x81\\xbe\\xe9\\x9a\\xbe</a></span>\\n          <span><a href=\"/typerank?type_name=\\xe6\\xad\\xa6\\xe4\\xbe\\xa0&type=29&interval_id=100:90&action=\">\\xe6\\xad\\xa6\\xe4\\xbe\\xa0</a></span>\\n          <span><a href=\"/typerank?type_name=\\xe5\\x8f\\xa4\\xe8\\xa3\\x85&type=30&interval_id=100:90&action=\">\\xe5\\x8f\\xa4\\xe8\\xa3\\x85</a></span>\\n          <span><a href=\"/typerank?type_name=\\xe8\\xbf\\x90\\xe5\\x8a\\xa8&type=18&interval_id=100:90&action=\">\\xe8\\xbf\\x90\\xe5\\x8a\\xa8</a></span>\\n          <span><a href=\"/typerank?type_name=\\xe9\\xbb\\x91\\xe8\\x89\\xb2\\xe7\\x94\\xb5\\xe5\\xbd\\xb1&type=31&interval_id=100:90&action=\">\\xe9\\xbb\\x91\\xe8\\x89\\xb2\\xe7\\x94\\xb5\\xe5\\xbd\\xb1</a></span>\\n      </div>\\n  </div>\\n\\n    <!-- douban ad begin -->\\n    <div id=\"dale_movie_chart_top_right\"></div>\\n    <!-- douban ad end -->\\n\\n    \\n    <div class=\"movie_top\" id=\"ranking\">\\n    <div class=\"movie_top\" id=\"ranking\">\\n        \\n    \\n    \\n    <h2>\\xe4\\xb8\\x80\\xe5\\x91\\xa8\\xe5\\x8f\\xa3\\xe7\\xa2\\x91\\xe6\\xa6\\x9c\\xc2\\xb7 \\xc2\\xb7 \\xc2\\xb7 \\xc2\\xb7 \\xc2\\xb7 \\xc2\\xb7 <span class=\"box_chart_num color-gray\">4\\xe6\\x9c\\x883\\xe6\\x97\\xa5 \\xe6\\x9b\\xb4\\xe6\\x96\\xb0</span></h2>\\n    <ul class=\"content\" id=\"listCont2\">\\n        <li class=\"clearfix\">\\n            <div class=\"no\">1</div>\\n            <div class=\"name\">\\n                <a onclick=\"moreurl(this, {from:\\'mv_week\\'})\" href=\"https://movie.douban.com/subject/33434927/\" class=\"\">\\n                    \\xe7\\x9f\\xbf\\xe6\\xb0\\x91\\xe3\\x80\\x81\\xe9\\xa9\\xac\\xe5\\xa4\\xab\\xe3\\x80\\x81\\xe5\\xb0\\x98\\xe8\\x82\\xba\\xe7\\x97\\x85\\n                </a>\\n            </div>\\n            <span class=\"\">\\n                    <div class=\"up\">10</div>\\n            </span>\\n        </li>\\n        <li class=\"clearfix\">\\n            <div class=\"no\">2</div>\\n            <div class=\"name\">\\n                <a onclick=\"moreurl(this, {from:\\'mv_week\\'})\" href=\"https://movie.douban.com/subject/33417030/\" class=\"\">\\n                    \\xe6\\x82\\xb2\\xe6\\x83\\xa8\\xe4\\xb8\\x96\\xe7\\x95\\x8c\\n                </a>\\n            </div>\\n            <span class=\"\">\\n                    <div class=\"up\">9</div>\\n            </span>\\n        </li>\\n        <li class=\"clearfix\">\\n            <div class=\"no\">3</div>\\n            <div class=\"name\">\\n                <a onclick=\"moreurl(this, {from:\\'mv_week\\'})\" href=\"https://movie.douban.com/subject/30426519/\" class=\"\">\\n                    \\xe4\\xbb\\x8e\\xe5\\xae\\xab\\xe6\\x9c\\xac\\xe5\\x88\\xb0\\xe4\\xbd\\xa0\\n                </a>\\n            </div>\\n            <span class=\"\">\\n                    <div class=\"up\">1</div>\\n            </span>\\n        </li>\\n        <li class=\"clearfix\">\\n            <div class=\"no\">4</div>\\n            <div class=\"name\">\\n                <a onclick=\"moreurl(this, {from:\\'mv_week\\'})\" href=\"https://movie.douban.com/subject/26884422/\" class=\"\">\\n                    \\xe5\\x85\\xb3\\xe4\\xba\\x8e\\xe6\\x97\\xa0\\xe5\\xb0\\xbd\\n                </a>\\n            </div>\\n            <span class=\"\">\\n                    <div class=\"up\">7</div>\\n            </span>\\n        </li>\\n        <li class=\"clearfix\">\\n            <div class=\"no\">5</div>\\n            <div class=\"name\">\\n                <a onclick=\"moreurl(this, {from:\\'mv_week\\'})\" href=\"https://movie.douban.com/subject/34461680/\" class=\"\">\\n                    \\xe8\\xa6\\x81\\xe5\\xbc\\xba\\xe7\\x9a\\x84\\xe4\\xba\\xba\\n                </a>\\n            </div>\\n            <span class=\"\">\\n                    <div class=\"up\">6</div>\\n            </span>\\n        </li>\\n        <li class=\"clearfix\">\\n            <div class=\"no\">6</div>\\n            <div class=\"name\">\\n                <a onclick=\"moreurl(this, {from:\\'mv_week\\'})\" href=\"https://movie.douban.com/subject/33401841/\" class=\"\">\\n                    \\xe6\\x97\\xb6\\xe5\\x85\\x89\\xe6\\x9c\\xba\\n                </a>\\n            </div>\\n            <span class=\"\">\\n                    <div class=\"up\">5</div>\\n            </span>\\n        </li>\\n        <li class=\"clearfix\">\\n            <div class=\"no\">7</div>\\n            <div class=\"name\">\\n                <a onclick=\"moreurl(this, {from:\\'mv_week\\'})\" href=\"https://movie.douban.com/subject/30283693/\" class=\"\">\\n                    \\xe7\\x89\\xb9\\xe6\\x8b\\x89\\xe7\\xbb\\xb4\\xe5\\xa4\\xab\\xe5\\x9c\\xa8\\xe7\\x87\\x83\\xe7\\x83\\xa7\\n                </a>\\n            </div>\\n            <span class=\"\">\\n                    <div class=\"up\">4</div>\\n            </span>\\n        </li>\\n        <li class=\"clearfix\">\\n            <div class=\"no\">8</div>\\n            <div class=\"name\">\\n                <a onclick=\"moreurl(this, {from:\\'mv_week\\'})\" href=\"https://movie.douban.com/subject/3077746/\" class=\"\">\\n                    \\xe8\\xa7\\xa6\\xe7\\xa2\\xb0\\xe7\\x9a\\x84\\xe5\\x8f\\x8c\\xe6\\x89\\x8b\\n                </a>\\n            </div>\\n            <span class=\"\">\\n                    <div class=\"up\">3</div>\\n            </span>\\n        </li>\\n        <li class=\"clearfix\">\\n            <div class=\"no\">9</div>\\n            <div class=\"name\">\\n                <a onclick=\"moreurl(this, {from:\\'mv_week\\'})\" href=\"https://movie.douban.com/subject/30434902/\" class=\"\">\\n                    \\xe5\\x90\\x8e\\xe4\\xbc\\x9a\\xe6\\x9c\\x89\\xe6\\x9c\\x9f\\n                </a>\\n            </div>\\n            <span class=\"\">\\n                    <div class=\"up\">2</div>\\n            </span>\\n        </li>\\n        <li class=\"clearfix\">\\n            <div class=\"no\">10</div>\\n            <div class=\"name\">\\n                <a onclick=\"moreurl(this, {from:\\'mv_week\\'})\" href=\"https://movie.douban.com/subject/34670959/\" class=\"\">\\n                    \\xe6\\x97\\xa0\\xe5\\xb0\\xbd\\xe7\\x9a\\x84\\xe6\\x88\\x98\\xe5\\xa3\\x95\\n                </a>\\n            </div>\\n            <span class=\"\">\\n                    <div class=\"up\">1</div>\\n            </span>\\n        </li>\\n    </ul>\\n\\n    </div>\\n\\n    <div class=\"movie_top\" id=\"ranking\">\\n        \\n    \\n    <h2>\\xe5\\x8c\\x97\\xe7\\xbe\\x8e\\xe7\\xa5\\xa8\\xe6\\x88\\xbf\\xe6\\xa6\\x9c\\xc2\\xb7 \\xc2\\xb7 \\xc2\\xb7 \\xc2\\xb7 \\xc2\\xb7 \\xc2\\xb7 <span class=\"box_chart_num color-gray\">3\\xe6\\x9c\\x8813\\xe6\\x97\\xa5 \\xe6\\x9b\\xb4\\xe6\\x96\\xb0 / \\xe7\\xbe\\x8e\\xe5\\x85\\x83</span></h2>\\n    <ul class=\"content\" id=\"listCont1\">\\n            \\n                <li class=\"clearfix\">\\n                    <div class=\"no\">1</div>\\n                    <div class=\"box_chart\">\\n                        <a onclick=\"moreurl(this, {from:\\'mv_us_week\\'})\" href=\"https://movie.douban.com/subject/30401849/\" class=\"\">\\n                            1/2\\xe7\\x9a\\x84\\xe9\\xad\\x94\\xe6\\xb3\\x95\\n                        </a>\\n                    </div>\\n                    <span class=\"box_chart_num color-gray\">1053\\xe4\\xb8\\x87</span>\\n                </li>\\n            \\n                <li class=\"clearfix\">\\n                    <div class=\"no\">2</div>\\n                    <div class=\"box_chart\">\\n                        <a onclick=\"moreurl(this, {from:\\'mv_us_week\\'})\" href=\"https://movie.douban.com/subject/34802738/\" class=\"\">\\n                            \\xe6\\x88\\x91\\xe4\\xbb\\x8d\\xe7\\x84\\xb6\\xe7\\x9b\\xb8\\xe4\\xbf\\xa1\\n                        </a>\\n                                <img src=\"https://img3.doubanio.com/f/shire/267048ed5190c4c6b513c2e559cae7ae8b8f0af5/pics/box_new.png\" />\\n                    </div>\\n                    <span class=\"box_chart_num color-gray\">950\\xe4\\xb8\\x87</span>\\n                </li>\\n            \\n                <li class=\"clearfix\">\\n                    <div class=\"no\">3</div>\\n                    <div class=\"box_chart\">\\n                        <a onclick=\"moreurl(this, {from:\\'mv_us_week\\'})\" href=\"https://movie.douban.com/subject/4830483/\" class=\"\">\\n                            \\xe5\\x96\\x8b\\xe8\\xa1\\x80\\xe6\\x88\\x98\\xe5\\xa3\\xab\\n                        </a>\\n                                <img src=\"https://img3.doubanio.com/f/shire/267048ed5190c4c6b513c2e559cae7ae8b8f0af5/pics/box_new.png\" />\\n                    </div>\\n                    <span class=\"box_chart_num color-gray\">930\\xe4\\xb8\\x87</span>\\n                </li>\\n            \\n                <li class=\"clearfix\">\\n                    <div class=\"no\">4</div>\\n                    <div class=\"box_chart\">\\n                        <a onclick=\"moreurl(this, {from:\\'mv_us_week\\'})\" href=\"https://movie.douban.com/subject/2364086/\" class=\"\">\\n                            \\xe9\\x9a\\x90\\xe5\\xbd\\xa2\\xe4\\xba\\xba\\n                        </a>\\n                    </div>\\n                    <span class=\"box_chart_num color-gray\">600\\xe4\\xb8\\x87</span>\\n                </li>\\n            \\n                <li class=\"clearfix\">\\n                    <div class=\"no\">5</div>\\n                    <div class=\"box_chart\">\\n                        <a onclick=\"moreurl(this, {from:\\'mv_us_week\\'})\" href=\"https://movie.douban.com/subject/30182726/\" class=\"\">\\n                            \\xe7\\x8b\\xa9\\xe7\\x8c\\x8e\\n                        </a>\\n                                <img src=\"https://img3.doubanio.com/f/shire/267048ed5190c4c6b513c2e559cae7ae8b8f0af5/pics/box_new.png\" />\\n                    </div>\\n                    <span class=\"box_chart_num color-gray\">532\\xe4\\xb8\\x87</span>\\n                </li>\\n            \\n                <li class=\"clearfix\">\\n                    <div class=\"no\">6</div>\\n                    <div class=\"box_chart\">\\n                        <a onclick=\"moreurl(this, {from:\\'mv_us_week\\'})\" href=\"https://movie.douban.com/subject/25905044/\" class=\"\">\\n                            \\xe5\\x88\\xba\\xe7\\x8c\\xac\\xe7\\xb4\\xa2\\xe5\\xb0\\xbc\\xe5\\x85\\x8b\\n                        </a>\\n                    </div>\\n                    <span class=\"box_chart_num color-gray\">258\\xe4\\xb8\\x87</span>\\n                </li>\\n            \\n                <li class=\"clearfix\">\\n                    <div class=\"no\">7</div>\\n                    <div class=\"box_chart\">\\n                        <a onclick=\"moreurl(this, {from:\\'mv_us_week\\'})\" href=\"https://movie.douban.com/subject/30345227/\" class=\"\">\\n                            \\xe5\\x9b\\x9e\\xe5\\xbd\\x92\\xe4\\xb9\\x8b\\xe8\\xb7\\xaf\\n                        </a>\\n                    </div>\\n                    <span class=\"box_chart_num color-gray\">242\\xe4\\xb8\\x87</span>\\n                </li>\\n            \\n                <li class=\"clearfix\">\\n                    <div class=\"no\">8</div>\\n                    <div class=\"box_chart\">\\n                        <a onclick=\"moreurl(this, {from:\\'mv_us_week\\'})\" href=\"https://movie.douban.com/subject/27199324/\" class=\"\">\\n                            \\xe9\\x87\\x8e\\xe6\\x80\\xa7\\xe7\\x9a\\x84\\xe5\\x91\\xbc\\xe5\\x94\\xa4\\n                        </a>\\n                    </div>\\n                    <span class=\"box_chart_num color-gray\">224\\xe4\\xb8\\x87</span>\\n                </li>\\n            \\n                <li class=\"clearfix\">\\n                    <div class=\"no\">9</div>\\n                    <div class=\"box_chart\">\\n                        <a onclick=\"moreurl(this, {from:\\'mv_us_week\\'})\" href=\"https://movie.douban.com/subject/30361878/\" class=\"\">\\n                            \\xe7\\x88\\xb1\\xe7\\x8e\\x9b\\n                        </a>\\n                    </div>\\n                    <span class=\"box_chart_num color-gray\">137\\xe4\\xb8\\x87</span>\\n                </li>\\n            \\n                <li class=\"clearfix\">\\n                    <div class=\"no\">10</div>\\n                    <div class=\"box_chart\">\\n                        <a onclick=\"moreurl(this, {from:\\'mv_us_week\\'})\" href=\"https://movie.douban.com/subject/4014397/\" class=\"\">\\n                            \\xe7\\xbb\\x9d\\xe5\\x9c\\xb0\\xe6\\x88\\x98\\xe8\\xad\\xa6\\xef\\xbc\\x9a\\xe7\\x96\\xbe\\xe9\\x80\\x9f\\xe8\\xbf\\xbd\\xe5\\x87\\xbb\\n                        </a>\\n                    </div>\\n                    <span class=\"box_chart_num color-gray\">110\\xe4\\xb8\\x87</span>\\n                </li>\\n    </ul>\\n\\n    </div>\\n\\n    <!-- douban ad begin -->\\n    \\n\\n\\n\\n\\n\\n<div class=\"mobile-app-entrance block5 app-movie\">\\n    <a class=\"entrance-link\" href=\"https://www.douban.com/doubanapp/frodo\">\\n        <div class=\"entrance-qrcode\">\\n            <img src=\"https://img3.doubanio.com/f/movie/a02f6ed325fc52e220f299d51e730c422e2bcd16/pics/movie/douban_app_ad/qrcode.png\" alt=\"\\xe6\\x89\\xab\\xe7\\xa0\\x81\\xe4\\xb8\\x8b\\xe8\\xbd\\xbd\\xe8\\xb1\\x86\\xe7\\x93\\xa3 App\" width=\"80\" height=\"80\" />\\n        </div>\\n        <div class=\"entrance-info\">\\n            <span class=\"app-icon icon-movie\"></span>\\n            <span class=\"main-title\">\\xe8\\xb1\\x86\\xe7\\x93\\xa3</span>\\n            <span class=\"sub-title\">\\xe4\\xbd\\xa0\\xe7\\x9a\\x84\\xe7\\xa7\\xbb\\xe5\\x8a\\xa8\\xe8\\xa7\\x82\\xe5\\xbd\\xb1\\xe6\\x8c\\x87\\xe5\\x8d\\x97</span>\\n        </div>\\n    </a>\\n</div>\\n\\n    <!-- douban ad end -->\\n\\n        <div class=\"indent\">\\n            \\n    <div id=\"douban-top250\">\\n        <div class=\"douban-top250-hd\">\\n            <h2>\\xe8\\xb1\\x86\\xe7\\x93\\xa3\\xe7\\x94\\xb5\\xe5\\xbd\\xb1TOP250\\n                <span>\\n                    <a href=\"https://movie.douban.com/top250\">\\xe5\\x85\\xa8\\xe9\\x83\\xa8&nbsp;</a>\\n                </span>\\n            </h2>\\n        </div>\\n        <div class=\"douban-top250-bd\">\\n            \\n        <dl class=\"\">\\n            <dt>\\n                <a onclick=\"moreurl(this, {from:\\'mv_tops\\'})\" href=\"https://movie.douban.com/subject/2213597/?from=top250\">\\n                    <img src=\"https://img1.doubanio.com/view/photo/s_ratio_poster/public/p1140984198.jpg\" class=\"m_sub_img\"/>\\n                </a>\\n            </dt>\\n            <dd>\\n                <a onclick=\"moreurl(this, {from:\\'mv_tops\\'})\" href=\"https://movie.douban.com/subject/2213597/?from=top250\" class=\"\">\\n                    \\xe6\\x9c\\x97\\xe8\\xaf\\xbb\\xe8\\x80\\x85\\n                </a>\\n                <span class=\"gact\"></span><br/>\\n            </dd>\\n        </dl>\\n        <dl class=\"\">\\n            <dt>\\n                <a onclick=\"moreurl(this, {from:\\'mv_tops\\'})\" href=\"https://movie.douban.com/subject/4848115/?from=top250\">\\n                    <img src=\"https://img3.doubanio.com/view/photo/s_ratio_poster/public/p709670262.jpg\" class=\"m_sub_img\"/>\\n                </a>\\n            </dt>\\n            <dd>\\n                <a onclick=\"moreurl(this, {from:\\'mv_tops\\'})\" href=\"https://movie.douban.com/subject/4848115/?from=top250\" class=\"\">\\n                    \\xe4\\xbd\\xa0\\xe7\\x9c\\x8b\\xe8\\xb5\\xb7\\xe6\\x9d\\xa5\\xe5\\xa5\\xbd\\xe5\\x83\\x8f\\xe5\\xbe\\x88\\xe5\\xa5\\xbd\\xe5\\x90\\x83\\n                </a>\\n                <span class=\"gact\"></span><br/>\\n            </dd>\\n        </dl>\\n        <dl class=\"\">\\n            <dt>\\n                <a onclick=\"moreurl(this, {from:\\'mv_tops\\'})\" href=\"https://movie.douban.com/subject/1291560/?from=top250\">\\n                    <img src=\"https://img9.doubanio.com/view/photo/s_ratio_poster/public/p2540924496.jpg\" class=\"m_sub_img\"/>\\n                </a>\\n            </dt>\\n            <dd>\\n                <a onclick=\"moreurl(this, {from:\\'mv_tops\\'})\" href=\"https://movie.douban.com/subject/1291560/?from=top250\" class=\"\">\\n                    \\xe9\\xbe\\x99\\xe7\\x8c\\xab\\n                </a>\\n                <span class=\"gact\"></span><br/>\\n            </dd>\\n        </dl>\\n            <div class=\"clearfix rr\" style=\"width:100%\"></div>\\n        <dl class=\"\">\\n            <dt>\\n                <a onclick=\"moreurl(this, {from:\\'mv_tops\\'})\" href=\"https://movie.douban.com/subject/1291585/?from=top250\">\\n                    <img src=\"https://img3.doubanio.com/view/photo/s_ratio_poster/public/p1917567652.jpg\" class=\"m_sub_img\"/>\\n                </a>\\n            </dt>\\n            <dd>\\n                <a onclick=\"moreurl(this, {from:\\'mv_tops\\'})\" href=\"https://movie.douban.com/subject/1291585/?from=top250\" class=\"\">\\n                    \\xe9\\xa3\\x8e\\xe4\\xb9\\x8b\\xe8\\xb0\\xb7\\n                </a>\\n                <span class=\"gact\"></span><br/>\\n            </dd>\\n        </dl>\\n        <dl class=\"\">\\n            <dt>\\n                <a onclick=\"moreurl(this, {from:\\'mv_tops\\'})\" href=\"https://movie.douban.com/subject/1295038/?from=top250\">\\n                    <img src=\"https://img9.doubanio.com/view/photo/s_ratio_poster/public/p2591591494.jpg\" class=\"m_sub_img\"/>\\n                </a>\\n            </dt>\\n            <dd>\\n                <a onclick=\"moreurl(this, {from:\\'mv_tops\\'})\" href=\"https://movie.douban.com/subject/1295038/?from=top250\" class=\"\">\\n                    \\xe5\\x93\\x88\\xe5\\x88\\xa9\\xc2\\xb7\\xe6\\xb3\\xa2\\xe7\\x89\\xb9\\xe4\\xb8\\x8e\\xe9\\xad\\x94\\xe6\\xb3\\x95\\xe7\\x9f\\xb3\\n                </a>\\n                <span class=\"gact\"></span><br/>\\n            </dd>\\n        </dl>\\n        <dl class=\"\">\\n            <dt>\\n                <a onclick=\"moreurl(this, {from:\\'mv_tops\\'})\" href=\"https://movie.douban.com/subject/1889243/?from=top250\">\\n                    <img src=\"https://img3.doubanio.com/view/photo/s_ratio_poster/public/p2206088801.jpg\" class=\"m_sub_img\"/>\\n                </a>\\n            </dt>\\n            <dd>\\n                <a onclick=\"moreurl(this, {from:\\'mv_tops\\'})\" href=\"https://movie.douban.com/subject/1889243/?from=top250\" class=\"\">\\n                    \\xe6\\x98\\x9f\\xe9\\x99\\x85\\xe7\\xa9\\xbf\\xe8\\xb6\\x8a\\n                </a>\\n                <span class=\"gact\"></span><br/>\\n            </dd>\\n        </dl>\\n            <div class=\"clearfix rr\" style=\"width:100%\"></div>\\n        <dl class=\"\">\\n            <dt>\\n                <a onclick=\"moreurl(this, {from:\\'mv_tops\\'})\" href=\"https://movie.douban.com/subject/1300117/?from=top250\">\\n                    <img src=\"https://img9.doubanio.com/view/photo/s_ratio_poster/public/p2195672555.jpg\" class=\"m_sub_img\"/>\\n                </a>\\n            </dt>\\n            <dd>\\n                <a onclick=\"moreurl(this, {from:\\'mv_tops\\'})\" href=\"https://movie.douban.com/subject/1300117/?from=top250\" class=\"\">\\n                    \\xe5\\x8d\\x83\\xe9\\x92\\xa7\\xe4\\xb8\\x80\\xe5\\x8f\\x91\\n                </a>\\n                <span class=\"gact\"></span><br/>\\n            </dd>\\n        </dl>\\n        <dl class=\"\">\\n            <dt>\\n                <a onclick=\"moreurl(this, {from:\\'mv_tops\\'})\" href=\"https://movie.douban.com/subject/1292226/?from=top250\">\\n                    <img src=\"https://img9.doubanio.com/view/photo/s_ratio_poster/public/p2560717825.jpg\" class=\"m_sub_img\"/>\\n                </a>\\n            </dt>\\n            <dd>\\n                <a onclick=\"moreurl(this, {from:\\'mv_tops\\'})\" href=\"https://movie.douban.com/subject/1292226/?from=top250\" class=\"\">\\n                    2001\\xe5\\xa4\\xaa\\xe7\\xa9\\xba\\xe6\\xbc\\xab\\xe6\\xb8\\xb8\\n                </a>\\n                <span class=\"gact\"></span><br/>\\n            </dd>\\n        </dl>\\n        <dl class=\"\">\\n            <dt>\\n                <a onclick=\"moreurl(this, {from:\\'mv_tops\\'})\" href=\"https://movie.douban.com/subject/1291844/?from=top250\">\\n                    <img src=\"https://img9.doubanio.com/view/photo/s_ratio_poster/public/p1910909085.jpg\" class=\"m_sub_img\"/>\\n                </a>\\n            </dt>\\n            <dd>\\n                <a onclick=\"moreurl(this, {from:\\'mv_tops\\'})\" href=\"https://movie.douban.com/subject/1291844/?from=top250\" class=\"\">\\n                    \\xe7\\xbb\\x88\\xe7\\xbb\\x93\\xe8\\x80\\x852\\xef\\xbc\\x9a\\xe5\\xae\\xa1\\xe5\\x88\\xa4\\xe6\\x97\\xa5\\n                </a>\\n                <span class=\"gact\"></span><br/>\\n            </dd>\\n        </dl>\\n            <div class=\"clearfix rr\" style=\"width:100%\"></div>\\n        <dl class=\"\">\\n            <dt>\\n                <a onclick=\"moreurl(this, {from:\\'mv_tops\\'})\" href=\"https://movie.douban.com/subject/1293460/?from=top250\">\\n                    <img src=\"https://img9.doubanio.com/view/photo/s_ratio_poster/public/p1612355875.jpg\" class=\"m_sub_img\"/>\\n                </a>\\n            </dt>\\n            <dd>\\n                <a onclick=\"moreurl(this, {from:\\'mv_tops\\'})\" href=\"https://movie.douban.com/subject/1293460/?from=top250\" class=\"\">\\n                    \\xe9\\x9b\\xa8\\xe4\\xb8\\xad\\xe6\\x9b\\xb2\\n                </a>\\n                <span class=\"gact\"></span><br/>\\n            </dd>\\n        </dl>\\n        <dl class=\"\">\\n            <dt>\\n                <a onclick=\"moreurl(this, {from:\\'mv_tops\\'})\" href=\"https://movie.douban.com/subject/21360417/?from=top250\">\\n                    <img src=\"https://img9.doubanio.com/view/photo/s_ratio_poster/public/p2016930906.jpg\" class=\"m_sub_img\"/>\\n                </a>\\n            </dt>\\n            <dd>\\n                <a onclick=\"moreurl(this, {from:\\'mv_tops\\'})\" href=\"https://movie.douban.com/subject/21360417/?from=top250\" class=\"\">\\n                    \\xe6\\x81\\x90\\xe6\\x80\\x96\\xe7\\x9b\\xb4\\xe6\\x92\\xad\\n                </a>\\n                <span class=\"gact\"></span><br/>\\n            </dd>\\n        </dl>\\n        <dl class=\"\">\\n            <dt>\\n                <a onclick=\"moreurl(this, {from:\\'mv_tops\\'})\" href=\"https://movie.douban.com/subject/25986180/?from=top250\">\\n                    <img src=\"https://img1.doubanio.com/view/photo/s_ratio_poster/public/p2360940399.jpg\" class=\"m_sub_img\"/>\\n                </a>\\n            </dt>\\n            <dd>\\n                <a onclick=\"moreurl(this, {from:\\'mv_tops\\'})\" href=\"https://movie.douban.com/subject/25986180/?from=top250\" class=\"\">\\n                    \\xe9\\x87\\x9c\\xe5\\xb1\\xb1\\xe8\\xa1\\x8c\\n                </a>\\n                <span class=\"gact\"></span><br/>\\n            </dd>\\n        </dl>\\n            <div class=\"clearfix rr\" style=\"width:100%\"></div>\\n\\n        </div>\\n    </div>\\n    \\n\\n        </div>\\n    </div>\\n\\n            </div>\\n            <div class=\"extra\">\\n                \\n    <!-- douban ad begin -->\\n    <div id=\"dale_movie_chart_bottom_banner\"></div>\\n    <!-- douban ad end -->\\n\\n            </div>\\n        </div>\\n    </div>\\n\\n        \\n    <div id=\"footer\">\\n            <div class=\"footer-extra\"></div>\\n        \\n<span id=\"icp\" class=\"fleft gray-link\">\\n    &copy; 2005\\xef\\xbc\\x8d2020 douban.com, all rights reserved \\xe5\\x8c\\x97\\xe4\\xba\\xac\\xe8\\xb1\\x86\\xe7\\xbd\\x91\\xe7\\xa7\\x91\\xe6\\x8a\\x80\\xe6\\x9c\\x89\\xe9\\x99\\x90\\xe5\\x85\\xac\\xe5\\x8f\\xb8\\n</span>\\n\\n<a href=\"https://www.douban.com/hnypt/variformcyst.py\" style=\"display: none;\"></a>\\n\\n<span class=\"fright\">\\n    <a href=\"https://www.douban.com/about\">\\xe5\\x85\\xb3\\xe4\\xba\\x8e\\xe8\\xb1\\x86\\xe7\\x93\\xa3</a>\\n    \\xc2\\xb7 <a href=\"https://www.douban.com/jobs\">\\xe5\\x9c\\xa8\\xe8\\xb1\\x86\\xe7\\x93\\xa3\\xe5\\xb7\\xa5\\xe4\\xbd\\x9c</a>\\n    \\xc2\\xb7 <a href=\"https://www.douban.com/about?topic=contactus\">\\xe8\\x81\\x94\\xe7\\xb3\\xbb\\xe6\\x88\\x91\\xe4\\xbb\\xac</a>\\n    \\xc2\\xb7 <a href=\"https://www.douban.com/about/legal\">\\xe6\\xb3\\x95\\xe5\\xbe\\x8b\\xe5\\xa3\\xb0\\xe6\\x98\\x8e</a>\\n    \\n    \\xc2\\xb7 <a href=\"https://help.douban.com/?app=movie\" target=\"_blank\">\\xe5\\xb8\\xae\\xe5\\x8a\\xa9\\xe4\\xb8\\xad\\xe5\\xbf\\x83</a>\\n    \\xc2\\xb7 <a href=\"https://www.douban.com/doubanapp/\">\\xe7\\xa7\\xbb\\xe5\\x8a\\xa8\\xe5\\xba\\x94\\xe7\\x94\\xa8</a>\\n    \\xc2\\xb7 <a href=\"https://www.douban.com/partner/\">\\xe8\\xb1\\x86\\xe7\\x93\\xa3\\xe5\\xb9\\xbf\\xe5\\x91\\x8a</a>\\n</span>\\n\\n    </div>\\n\\n    </div>\\n    <!-- COLLECTED JS -->\\n        \\n        \\n    <link rel=\"stylesheet\" type=\"text/css\" href=\"https://img3.doubanio.com/f/shire/8377b9498330a2e6f056d863987cc7a37eb4d486/css/ui/dialog.css\" />\\n    <link rel=\"stylesheet\" type=\"text/css\" href=\"https://img3.doubanio.com/f/movie/4aca95d66d37ec0712b3d19973b5d8feb75f2f05/css/movie/mod/reg_login_pop.css\" />\\n    <script type=\"text/javascript\" src=\"https://img3.doubanio.com/f/shire/77323ae72a612bba8b65f845491513ff3329b1bb/js/do.js\" data-cfg-autoload=\"false\"></script>\\n    <script type=\"text/javascript\" src=\"https://img3.doubanio.com/f/shire/383a6e43f2108dc69e3ff2681bc4dc6c72a5ffb0/js/ui/dialog.js\"></script>\\n    <script type=\"text/javascript\">\\n        var HTTPS_DB=\\'https://www.douban.com\\';\\nvar account_pop={open:function(o,e){e?referrer=\"?referrer=\"+encodeURIComponent(e):referrer=\"?referrer=\"+window.location.href;var n=\"\",i=\"\",t=448;n=\"\\xe7\\x94\\xa8\\xe6\\x88\\xb7\\xe7\\x99\\xbb\\xe5\\xbd\\x95\",i=\"https://accounts.douban.com/passport/login_popup?source=movie\";var r=document.location.protocol+\"//\"+document.location.hostname,a=dui.Dialog({width:340,title:n,height:t,cls:\"account_pop\",isHideTitle:!0,modal:!0,content:\"<iframe scrolling=\\'no\\' frameborder=\\'0\\' width=\\'340\\' height=\\'\"+t+\"\\' src=\\'\"+i+\"\\' name=\\'\"+r+\"\\'></iframe>\"},!0),c=a.node;if(c.undelegate(),c.delegate(\".dui-dialog-close\",\"click\",function(){var o=$(\"body\");o.find(\"#login_msk\").hide(),o.find(\".account_pop\").remove()}),$(window).width()<478){var d=\"\";\"reg\"===o?d=HTTPS_DB+\"/accounts/register\"+referrer:\"login\"===o&&(d=HTTPS_DB+\"/accounts/login\"+referrer),window.location.href=d}else a.open();$(window).bind(\"message\",function(o){\"https://accounts.douban.com\"===o.originalEvent.origin&&(c.find(\"iframe\").css(\"height\",o.originalEvent.data),c.height(o.originalEvent.data),a.update())})}};Douban&&Douban.init_show_login&&(Douban.init_show_login=function(o){var e=$(o);e.click(function(){var o=e.data(\"ref\")||\"\";return account_pop.open(\"login\",o),!1})}),Do(function(){$(\"body\").delegate(\".pop_register\",\"click\",function(o){o.preventDefault();var e=$(this).data(\"ref\")||\"\";return account_pop.open(\"reg\",e),!1}),$(\"body\").delegate(\".pop_login\",\"click\",function(o){o.preventDefault();var e=$(this).data(\"ref\")||\"\";return account_pop.open(\"login\",e),!1})});\\n    </script>\\n\\n    \\n    <!-- douban ad begin -->\\n    \\n\\n\\n\\n\\n    \\n<script type=\"text/javascript\">\\n    (function (global) {\\n        var newNode = global.document.createElement(\\'script\\'),\\n            existingNode = global.document.getElementsByTagName(\\'script\\')[0],\\n            adSource = \\'//erebor.douban.com/\\',\\n            userId = \\'\\',\\n            browserId = \\'RQT4KSdB4B8\\',\\n            criteria = \\'3:/chart\\',\\n            preview = \\'\\',\\n            debug = false,\\n            adSlots = [\\'dale_movie_chart_top_right\\', \\'dale_movie_chart_bottom_banner\\'];\\n\\n        global.DoubanAdRequest = {src: adSource, uid: userId, bid: browserId, crtr: criteria, prv: preview, debug: debug};\\n        global.DoubanAdSlots = (global.DoubanAdSlots || []).concat(adSlots);\\n\\n        newNode.setAttribute(\\'type\\', \\'text/javascript\\');\\n        newNode.setAttribute(\\'src\\', \\'//img1.doubanio.com/eDRjYjNvdi9mL2FkanMvZTQ2YTNkMjgwYjBiMzc2OWE4YTI3MWFhMzI0NTQwMTBlMWY3OTYzMy9hZC5yZWxlYXNlLmpz\\');\\n        newNode.setAttribute(\\'async\\', true);\\n        existingNode.parentNode.insertBefore(newNode, existingNode);\\n    })(this);\\n</script>\\n\\n\\n\\n\\n\\n\\n\\n\\n\\n\\n    <!-- douban ad end -->\\n\\n    \\n  \\n\\n\\n\\n\\n\\n\\n\\n\\n\\n<script type=\"text/javascript\">\\nvar _paq = _paq || [];\\n_paq.push([\\'trackPageView\\']);\\n_paq.push([\\'enableLinkTracking\\']);\\n(function() {\\n    var p=((\\'https:\\' == document.location.protocol) ? \\'https\\' : \\'http\\'), u=p+\\'://fundin.douban.com/\\';\\n    _paq.push([\\'setTrackerUrl\\', u+\\'piwik\\']);\\n    _paq.push([\\'setSiteId\\', \\'100001\\']);\\n    var d=document, g=d.createElement(\\'script\\'), s=d.getElementsByTagName(\\'script\\')[0];\\n    g.type=\\'text/javascript\\';\\n    g.defer=true;\\n    g.async=true;\\n    g.src=p+\\'://img3.doubanio.com/dae/fundin/piwik.js\\';\\n    s.parentNode.insertBefore(g,s);\\n})();\\n</script>\\n\\n<script type=\"text/javascript\">\\nvar setMethodWithNs = function(namespace) {\\n  var ns = namespace ? namespace + \\'.\\' : \\'\\'\\n    , fn = function(string) {\\n        if(!ns) {return string}\\n        return ns + string\\n      }\\n  return fn\\n}\\n\\nvar gaWithNamespace = function(fn, namespace) {\\n  var method = setMethodWithNs(namespace)\\n  fn.call(this, method)\\n}\\n\\nvar _gaq = _gaq || []\\n  , accounts = [\\n      { id: \\'UA-7019765-1\\', namespace: \\'douban\\' }\\n    , { id: \\'UA-7019765-19\\', namespace: \\'\\' }\\n    ]\\n  , gaInit = function(account) {\\n      gaWithNamespace(function(method) {\\n        gaInitFn.call(this, method, account)\\n      }, account.namespace)\\n    }\\n  , gaInitFn = function(method, account) {\\n      _gaq.push([method(\\'_setAccount\\'), account.id]);\\n      _gaq.push([method(\\'_setSampleRate\\'), \\'5\\']);\\n\\n      \\n  _gaq.push([method(\\'_addOrganic\\'), \\'google\\', \\'q\\'])\\n  _gaq.push([method(\\'_addOrganic\\'), \\'baidu\\', \\'wd\\'])\\n  _gaq.push([method(\\'_addOrganic\\'), \\'soso\\', \\'w\\'])\\n  _gaq.push([method(\\'_addOrganic\\'), \\'youdao\\', \\'q\\'])\\n  _gaq.push([method(\\'_addOrganic\\'), \\'so.360.cn\\', \\'q\\'])\\n  _gaq.push([method(\\'_addOrganic\\'), \\'sogou\\', \\'query\\'])\\n  if (account.namespace) {\\n    _gaq.push([method(\\'_addIgnoredOrganic\\'), \\'\\xe8\\xb1\\x86\\xe7\\x93\\xa3\\'])\\n    _gaq.push([method(\\'_addIgnoredOrganic\\'), \\'douban\\'])\\n    _gaq.push([method(\\'_addIgnoredOrganic\\'), \\'\\xe8\\xb1\\x86\\xe7\\x93\\xa3\\xe7\\xbd\\x91\\'])\\n    _gaq.push([method(\\'_addIgnoredOrganic\\'), \\'www.douban.com\\'])\\n  }\\n\\n      if (account.namespace === \\'douban\\') {\\n        _gaq.push([method(\\'_setDomainName\\'), \\'.douban.com\\'])\\n      }\\n\\n        _gaq.push([method(\\'_setCustomVar\\'), 1, \\'responsive_view_mode\\', \\'desktop\\', 3])\\n\\n        _gaq.push([method(\\'_setCustomVar\\'), 2, \\'login_status\\', \\'0\\', 2]);\\n\\n      _gaq.push([method(\\'_trackPageview\\')])\\n    }\\n\\nfor(var i = 0, l = accounts.length; i < l; i++) {\\n  var account = accounts[i]\\n  gaInit(account)\\n}\\n\\n\\n;(function() {\\n    var ga = document.createElement(\\'script\\');\\n    ga.src = (\\'https:\\' == document.location.protocol ? \\'https://ssl\\' : \\'http://www\\') + \\'.google-analytics.com/ga.js\\';\\n    ga.setAttribute(\\'async\\', \\'true\\');\\n    document.documentElement.firstChild.appendChild(ga);\\n})()\\n</script>\\n\\n\\n\\n\\n\\n\\n\\n\\n      \\n    \\n\\n    <!-- dae-web-movie--default-7b7665dcf7-zfh7w-->\\n\\n  <script>_SPLITTEST=\\'\\'</script>\\n</body>\\n\\n</html>\\n\\n\\n'\n"
     ]
    }
   ],
   "source": [
    "print (r.status_code, r.content)"
   ]
  },
  {
   "cell_type": "code",
   "execution_count": 24,
   "metadata": {},
   "outputs": [
    {
     "data": {
      "text/plain": [
       "[Empty DataFrame\n",
       " Columns: []\n",
       " Index: [], Empty DataFrame\n",
       " Columns: [饥饿站台  / 饥饿斗室(港) / 绝命大平台(台)  2019-09-06(多伦多电影节) / 2019-11-08(西班牙) / 伊万·马萨戈 / 佐里昂·伊圭里奥尔 / 安东尼亚·圣胡安 / 埃米利奥·布阿勒 / 亚历山德拉·玛桑凯 / 马里奥·帕尔多 / 阿尔吉斯·阿洛斯卡斯 / 米里亚姆·马丁 / 西班牙 / elhoyolapelicula.com / 加尔德·加兹特鲁·乌鲁蒂亚...  7.8  (104267人评价)]\n",
       " Index: [], Empty DataFrame\n",
       " Columns: [隐形人  / 隐身人 / 隐形客(港)  2020-02-28(美国) / 伊丽莎白·莫斯 / 奥利弗·杰森-科恩 / 阿尔迪斯·霍吉 / 迈克尔·多曼 / 斯托姆·瑞德 / 本尼迪克·哈迪 / 哈丽特·戴尔 / 瑞妮·林 / 布莱恩·米根 / 薇薇安·格里尔 / 尼古拉斯·霍普 / 克利夫·威廉姆斯 / 萨姆·史密斯...  7.3  (68173人评价)]\n",
       " Index: [], Empty DataFrame\n",
       " Columns: [绅士们  / 疯狂绅士帮(港) / 绅士追杀令(台)  2020-01-24(美国) / 马修·麦康纳 / 查理·汉纳姆 / 亨利·戈尔丁 / 米歇尔·道克瑞 / 杰瑞米·斯特朗 / 科林·法瑞尔 / 休·格兰特 / 琳·勒内 / 马克斯·班内特 / 布列塔尼·阿什沃思 / 伊川东吾 / 尤金娜·库日敏娜 / 乔丹·朗 / 杰森·王 / 可可·萨姆纳...  8.4  (33595人评价)]\n",
       " Index: [], Empty DataFrame\n",
       " Columns: [大赢家  / The Winners  [可播放]  2020-03-20(中国大陆) / 大鹏 / 柳岩 / 代乐乐 / 张子贤 / 田雨 / 孟鹤堂 / 陶慧 / 许娣 / 王戈 / 杜源 / 阿如那 / 张绍荣 / 张帆 / 夏甄 / 杨砚铎 / 臧鸿飞 / 李萍 / 乔晟一 / 孟非 / 屈菁菁 / 腾格尔 / 叶晞月 / 杜维瀚 / 耿业庭 / 庞博 / 姜志刚...  6.8  (114865人评价)]\n",
       " Index: [], Empty DataFrame\n",
       " Columns: [狩猎  / 猎逃生死战(港) / 猎捕  2020-03-13(美国) / 贝蒂·吉尔平 / 希拉里·斯万克 / 艾玛·罗伯茨 / 贾斯汀·哈特雷 / 伊克·巴里霍尔兹 / 格伦·豪尔顿 / 埃米·马迪根 / 梅肯·布莱尔 / 特瑞·韦伯 / 斯蒂芬·考特尔 / 韦恩·杜瓦尔 / J.C.麦肯泽 / 里德·伯尼 / 汉斯·马雷罗...  7.2  (33285人评价)]\n",
       " Index: [], Empty DataFrame\n",
       " Columns: [逃离比勒陀利亚  2020-03-06(英国) / 丹尼尔·雷德克里夫 / 伊恩·哈特 / 丹尼尔·韦伯 / 内森·佩吉 / 斯蒂芬·亨特 / 马克·伦纳德·温特 / 珍妮特·克罗宁 / 山姆·尼尔 / Ratidzo Mambo / 英国 / 澳大利亚 / 弗朗西斯·安南 / 106分钟 / 逃离比勒陀利亚 / 剧情 / 犯罪...  7.6  (20806人评价)]\n",
       " Index: [], Empty DataFrame\n",
       " Columns: [误杀  / 误杀瞒天记中国版 / Sheep Without a Shepherd  [可播放]  2019-12-07(大规模点映) / 2019-12-13(中国大陆) / 肖央 / 谭卓 / 陈冲 / 姜皓文 / 秦沛 / 边天扬 / 许文姗 / 张熙然 / 施名帅 / 黄健玮 / 谷洋 / 陈志朋 / 张林 / 中国大陆 / 柯汶利 / 112分钟 / 剧情 / 犯罪 / 悬疑 / 杨薇薇 Weiwei Yang / 翟培 / 李鹏...  7.7  (478810人评价)]\n",
       " Index: [], Empty DataFrame\n",
       " Columns: [1/2的魔法  / 魔法环游记 / 勇往直前  2020-02-21(柏林电影节) / 2020-03-06(美国) / 汤姆·赫兰德 / 克里斯·帕拉特 / 茱莉亚·路易斯-德瑞弗斯 / 奥克塔维亚·斯宾瑟 / 梅尔·罗德里格斯 / 凯尔·柏海莫 / 丽娜·维特 / 黄阿丽 / 格蕾·德丽斯勒 / 崔茜·尤玛 / 维尔摩·瓦尔德拉玛...  7.9  (9956人评价)]\n",
       " Index: [], Empty DataFrame\n",
       " Columns: [热带雨  / Wet Season  2019-09-08(多伦多电影节) / 2019-11-28(新加坡) / 杨雁雁 / 许家乐 / 李铭顺 / 杨世彬 / 新加坡 / 中国台湾 / 陈哲艺 / 103分钟 / 剧情 / 陈哲艺 Anthony Chen / 英语 / 汉语普通话 / 福建话  7.7  (12840人评价)]\n",
       " Index: [], Empty DataFrame\n",
       " Columns: [火口的两人  / 火口秘情 / 火口的二人  2019-08-23(日本) / 柄本佑 / 泷内公美 / 柄本明 / 日本 / 荒井晴彦 / 115分钟 / 火口的两人 / 爱情 / 情色 / 荒井晴彦 Haruhiko Arai / 白石一文 Kazufumi Shiraishi / 日语  6.9  (9170人评价)]\n",
       " Index: []]"
      ]
     },
     "execution_count": 24,
     "metadata": {},
     "output_type": "execute_result"
    }
   ],
   "source": [
    "df = pd.read_html(r.content, encoding=\"utf8\", header=0, index_col=0)\n",
    "df"
   ]
  },
  {
   "cell_type": "code",
   "execution_count": 25,
   "metadata": {},
   "outputs": [],
   "source": [
    "# 出来了！"
   ]
  },
  {
   "cell_type": "code",
   "execution_count": null,
   "metadata": {},
   "outputs": [],
   "source": []
  },
  {
   "cell_type": "code",
   "execution_count": null,
   "metadata": {},
   "outputs": [],
   "source": []
  },
  {
   "cell_type": "markdown",
   "metadata": {},
   "source": [
    "> 扩展  （获取官网信息，翻页处理）\n",
    " "
   ]
  },
  {
   "cell_type": "code",
   "execution_count": 157,
   "metadata": {},
   "outputs": [
    {
     "data": {
      "text/html": [
       "<div>\n",
       "<style scoped>\n",
       "    .dataframe tbody tr th:only-of-type {\n",
       "        vertical-align: middle;\n",
       "    }\n",
       "\n",
       "    .dataframe tbody tr th {\n",
       "        vertical-align: top;\n",
       "    }\n",
       "\n",
       "    .dataframe thead th {\n",
       "        text-align: right;\n",
       "    }\n",
       "</style>\n",
       "<table border=\"1\" class=\"dataframe\">\n",
       "  <thead>\n",
       "    <tr style=\"text-align: right;\">\n",
       "      <th></th>\n",
       "      <th>标题</th>\n",
       "      <th>时间</th>\n",
       "    </tr>\n",
       "  </thead>\n",
       "  <tbody>\n",
       "    <tr>\n",
       "      <th>0</th>\n",
       "      <td>文学与传媒学院教师获邀参加2020年U40中澳暑期工作营及国际学术研讨会</td>\n",
       "      <td>2020-01-06</td>\n",
       "    </tr>\n",
       "    <tr>\n",
       "      <th>1</th>\n",
       "      <td>文学与传媒学院2019年学术研讨会暨总结大会顺利召开</td>\n",
       "      <td>2020-01-06</td>\n",
       "    </tr>\n",
       "    <tr>\n",
       "      <th>2</th>\n",
       "      <td>展现当代青年的迷惘与奋进——我校文学与传媒学院大型原创舞台剧《春至》圆满落幕</td>\n",
       "      <td>2019-12-20</td>\n",
       "    </tr>\n",
       "    <tr>\n",
       "      <th>3</th>\n",
       "      <td>文学与传媒学院考研座谈暨2020年考研交流答疑会圆满结束</td>\n",
       "      <td>2019-11-22</td>\n",
       "    </tr>\n",
       "    <tr>\n",
       "      <th>4</th>\n",
       "      <td>文学与传媒学院教师招聘启事</td>\n",
       "      <td>2019-11-05</td>\n",
       "    </tr>\n",
       "    <tr>\n",
       "      <th>5</th>\n",
       "      <td>创意无限，未来可期——文学与传媒学院青马工程第四讲暨闭营仪式顺利举行</td>\n",
       "      <td>2019-11-04</td>\n",
       "    </tr>\n",
       "    <tr>\n",
       "      <th>6</th>\n",
       "      <td>垃圾分类我先行——文学与传媒学院“分门别类，谁与争锋”垃圾分类趣味知识竞赛决赛顺利举行</td>\n",
       "      <td>2019-11-04</td>\n",
       "    </tr>\n",
       "    <tr>\n",
       "      <th>7</th>\n",
       "      <td>以梦为马，不负韶华——文学与传媒学院2019级新生开学典礼圆满结束</td>\n",
       "      <td>2019-09-16</td>\n",
       "    </tr>\n",
       "    <tr>\n",
       "      <th>8</th>\n",
       "      <td>文学与传媒学院学子在全国高校数字艺术设计大赛中斩获大奖</td>\n",
       "      <td>2019-09-09</td>\n",
       "    </tr>\n",
       "    <tr>\n",
       "      <th>9</th>\n",
       "      <td>文学与传媒学院学子在第七届中国大学生公共关系策划大赛中喜获佳绩</td>\n",
       "      <td>2019-09-09</td>\n",
       "    </tr>\n",
       "    <tr>\n",
       "      <th>10</th>\n",
       "      <td>倾心之作，致敬经典——文学与传媒学院紫阳戏剧社《倾城之恋》话剧展演圆满落幕</td>\n",
       "      <td>2019-06-24</td>\n",
       "    </tr>\n",
       "    <tr>\n",
       "      <th>11</th>\n",
       "      <td>毕业季 | 今朝有离别，青春不散场 ——文学与传媒学院2019届毕业生毕业季系列活动有序开展</td>\n",
       "      <td>2019-06-24</td>\n",
       "    </tr>\n",
       "    <tr>\n",
       "      <th>12</th>\n",
       "      <td>对话校友，嘉木成林——文学与传媒学院校友访谈会顺利举办</td>\n",
       "      <td>2019-06-24</td>\n",
       "    </tr>\n",
       "    <tr>\n",
       "      <th>13</th>\n",
       "      <td>观一代文豪，品苏诗之美——从化区作协主席刘尚阳先生来文学与传媒学院讲学</td>\n",
       "      <td>2019-06-20</td>\n",
       "    </tr>\n",
       "    <tr>\n",
       "      <th>14</th>\n",
       "      <td>墨香淡淡，“书”途同归——文学与传媒学院旧书捐赠活动顺利开展</td>\n",
       "      <td>2019-06-20</td>\n",
       "    </tr>\n",
       "    <tr>\n",
       "      <th>15</th>\n",
       "      <td>大咖行于市井，定格烟火光影——羊晚高级记者叶健强先生来文学与传媒学院精讲新闻摄影</td>\n",
       "      <td>2019-06-19</td>\n",
       "    </tr>\n",
       "    <tr>\n",
       "      <th>16</th>\n",
       "      <td>文学与传媒学院第三届“南方·世新”两岸两校毕业联展暨交流会顺利举行</td>\n",
       "      <td>2019-06-13</td>\n",
       "    </tr>\n",
       "    <tr>\n",
       "      <th>17</th>\n",
       "      <td>传播天下 “媒”梦有你——文学与传媒学院学生优秀作品展开幕式顺利举行</td>\n",
       "      <td>2019-05-30</td>\n",
       "    </tr>\n",
       "    <tr>\n",
       "      <th>18</th>\n",
       "      <td>不忘初心，勇攀高峰——文学与传媒学院团总支以第一名成绩喜提学校“优秀团委（团总支）”称号</td>\n",
       "      <td>2019-05-27</td>\n",
       "    </tr>\n",
       "    <tr>\n",
       "      <th>19</th>\n",
       "      <td>传道授业，提疑解惑——文学与传媒学院期中座谈会新闻学与网络与新媒体专场顺利召开</td>\n",
       "      <td>2019-05-27</td>\n",
       "    </tr>\n",
       "    <tr>\n",
       "      <th>20</th>\n",
       "      <td>文学与传媒学院团学团队参加我校校园文化艺术节闭幕式暨文艺汇演</td>\n",
       "      <td>2019-05-27</td>\n",
       "    </tr>\n",
       "    <tr>\n",
       "      <th>21</th>\n",
       "      <td>文学与传媒学院学生作品在南粤校园中华经典诵读文化艺术节中荣获大学组一等奖</td>\n",
       "      <td>2019-05-24</td>\n",
       "    </tr>\n",
       "    <tr>\n",
       "      <th>22</th>\n",
       "      <td>赛出实力，教出风采——文学与传媒学院第六届教师教学竞赛顺利举行</td>\n",
       "      <td>2019-05-17</td>\n",
       "    </tr>\n",
       "    <tr>\n",
       "      <th>23</th>\n",
       "      <td>文学与传媒学院首届“传播天下，‘媒’梦有你”专业文化活动月开幕式暨第十届最强讲师决赛圆满结束</td>\n",
       "      <td>2019-05-17</td>\n",
       "    </tr>\n",
       "    <tr>\n",
       "      <th>24</th>\n",
       "      <td>师生互动，解惑答疑——文学与传媒学院期中座谈会汉语言文学专场顺利召开</td>\n",
       "      <td>2019-05-15</td>\n",
       "    </tr>\n",
       "    <tr>\n",
       "      <th>25</th>\n",
       "      <td>“五四”精神，百年传承 ——文学与传媒学院“五四红旗团支部评选大会”顺利举行</td>\n",
       "      <td>2019-05-10</td>\n",
       "    </tr>\n",
       "    <tr>\n",
       "      <th>26</th>\n",
       "      <td>筑梦青春，唱出心声——文学与传媒学院风雅合唱团在我校合唱展演中荣获第一名</td>\n",
       "      <td>2019-05-10</td>\n",
       "    </tr>\n",
       "    <tr>\n",
       "      <th>27</th>\n",
       "      <td>衣冠云集，风韵犹存——文学与传媒学院“励能学堂”第二课顺利开展</td>\n",
       "      <td>2019-05-10</td>\n",
       "    </tr>\n",
       "    <tr>\n",
       "      <th>28</th>\n",
       "      <td>拼搏奋斗，不负韶华——文学与传媒学院开展“纪念五四运动100周年大会”主题学习活动暨青马工程公开课</td>\n",
       "      <td>2019-05-07</td>\n",
       "    </tr>\n",
       "    <tr>\n",
       "      <th>29</th>\n",
       "      <td>博学多思，“研”续精彩——文学与传媒学院考研座谈会暨考研经验系列分享会继续开展</td>\n",
       "      <td>2019-04-28</td>\n",
       "    </tr>\n",
       "    <tr>\n",
       "      <th>...</th>\n",
       "      <td>...</td>\n",
       "      <td>...</td>\n",
       "    </tr>\n",
       "    <tr>\n",
       "      <th>46</th>\n",
       "      <td>文学与传媒学院师生前往羊城创意产业园参观学习交流</td>\n",
       "      <td>2019-01-02</td>\n",
       "    </tr>\n",
       "    <tr>\n",
       "      <th>47</th>\n",
       "      <td>唇枪舌战，友好沟通——文学与传媒学院悬河辩论队与中大辩论队开展交流会</td>\n",
       "      <td>2018-12-11</td>\n",
       "    </tr>\n",
       "    <tr>\n",
       "      <th>48</th>\n",
       "      <td>开拓视野，融会贯通——文学与传媒学院学术报告型公选课顺利举办</td>\n",
       "      <td>2018-11-21</td>\n",
       "    </tr>\n",
       "    <tr>\n",
       "      <th>49</th>\n",
       "      <td>集思广益 、共创未来——文学与传媒学院2018-2019年第一学期听课研讨会顺利举行</td>\n",
       "      <td>2018-11-15</td>\n",
       "    </tr>\n",
       "    <tr>\n",
       "      <th>50</th>\n",
       "      <td>沟通造就可能——文学与传媒学院青马工程之方糖计划暨闭营仪式顺利举行</td>\n",
       "      <td>2018-11-12</td>\n",
       "    </tr>\n",
       "    <tr>\n",
       "      <th>51</th>\n",
       "      <td>阅读伴我成长，习惯为我助力 ——文学与传媒学院青马工程第三讲顺利开展</td>\n",
       "      <td>2018-11-05</td>\n",
       "    </tr>\n",
       "    <tr>\n",
       "      <th>52</th>\n",
       "      <td>烈日下的青春进行曲——2018年文学与传媒学院体育嘉年华圆满举行</td>\n",
       "      <td>2018-10-29</td>\n",
       "    </tr>\n",
       "    <tr>\n",
       "      <th>53</th>\n",
       "      <td>我校文学与传媒学院杨啸与施若菡同学在从化区青年诗歌朗诵大赛中获奖</td>\n",
       "      <td>2018-05-30</td>\n",
       "    </tr>\n",
       "    <tr>\n",
       "      <th>54</th>\n",
       "      <td>我校文学与传媒学院杨啸与施若菡同学在从化区青年诗歌朗诵大赛中获奖</td>\n",
       "      <td>2018-05-30</td>\n",
       "    </tr>\n",
       "    <tr>\n",
       "      <th>55</th>\n",
       "      <td>“戏子无情实有情”——文学与传媒学院紫阳戏剧社校友座谈会顺利举行</td>\n",
       "      <td>2017-12-01</td>\n",
       "    </tr>\n",
       "    <tr>\n",
       "      <th>56</th>\n",
       "      <td>独立自主，追求不止——文学与传媒学院国家励志奖学金获得者张艳妹专访</td>\n",
       "      <td>2017-11-28</td>\n",
       "    </tr>\n",
       "    <tr>\n",
       "      <th>57</th>\n",
       "      <td>文学与传媒学院辅导员肖君主笔论文荣获首届广东省民办高校学生工作研讨会论文组优秀奖</td>\n",
       "      <td>2017-11-27</td>\n",
       "    </tr>\n",
       "    <tr>\n",
       "      <th>58</th>\n",
       "      <td>文学与传媒学院新媒体研究中心系列活动取得良好反响</td>\n",
       "      <td>2017-11-27</td>\n",
       "    </tr>\n",
       "    <tr>\n",
       "      <th>59</th>\n",
       "      <td>文学与传媒学院辅导员肖君主笔论文荣获首届广东省民办高校学生工作研讨会论文组优秀奖</td>\n",
       "      <td>2017-11-27</td>\n",
       "    </tr>\n",
       "    <tr>\n",
       "      <th>60</th>\n",
       "      <td>文学与传媒学院召开期中教学师生座谈会</td>\n",
       "      <td>2017-11-27</td>\n",
       "    </tr>\n",
       "    <tr>\n",
       "      <th>61</th>\n",
       "      <td>文学与传媒学院师生合作论文获广东省社会科学学术年会中山分会暨中山市社科学术年会二等奖</td>\n",
       "      <td>2017-11-20</td>\n",
       "    </tr>\n",
       "    <tr>\n",
       "      <th>62</th>\n",
       "      <td>文学与传媒学院师生合作论文获广东省社会科学学术年会中山分会暨中山市社科学术年会二等奖</td>\n",
       "      <td>2017-11-20</td>\n",
       "    </tr>\n",
       "    <tr>\n",
       "      <th>63</th>\n",
       "      <td>文学与传媒学院举行新入职教师培训座谈会</td>\n",
       "      <td>2017-11-16</td>\n",
       "    </tr>\n",
       "    <tr>\n",
       "      <th>64</th>\n",
       "      <td>“不卑不亢，不慌不忙” ——文学与传媒学院国家奖学金获得者谢旖纳专访</td>\n",
       "      <td>2017-11-10</td>\n",
       "    </tr>\n",
       "    <tr>\n",
       "      <th>65</th>\n",
       "      <td>文学与传媒学院中美双学位南方学院官方合作项目分享会顺利开展</td>\n",
       "      <td>2017-11-10</td>\n",
       "    </tr>\n",
       "    <tr>\n",
       "      <th>66</th>\n",
       "      <td>强师生体质，展运动佳风——文学与传媒学院第五届体育嘉年华圆满落幕</td>\n",
       "      <td>2017-10-31</td>\n",
       "    </tr>\n",
       "    <tr>\n",
       "      <th>67</th>\n",
       "      <td>文学与传媒学院党团组织认真学习十九大精神</td>\n",
       "      <td>2017-10-27</td>\n",
       "    </tr>\n",
       "    <tr>\n",
       "      <th>68</th>\n",
       "      <td>扬文传之风，承社团之美——文学与传媒学院八大学生专业实践团队动员大会圆满结束</td>\n",
       "      <td>2017-10-27</td>\n",
       "    </tr>\n",
       "    <tr>\n",
       "      <th>69</th>\n",
       "      <td>“重新出发 迈向新时代”——文学与传媒学院成立大会隆重召开</td>\n",
       "      <td>2017-10-26</td>\n",
       "    </tr>\n",
       "    <tr>\n",
       "      <th>70</th>\n",
       "      <td>新征程新起航——文学与传媒学院团学动员大会顺利举行</td>\n",
       "      <td>2017-10-20</td>\n",
       "    </tr>\n",
       "    <tr>\n",
       "      <th>71</th>\n",
       "      <td>文学与传媒学院2017级新生开学典礼圆满结束</td>\n",
       "      <td>2017-09-15</td>\n",
       "    </tr>\n",
       "    <tr>\n",
       "      <th>72</th>\n",
       "      <td>文学与传媒学院与澳新资讯科技有限公司产学研究合作协议签约仪式暨文学与传媒学院新媒体实验室揭牌...</td>\n",
       "      <td>2017-09-13</td>\n",
       "    </tr>\n",
       "    <tr>\n",
       "      <th>73</th>\n",
       "      <td>喜讯： 文学与传媒学院学生在15届中国大学生广告艺术节学院奖盛典中斩获银奖</td>\n",
       "      <td>2017-09-12</td>\n",
       "    </tr>\n",
       "    <tr>\n",
       "      <th>74</th>\n",
       "      <td>喜讯： 文学与传媒学院学生在15届中国大学生广告艺术节学院奖盛典中斩获银奖</td>\n",
       "      <td>2017-09-12</td>\n",
       "    </tr>\n",
       "    <tr>\n",
       "      <th>75</th>\n",
       "      <td>关于成立文学与传媒学院的通知</td>\n",
       "      <td>2017-09-08</td>\n",
       "    </tr>\n",
       "  </tbody>\n",
       "</table>\n",
       "<p>76 rows × 2 columns</p>\n",
       "</div>"
      ],
      "text/plain": [
       "                                                   标题          时间\n",
       "0                文学与传媒学院教师获邀参加2020年U40中澳暑期工作营及国际学术研讨会  2020-01-06\n",
       "1                          文学与传媒学院2019年学术研讨会暨总结大会顺利召开  2020-01-06\n",
       "2              展现当代青年的迷惘与奋进——我校文学与传媒学院大型原创舞台剧《春至》圆满落幕  2019-12-20\n",
       "3                        文学与传媒学院考研座谈暨2020年考研交流答疑会圆满结束  2019-11-22\n",
       "4                                       文学与传媒学院教师招聘启事  2019-11-05\n",
       "5                  创意无限，未来可期——文学与传媒学院青马工程第四讲暨闭营仪式顺利举行  2019-11-04\n",
       "6         垃圾分类我先行——文学与传媒学院“分门别类，谁与争锋”垃圾分类趣味知识竞赛决赛顺利举行  2019-11-04\n",
       "7                   以梦为马，不负韶华——文学与传媒学院2019级新生开学典礼圆满结束  2019-09-16\n",
       "8                         文学与传媒学院学子在全国高校数字艺术设计大赛中斩获大奖  2019-09-09\n",
       "9                     文学与传媒学院学子在第七届中国大学生公共关系策划大赛中喜获佳绩  2019-09-09\n",
       "10              倾心之作，致敬经典——文学与传媒学院紫阳戏剧社《倾城之恋》话剧展演圆满落幕  2019-06-24\n",
       "11     毕业季 | 今朝有离别，青春不散场 ——文学与传媒学院2019届毕业生毕业季系列活动有序开展  2019-06-24\n",
       "12                        对话校友，嘉木成林——文学与传媒学院校友访谈会顺利举办  2019-06-24\n",
       "13                观一代文豪，品苏诗之美——从化区作协主席刘尚阳先生来文学与传媒学院讲学  2019-06-20\n",
       "14                     墨香淡淡，“书”途同归——文学与传媒学院旧书捐赠活动顺利开展  2019-06-20\n",
       "15           大咖行于市井，定格烟火光影——羊晚高级记者叶健强先生来文学与传媒学院精讲新闻摄影  2019-06-19\n",
       "16                  文学与传媒学院第三届“南方·世新”两岸两校毕业联展暨交流会顺利举行  2019-06-13\n",
       "17                 传播天下 “媒”梦有你——文学与传媒学院学生优秀作品展开幕式顺利举行  2019-05-30\n",
       "18       不忘初心，勇攀高峰——文学与传媒学院团总支以第一名成绩喜提学校“优秀团委（团总支）”称号  2019-05-27\n",
       "19            传道授业，提疑解惑——文学与传媒学院期中座谈会新闻学与网络与新媒体专场顺利召开  2019-05-27\n",
       "20                     文学与传媒学院团学团队参加我校校园文化艺术节闭幕式暨文艺汇演  2019-05-27\n",
       "21               文学与传媒学院学生作品在南粤校园中华经典诵读文化艺术节中荣获大学组一等奖  2019-05-24\n",
       "22                    赛出实力，教出风采——文学与传媒学院第六届教师教学竞赛顺利举行  2019-05-17\n",
       "23     文学与传媒学院首届“传播天下，‘媒’梦有你”专业文化活动月开幕式暨第十届最强讲师决赛圆满结束  2019-05-17\n",
       "24                 师生互动，解惑答疑——文学与传媒学院期中座谈会汉语言文学专场顺利召开  2019-05-15\n",
       "25             “五四”精神，百年传承 ——文学与传媒学院“五四红旗团支部评选大会”顺利举行  2019-05-10\n",
       "26               筑梦青春，唱出心声——文学与传媒学院风雅合唱团在我校合唱展演中荣获第一名  2019-05-10\n",
       "27                    衣冠云集，风韵犹存——文学与传媒学院“励能学堂”第二课顺利开展  2019-05-10\n",
       "28  拼搏奋斗，不负韶华——文学与传媒学院开展“纪念五四运动100周年大会”主题学习活动暨青马工程公开课  2019-05-07\n",
       "29            博学多思，“研”续精彩——文学与传媒学院考研座谈会暨考研经验系列分享会继续开展  2019-04-28\n",
       "..                                                ...         ...\n",
       "46                           文学与传媒学院师生前往羊城创意产业园参观学习交流  2019-01-02\n",
       "47                 唇枪舌战，友好沟通——文学与传媒学院悬河辩论队与中大辩论队开展交流会  2018-12-11\n",
       "48                     开拓视野，融会贯通——文学与传媒学院学术报告型公选课顺利举办  2018-11-21\n",
       "49         集思广益 、共创未来——文学与传媒学院2018-2019年第一学期听课研讨会顺利举行  2018-11-15\n",
       "50                  沟通造就可能——文学与传媒学院青马工程之方糖计划暨闭营仪式顺利举行  2018-11-12\n",
       "51                 阅读伴我成长，习惯为我助力 ——文学与传媒学院青马工程第三讲顺利开展  2018-11-05\n",
       "52                   烈日下的青春进行曲——2018年文学与传媒学院体育嘉年华圆满举行  2018-10-29\n",
       "53                   我校文学与传媒学院杨啸与施若菡同学在从化区青年诗歌朗诵大赛中获奖  2018-05-30\n",
       "54                   我校文学与传媒学院杨啸与施若菡同学在从化区青年诗歌朗诵大赛中获奖  2018-05-30\n",
       "55                   “戏子无情实有情”——文学与传媒学院紫阳戏剧社校友座谈会顺利举行  2017-12-01\n",
       "56                  独立自主，追求不止——文学与传媒学院国家励志奖学金获得者张艳妹专访  2017-11-28\n",
       "57           文学与传媒学院辅导员肖君主笔论文荣获首届广东省民办高校学生工作研讨会论文组优秀奖  2017-11-27\n",
       "58                           文学与传媒学院新媒体研究中心系列活动取得良好反响  2017-11-27\n",
       "59           文学与传媒学院辅导员肖君主笔论文荣获首届广东省民办高校学生工作研讨会论文组优秀奖  2017-11-27\n",
       "60                                 文学与传媒学院召开期中教学师生座谈会  2017-11-27\n",
       "61         文学与传媒学院师生合作论文获广东省社会科学学术年会中山分会暨中山市社科学术年会二等奖  2017-11-20\n",
       "62         文学与传媒学院师生合作论文获广东省社会科学学术年会中山分会暨中山市社科学术年会二等奖  2017-11-20\n",
       "63                                文学与传媒学院举行新入职教师培训座谈会  2017-11-16\n",
       "64                 “不卑不亢，不慌不忙” ——文学与传媒学院国家奖学金获得者谢旖纳专访  2017-11-10\n",
       "65                      文学与传媒学院中美双学位南方学院官方合作项目分享会顺利开展  2017-11-10\n",
       "66                   强师生体质，展运动佳风——文学与传媒学院第五届体育嘉年华圆满落幕  2017-10-31\n",
       "67                               文学与传媒学院党团组织认真学习十九大精神  2017-10-27\n",
       "68             扬文传之风，承社团之美——文学与传媒学院八大学生专业实践团队动员大会圆满结束  2017-10-27\n",
       "69                      “重新出发 迈向新时代”——文学与传媒学院成立大会隆重召开  2017-10-26\n",
       "70                          新征程新起航——文学与传媒学院团学动员大会顺利举行  2017-10-20\n",
       "71                             文学与传媒学院2017级新生开学典礼圆满结束  2017-09-15\n",
       "72  文学与传媒学院与澳新资讯科技有限公司产学研究合作协议签约仪式暨文学与传媒学院新媒体实验室揭牌...  2017-09-13\n",
       "73              喜讯： 文学与传媒学院学生在15届中国大学生广告艺术节学院奖盛典中斩获银奖  2017-09-12\n",
       "74              喜讯： 文学与传媒学院学生在15届中国大学生广告艺术节学院奖盛典中斩获银奖  2017-09-12\n",
       "75                                     关于成立文学与传媒学院的通知  2017-09-08\n",
       "\n",
       "[76 rows x 2 columns]"
      ]
     },
     "execution_count": 157,
     "metadata": {},
     "output_type": "execute_result"
    }
   ],
   "source": [
    "from requests_html import HTMLSession\n",
    "import pandas as pd\n",
    "session = HTMLSession()\n",
    "items=[]\n",
    "times=[]\n",
    "\n",
    "for i in range(1,8):\n",
    "    url=\"http://www.nfu.edu.cn/index.php/home/article/search/keyword/%E6%96%87%E5%AD%A6%E4%B8%8E%E4%BC%A0%E5%AA%92%E5%AD%A6%E9%99%A2/p/{}.html\".format(i)\n",
    "\n",
    "    r = session.get(url)\n",
    "\n",
    "    item = r.html.xpath('//li/div/a/@title')\n",
    "    time = r.html.xpath('//li/font/text()')\n",
    "#     print(item) \n",
    "\n",
    "#获取所有标题以及时间\n",
    "    for a in item:\n",
    "        items.append(a)\n",
    "    for a in time:\n",
    "        times.append(a)\n",
    "# print(items)\n",
    "# print(times)\n",
    "    df = pd.DataFrame(\n",
    "        {\n",
    "            \"标题\":items,\n",
    "            \"时间\":times,\n",
    "        })\n",
    "df\n",
    "\n",
    "\n"
   ]
  },
  {
   "cell_type": "code",
   "execution_count": null,
   "metadata": {},
   "outputs": [],
   "source": []
  },
  {
   "cell_type": "code",
   "execution_count": null,
   "metadata": {},
   "outputs": [],
   "source": []
  },
  {
   "cell_type": "code",
   "execution_count": null,
   "metadata": {},
   "outputs": [],
   "source": []
  },
  {
   "cell_type": "code",
   "execution_count": null,
   "metadata": {},
   "outputs": [],
   "source": []
  },
  {
   "cell_type": "code",
   "execution_count": null,
   "metadata": {},
   "outputs": [],
   "source": []
  },
  {
   "cell_type": "code",
   "execution_count": null,
   "metadata": {},
   "outputs": [],
   "source": []
  },
  {
   "cell_type": "code",
   "execution_count": null,
   "metadata": {},
   "outputs": [],
   "source": []
  },
  {
   "cell_type": "code",
   "execution_count": null,
   "metadata": {},
   "outputs": [],
   "source": []
  },
  {
   "cell_type": "code",
   "execution_count": null,
   "metadata": {},
   "outputs": [],
   "source": []
  },
  {
   "cell_type": "code",
   "execution_count": null,
   "metadata": {},
   "outputs": [],
   "source": []
  }
 ],
 "metadata": {
  "kernelspec": {
   "display_name": "Python 3",
   "language": "python",
   "name": "python3"
  },
  "language_info": {
   "codemirror_mode": {
    "name": "ipython",
    "version": 3
   },
   "file_extension": ".py",
   "mimetype": "text/x-python",
   "name": "python",
   "nbconvert_exporter": "python",
   "pygments_lexer": "ipython3",
   "version": "3.7.3"
  },
  "toc": {
   "base_numbering": 1,
   "nav_menu": {},
   "number_sections": true,
   "sideBar": true,
   "skip_h1_title": false,
   "title_cell": "Table of Contents",
   "title_sidebar": "Contents",
   "toc_cell": false,
   "toc_position": {},
   "toc_section_display": true,
   "toc_window_display": false
  }
 },
 "nbformat": 4,
 "nbformat_minor": 2
}
