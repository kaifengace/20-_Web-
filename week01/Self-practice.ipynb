{
 "cells": [
  {
   "cell_type": "code",
   "execution_count": 5,
   "metadata": {},
   "outputs": [
    {
     "name": "stdout",
     "output_type": "stream",
     "text": [
      "爬取完毕,总爬取163张小姐姐的图片\n"
     ]
    }
   ],
   "source": [
    "from requests_html import HTMLSession\n",
    "import requests\n",
    "import os\n",
    "import time\n",
    "\n",
    "img_num = 0\n",
    "session = HTMLSession()\n",
    "\n",
    "# 得到首页下所有li a 下的href链接\n",
    "def li_lists_url(url):\n",
    "    request = session.get(url)      # 这里返回的是requests对象\n",
    "    li_lists = request.html.find('div.Left_bar',first=True).find('li')   #前台比较好的  好理解\n",
    "    for i in li_lists:\n",
    "        href = i.find('a',first=True).attrs['href']\n",
    "        # title = i.find('a',first=True).attrs['title']\n",
    "        get_girls(href)\n",
    "\n",
    "# 得到详细的小图片\n",
    "def get_girls(url):\n",
    "    request = session.get(url)\n",
    "    li_lists = request.html.find('div.scroll-img-cont',first=True).find('li')\n",
    "    for i in li_lists:\n",
    "        img_url = i.find('a img',first=True).attrs['data-original']\n",
    "        img_url =img_url[0:img_url.find('_')]+'.jpg'\n",
    "        # print(img_url)\n",
    "        try:\n",
    "            save_img(img_url)\n",
    "        except:\n",
    "            print('报错了')\n",
    "        \n",
    "\n",
    "# 下载图片\n",
    "def save_img(img_url):\n",
    "    global img_num \n",
    "    img_num += 1\n",
    "    request = requests.get(img_url)\n",
    "    title = int(round(time.time()*1000))# 毫秒级时间戳\n",
    "    with open(r'D:\\Python\\Web数据挖掘\\request_html\\img\\%d.jpg'%title,'wb') as file: # 存储图片，多媒体文件需要参数b（二进制文件）\n",
    "        file.write(request.content) # 多媒体存储content\n",
    "\n",
    "def main(url):\n",
    "    li_lists_url(url)\n",
    "\n",
    "if __name__ == '__main__':\n",
    "    url = 'http://www.win4000.com/zt/xinggan.html'\n",
    "    main(url)\n",
    "    print('爬取完毕,总爬取%d张小姐姐的图片'%img_num)"
   ]
  },
  {
   "cell_type": "code",
   "execution_count": 3,
   "metadata": {},
   "outputs": [
    {
     "name": "stdout",
     "output_type": "stream",
     "text": [
      "Copy a range of elements - C++ Patterns\n",
      "#include <vector>\n",
      "#include <algorithm>\n",
      "#include <iterator>\n",
      "\n",
      "std::vector<int> target2(5);\n",
      "std::vector<int> target3;\n",
      "\n",
      "template <typename RangeOfInts>\n",
      "void foo(RangeOfInts source)\n",
      "{\n",
      "std::vector<int> target1{std::begin(source),\n",
      "std::end(source)};\n",
      "\n",
      "std::copy(std::begin(source), std::end(source),\n",
      "std::begin(target2));\n",
      "\n",
      "std::copy(std::begin(source), std::end(source),\n",
      "std::back_inserter(target3));\n",
      "}\n"
     ]
    }
   ],
   "source": [
    "from requests_html import HTMLSession\n",
    "  \n",
    "session = HTMLSession()\n",
    "url = 'https://cpppatterns.com/patterns/copy-range-of-elements.html'\n",
    "r = session.get(url)\n",
    " \n",
    "def get(sel_title):      #sel_title是代码名字的标签路径\n",
    "    r_title = r.html.find(sel_title)\n",
    "    r_code = r.html.find('tr > td:nth-child(2) > code > span')  #\n",
    "    mylist = []\n",
    "    \n",
    "    print(r_title[0].text)     # 输出代码的名字\n",
    "    for result in r_code:\n",
    "        mylist.append(result.text)\n",
    "        mylist = \" \".join(mylist)       #这个函数可以去掉list中的引号和中括号\n",
    "        print(mylist)\n",
    "        mylist=[]          #清空mylist，便于接收下一个result\n",
    "        \n",
    "if __name__ == \"__main__\":\n",
    "    sel_title = 'head > title'        #代码名字的路径\n",
    "    get(sel_title)         #调用上面那个函数"
   ]
  },
  {
   "cell_type": "code",
   "execution_count": null,
   "metadata": {},
   "outputs": [],
   "source": []
  }
 ],
 "metadata": {
  "kernelspec": {
   "display_name": "Python 3",
   "language": "python",
   "name": "python3"
  },
  "language_info": {
   "codemirror_mode": {
    "name": "ipython",
    "version": 3
   },
   "file_extension": ".py",
   "mimetype": "text/x-python",
   "name": "python",
   "nbconvert_exporter": "python",
   "pygments_lexer": "ipython3",
   "version": "3.7.6"
  }
 },
 "nbformat": 4,
 "nbformat_minor": 4
}
