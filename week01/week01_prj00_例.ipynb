{
 "cells": [
  {
   "cell_type": "markdown",
   "metadata": {
    "slideshow": {
     "slide_type": "slide"
    }
   },
   "source": [
    "# 20春_Web数据挖掘\n",
    "# 项目0 by 廖汉腾, 许智超"
   ]
  },
  {
   "cell_type": "markdown",
   "metadata": {
    "slideshow": {
     "slide_type": "fragment"
    }
   },
   "source": [
    "### 抄用最人性化的模块\n",
    "* 来源 [最新的爬虫工具requests-html](https://www.cnblogs.com/fnng/p/8948015.html)\n",
    "* 文档 [requests-html](https://requests-html.kennethreitz.org/)\n",
    "* 中文文档 [requests-html](https://cncert.github.io/requests-html-doc-cn/#/)\n",
    "\n",
    "####  项目0.A cnblogs 新闻"
   ]
  },
  {
   "cell_type": "code",
   "execution_count": 16,
   "metadata": {
    "slideshow": {
     "slide_type": "subslide"
    }
   },
   "outputs": [
    {
     "name": "stdout",
     "output_type": "stream",
     "text": [
      "标题: 马云给高中生写了一份信，三年后，让全世界都来考数学\n",
      "链接: {'/n/658169/'}\n",
      "链接(绝对): {'https://news.cnblogs.com/n/658169/'}\n",
      "标题: 怀疑开发者在“造核弹”？GitHub 不断封禁开源项目\n",
      "链接: {'/n/658107/'}\n",
      "链接(绝对): {'https://news.cnblogs.com/n/658107/'}\n",
      "标题: AMD 发布 Ryzen 9 系列移动 CPU，笔记本市场变天了么？\n",
      "链接: {'/n/658087/'}\n",
      "链接(绝对): {'https://news.cnblogs.com/n/658087/'}\n",
      "标题: 为什么阿里喜欢全面并购，腾讯喜欢战略投资？\n",
      "链接: {'/n/658059/'}\n",
      "链接(绝对): {'https://news.cnblogs.com/n/658059/'}\n",
      "标题: 从百度掉队谈起：给百度开药，其实只有一条\n",
      "链接: {'/n/658007/'}\n",
      "链接(绝对): {'https://news.cnblogs.com/n/658007/'}\n",
      "标题: 支付宝若要击败美团，难度到底有多大？\n",
      "链接: {'/n/658006/'}\n",
      "链接(绝对): {'https://news.cnblogs.com/n/658006/'}\n",
      "标题: 追踪网赚游戏：是谁割了你，而你又割了谁？\n",
      "链接: {'/n/657964/'}\n",
      "链接(绝对): {'https://news.cnblogs.com/n/657964/'}\n",
      "标题: 成本480万的《三体》改编动画，如何做到9.9分？\n",
      "链接: {'/n/657962/'}\n",
      "链接(绝对): {'https://news.cnblogs.com/n/657962/'}\n",
      "标题: 互联网公司的灰色战争\n",
      "链接: {'/n/657960/'}\n",
      "链接(绝对): {'https://news.cnblogs.com/n/657960/'}\n",
      "标题: 图灵奖背后：一个奥斯卡拿到手软，一个公司卖了160亿\n",
      "链接: {'/n/657944/'}\n",
      "链接(绝对): {'https://news.cnblogs.com/n/657944/'}\n",
      "标题: 一个叫“郭红”的人 炮制了朋友圈所有的“世界失控”\n",
      "链接: {'/n/657930/'}\n",
      "链接(绝对): {'https://news.cnblogs.com/n/657930/'}\n",
      "标题: .NET 5 Preview 1 发布\n",
      "链接: {'/n/657924/'}\n",
      "链接(绝对): {'https://news.cnblogs.com/n/657924/'}\n",
      "标题: 一堂司法网课和它的主讲老师为什么突然火了？\n",
      "链接: {'/n/657877/'}\n",
      "链接(绝对): {'https://news.cnblogs.com/n/657877/'}\n",
      "标题: 丑闻上身Soul：我本小师妹，怎么就活成了灭绝师太？\n",
      "链接: {'/n/657875/'}\n",
      "链接(绝对): {'https://news.cnblogs.com/n/657875/'}\n",
      "标题: GitHub移动应用正式上架 不可编辑代码，支持“社交”\n",
      "链接: {'/n/657863/'}\n",
      "链接(绝对): {'https://news.cnblogs.com/n/657863/'}\n",
      "标题: Visual Studio 2019 16.5 发布\n",
      "链接: {'/n/657861/'}\n",
      "链接(绝对): {'https://news.cnblogs.com/n/657861/'}\n",
      "标题: 雷军的贪婪时刻：两个月密集投资8家芯片公司\n",
      "链接: {'/n/657860/'}\n",
      "链接(绝对): {'https://news.cnblogs.com/n/657860/'}\n",
      "标题: 沸腾十年：不可逆转的国产替代潮\n",
      "链接: {'/n/657848/'}\n",
      "链接(绝对): {'https://news.cnblogs.com/n/657848/'}\n"
     ]
    }
   ],
   "source": [
    "# 00: 使用 \n",
    "from requests_html import HTMLSession\n",
    "\n",
    "# 01: 使用session 猜是給定url ()\n",
    "session = HTMLSession()\n",
    "r = session.get(\"https://news.cnblogs.com/n/recommend\")\n",
    "\n",
    "# 02: 使用.find ???? (CSS selector; r.html.find)\n",
    "# 通过CSS找到新闻标签\n",
    "news = r.html.find('h2.news_entry > a')\n",
    "\n",
    "# 03: 结果輸出\n",
    "for new in news:\n",
    "    print(\"标题:\", new.text)  # 获得新闻标题\n",
    "    print(\"链接:\", new.links)  # 获得新闻链接\n",
    "    print(\"链接(绝对):\", new.absolute_links)  # 获得新闻链接"
   ]
  },
  {
   "cell_type": "markdown",
   "metadata": {
    "slideshow": {
     "slide_type": "slide"
    }
   },
   "source": [
    "### 不是算Python的内容：HTML 之 xpath 与 selector\n",
    "\n",
    "接下来需要选择器selector抽取数据img，借用HTML的\"结构\"性(chrome要从页面选到结构，你懂的)，有两种可能，必记下来\n",
    "* xpath \n",
    "* CSS selector\n",
    "\n",
    "试第一个和另一个，看看有什麽规律 (侦探活)\n",
    "Chrome Console下使用Javascript\n",
    "* xpath: \n",
    "```$x(\"放这\")```\n",
    "\n",
    "* CSS: \n",
    "``` $(\"放这\") ```\n",
    "\n",
    "-----\n",
    "\n",
    "####  项目0.B liepin 工作"
   ]
  },
  {
   "cell_type": "code",
   "execution_count": 3,
   "metadata": {
    "slideshow": {
     "slide_type": "subslide"
    }
   },
   "outputs": [
    {
     "name": "stdout",
     "output_type": "stream",
     "text": [
      "工作 行政前台+工作稳定+氛围好+帅哥多\n",
      "工作 {'https://www.liepin.com/job/1926261155.shtml'}\n",
      "工作 气质有潜质的帅哥西服拍摄\n",
      "工作 {'https://www.liepin.com/job/1923662729.shtml'}\n",
      "工作 90帅哥美女团队销售8k\n",
      "工作 {'https://www.liepin.com/job/1923335419.shtml'}\n",
      "工作 90帅哥美女团队销售8k包吃住\n",
      "工作 {'https://www.liepin.com/job/1923355103.shtml'}\n",
      "工作 新房顾问 激情团队 帅哥美女 无责4.5K\n",
      "工作 {'https://www.liepin.com/job/1923751109.shtml'}\n",
      "工作 90帅哥美女团队销售8k不加班\n",
      "工作 {'https://www.liepin.com/job/1923408409.shtml'}\n",
      "工作 实习生（一群激情满满的帅哥美女）\n",
      "工作 {'https://www.liepin.com/job/1920487457.shtml'}\n",
      "工作 房产中介底薪4000+高抽成包住易上手工作时间自由\n",
      "工作 {'https://www.liepin.com/job/1926722713.shtml'}\n",
      "工作 ID设计师（偏渲染）\n",
      "工作 {'https://www.liepin.com/job/1926558919.shtml'}\n",
      "工作 遵义大客户销售经理\n",
      "工作 {'https://www.liepin.com/job/1926395105.shtml'}\n",
      "工作 贵阳大客户销售经理\n",
      "工作 {'https://www.liepin.com/job/1926395079.shtml'}\n",
      "工作 大理大客户销售经理\n",
      "工作 {'https://www.liepin.com/job/1926395065.shtml'}\n",
      "工作 昆明大客户销售经理\n",
      "工作 {'https://www.liepin.com/job/1926395043.shtml'}\n",
      "工作 桂林大客户销售经理\n",
      "工作 {'https://www.liepin.com/job/1926395033.shtml'}\n",
      "工作 南宁大客户销售经理\n",
      "工作 {'https://www.liepin.com/job/1926395021.shtml'}\n",
      "工作 株洲大客户销售经理\n",
      "工作 {'https://www.liepin.com/job/1926394995.shtml'}\n",
      "工作 衡阳大客户销售经理\n",
      "工作 {'https://www.liepin.com/job/1926394979.shtml'}\n",
      "工作 重庆大客户销售经理\n",
      "工作 {'https://www.liepin.com/job/1926394903.shtml'}\n",
      "工作 泸州大客户销售经理\n",
      "工作 {'https://www.liepin.com/job/1926394871.shtml'}\n",
      "工作 攀枝花大客户销售经理\n",
      "工作 {'https://www.liepin.com/job/1926394843.shtml'}\n",
      "工作 宜宾大客户销售经理\n",
      "工作 {'https://www.liepin.com/job/1926394829.shtml'}\n",
      "工作 自贡大客户销售经理\n",
      "工作 {'https://www.liepin.com/job/1926394807.shtml'}\n",
      "工作 成都大客户销售经理\n",
      "工作 {'https://www.liepin.com/job/1926394785.shtml'}\n",
      "工作 珠海大客户销售经理\n",
      "工作 {'https://www.liepin.com/job/1926394767.shtml'}\n",
      "工作 惠州大客户销售经理\n",
      "工作 {'https://www.liepin.com/job/1926394723.shtml'}\n",
      "工作 揭阳大客户销售经理\n",
      "工作 {'https://www.liepin.com/job/1926394697.shtml'}\n",
      "工作 佛山大客户销售经理\n",
      "工作 {'https://www.liepin.com/job/1926394617.shtml'}\n",
      "工作 高级课程运营经理\n",
      "工作 {'https://www.liepin.com/job/1925956531.shtml'}\n",
      "工作 无线产品经理\n",
      "工作 {'https://www.liepin.com/job/1925736371.shtml'}\n",
      "工作 新媒体运营（短视频）\n",
      "工作 {'https://www.liepin.com/job/1925497753.shtml'}\n",
      "工作 外贸销售主管\n",
      "工作 {'https://www.liepin.com/job/1925460363.shtml'}\n",
      "工作 产品经理/物联网产品经理/无线数传产品线经理\n",
      "工作 {'https://www.liepin.com/job/1925313789.shtml'}\n",
      "工作 自主创业平台乐有家销售管理\n",
      "工作 {'https://www.liepin.com/job/1924354333.shtml'}\n",
      "工作 渠道销售业务员（年后入职)\n",
      "工作 {'https://www.liepin.com/job/1924184511.shtml'}\n",
      "工作 外贸SEO优化专员\n",
      "工作 {'https://www.liepin.com/job/1921623363.shtml'}\n",
      "工作 外贸平台运营\n",
      "工作 {'https://www.liepin.com/job/1921623261.shtml'}\n",
      "工作 英语外贸业务员\n",
      "工作 {'https://www.liepin.com/job/1921623101.shtml'}\n",
      "工作 硬件layout工程师\n",
      "工作 {'https://www.liepin.com/job/1921169827.shtml'}\n",
      "工作 外贸业务员/外贸销售\n",
      "工作 {'https://www.liepin.com/job/1920415875.shtml'}\n",
      "工作 销售主管\n",
      "工作 {'https://www.liepin.com/job/1920415451.shtml'}\n"
     ]
    }
   ],
   "source": [
    "from requests_html import HTMLSession\n",
    "\n",
    "session = HTMLSession()\n",
    "\n",
    "r = session.get(\"https://www.liepin.com/zhaopin/?key=帅哥\")\n",
    "\n",
    "# 通过xpath找到工作标签\n",
    "news = r.html.xpath('//div[@class=\"job-info\"]/h3/a')\n",
    "#             以下所有^^   [@attribute]條件  \n",
    "\n",
    "for new in news:\n",
    "    print(\"工作\",new.text)  # 获得工作标题\n",
    "    print(\"工作\",new.absolute_links)  # 获得工作链接"
   ]
  },
  {
   "cell_type": "markdown",
   "metadata": {
    "slideshow": {
     "slide_type": "subslide"
    }
   },
   "source": [
    "####  展示图\n",
    "* Jupyter 可用的魔法之一 IPython 展示模块, HTML转码"
   ]
  },
  {
   "cell_type": "code",
   "execution_count": 3,
   "metadata": {
    "slideshow": {
     "slide_type": "fragment"
    }
   },
   "outputs": [
    {
     "data": {
      "text/html": [
       "<img src=\"https://httpstatusdogs.com/img/418.jpg\" alt=\"\">"
      ],
      "text/plain": [
       "<IPython.core.display.HTML object>"
      ]
     },
     "metadata": {},
     "output_type": "display_data"
    }
   ],
   "source": [
    "from IPython.core.display import display, HTML\n",
    "display(HTML('<img src=\"https://httpstatusdogs.com/img/418.jpg\" alt=\"\">'))"
   ]
  },
  {
   "cell_type": "markdown",
   "metadata": {
    "slideshow": {
     "slide_type": "slide"
    }
   },
   "source": [
    "####  展示图\n",
    "* Jupyter 可用的魔法之一 IPython 展示模块, HTML转码"
   ]
  },
  {
   "cell_type": "code",
   "execution_count": 12,
   "metadata": {
    "slideshow": {
     "slide_type": "fragment"
    }
   },
   "outputs": [
    {
     "data": {
      "text/markdown": [
       "![](https://httpstatusdogs.com/img/418.jpg)"
      ],
      "text/plain": [
       "<IPython.core.display.Markdown object>"
      ]
     },
     "metadata": {},
     "output_type": "display_data"
    }
   ],
   "source": [
    "from IPython.core.display import display, Markdown\n",
    "display(Markdown('![](https://httpstatusdogs.com/img/418.jpg)'))"
   ]
  },
  {
   "cell_type": "markdown",
   "metadata": {
    "slideshow": {
     "slide_type": "slide"
    }
   },
   "source": [
    "### 抓抓图片?\n",
    "[图片新闻_Bing](http://www.gov.cn/xinwen/tupian/index.htm)\n",
    "\n",
    "####  项目0.C 图片新闻"
   ]
  },
  {
   "cell_type": "code",
   "execution_count": 19,
   "metadata": {
    "slideshow": {
     "slide_type": "fragment"
    }
   },
   "outputs": [
    {
     "name": "stdout",
     "output_type": "stream",
     "text": [
      "http://h1.ioliu.cn/bing/LenticularVideo_ZH-CN2275732856_640x480.jpg?imageslim\n"
     ]
    },
    {
     "data": {
      "text/markdown": [
       "![](http://h1.ioliu.cn/bing/LenticularVideo_ZH-CN2275732856_640x480.jpg?imageslim)"
      ],
      "text/plain": [
       "<IPython.core.display.Markdown object>"
      ]
     },
     "metadata": {},
     "output_type": "display_data"
    },
    {
     "name": "stdout",
     "output_type": "stream",
     "text": [
      "http://h1.ioliu.cn/bing/StepWell_ZH-CN1542251750_640x480.jpg?imageslim\n"
     ]
    },
    {
     "data": {
      "text/markdown": [
       "![](http://h1.ioliu.cn/bing/StepWell_ZH-CN1542251750_640x480.jpg?imageslim)"
      ],
      "text/plain": [
       "<IPython.core.display.Markdown object>"
      ]
     },
     "metadata": {},
     "output_type": "display_data"
    },
    {
     "name": "stdout",
     "output_type": "stream",
     "text": [
      "http://h1.ioliu.cn/bing/LoughriggTarn_ZH-CN1404327665_640x480.jpg?imageslim\n"
     ]
    },
    {
     "data": {
      "text/markdown": [
       "![](http://h1.ioliu.cn/bing/LoughriggTarn_ZH-CN1404327665_640x480.jpg?imageslim)"
      ],
      "text/plain": [
       "<IPython.core.display.Markdown object>"
      ]
     },
     "metadata": {},
     "output_type": "display_data"
    },
    {
     "name": "stdout",
     "output_type": "stream",
     "text": [
      "http://h1.ioliu.cn/bing/SaltonSea_ZH-CN1265210111_640x480.jpg?imageslim\n"
     ]
    },
    {
     "data": {
      "text/markdown": [
       "![](http://h1.ioliu.cn/bing/SaltonSea_ZH-CN1265210111_640x480.jpg?imageslim)"
      ],
      "text/plain": [
       "<IPython.core.display.Markdown object>"
      ]
     },
     "metadata": {},
     "output_type": "display_data"
    },
    {
     "name": "stdout",
     "output_type": "stream",
     "text": [
      "http://h1.ioliu.cn/bing/EquinoxAngkor_ZH-CN1157590532_640x480.jpg?imageslim\n"
     ]
    },
    {
     "data": {
      "text/markdown": [
       "![](http://h1.ioliu.cn/bing/EquinoxAngkor_ZH-CN1157590532_640x480.jpg?imageslim)"
      ],
      "text/plain": [
       "<IPython.core.display.Markdown object>"
      ]
     },
     "metadata": {},
     "output_type": "display_data"
    },
    {
     "name": "stdout",
     "output_type": "stream",
     "text": [
      "http://h1.ioliu.cn/bing/KeichitsuCrocuse_ZH-CN1061292366_640x480.jpg?imageslim\n"
     ]
    },
    {
     "data": {
      "text/markdown": [
       "![](http://h1.ioliu.cn/bing/KeichitsuCrocuse_ZH-CN1061292366_640x480.jpg?imageslim)"
      ],
      "text/plain": [
       "<IPython.core.display.Markdown object>"
      ]
     },
     "metadata": {},
     "output_type": "display_data"
    },
    {
     "name": "stdout",
     "output_type": "stream",
     "text": [
      "http://h1.ioliu.cn/bing/Knowth_ZH-CN0295374506_640x480.jpg?imageslim\n"
     ]
    },
    {
     "data": {
      "text/markdown": [
       "![](http://h1.ioliu.cn/bing/Knowth_ZH-CN0295374506_640x480.jpg?imageslim)"
      ],
      "text/plain": [
       "<IPython.core.display.Markdown object>"
      ]
     },
     "metadata": {},
     "output_type": "display_data"
    },
    {
     "name": "stdout",
     "output_type": "stream",
     "text": [
      "http://h1.ioliu.cn/bing/YukonGames_ZH-CN0135612170_640x480.jpg?imageslim\n"
     ]
    },
    {
     "data": {
      "text/markdown": [
       "![](http://h1.ioliu.cn/bing/YukonGames_ZH-CN0135612170_640x480.jpg?imageslim)"
      ],
      "text/plain": [
       "<IPython.core.display.Markdown object>"
      ]
     },
     "metadata": {},
     "output_type": "display_data"
    },
    {
     "name": "stdout",
     "output_type": "stream",
     "text": [
      "http://h1.ioliu.cn/bing/MetamorphicRocks_ZH-CN9753251368_640x480.jpg?imageslim\n"
     ]
    },
    {
     "data": {
      "text/markdown": [
       "![](http://h1.ioliu.cn/bing/MetamorphicRocks_ZH-CN9753251368_640x480.jpg?imageslim)"
      ],
      "text/plain": [
       "<IPython.core.display.Markdown object>"
      ]
     },
     "metadata": {},
     "output_type": "display_data"
    },
    {
     "name": "stdout",
     "output_type": "stream",
     "text": [
      "http://h1.ioliu.cn/bing/Cirkelbroen_ZH-CN9645986135_640x480.jpg?imageslim\n"
     ]
    },
    {
     "data": {
      "text/markdown": [
       "![](http://h1.ioliu.cn/bing/Cirkelbroen_ZH-CN9645986135_640x480.jpg?imageslim)"
      ],
      "text/plain": [
       "<IPython.core.display.Markdown object>"
      ]
     },
     "metadata": {},
     "output_type": "display_data"
    },
    {
     "name": "stdout",
     "output_type": "stream",
     "text": [
      "http://h1.ioliu.cn/bing/FrenchColorado_ZH-CN9446885520_640x480.jpg?imageslim\n"
     ]
    },
    {
     "data": {
      "text/markdown": [
       "![](http://h1.ioliu.cn/bing/FrenchColorado_ZH-CN9446885520_640x480.jpg?imageslim)"
      ],
      "text/plain": [
       "<IPython.core.display.Markdown object>"
      ]
     },
     "metadata": {},
     "output_type": "display_data"
    },
    {
     "name": "stdout",
     "output_type": "stream",
     "text": [
      "http://h1.ioliu.cn/bing/SiestaKey_ZH-CN1759696989_640x480.jpg?imageslim\n"
     ]
    },
    {
     "data": {
      "text/markdown": [
       "![](http://h1.ioliu.cn/bing/SiestaKey_ZH-CN1759696989_640x480.jpg?imageslim)"
      ],
      "text/plain": [
       "<IPython.core.display.Markdown object>"
      ]
     },
     "metadata": {},
     "output_type": "display_data"
    }
   ],
   "source": [
    "from requests_html import HTMLSession\n",
    "\n",
    "session = HTMLSession()\n",
    "\n",
    "r = session.get(\"https://bing.ioliu.cn/\")\n",
    "\n",
    "# 通过xpath找到图片标签\n",
    "items = r.html.xpath('//img/@src')\n",
    "\n",
    "for url in items:\n",
    "    print(url)  # 获得图片src url\n",
    "    display(Markdown('![]({url})'.format(url=url)))  # 展示图片    "
   ]
  },
  {
   "cell_type": "markdown",
   "metadata": {
    "slideshow": {
     "slide_type": "slide"
    }
   },
   "source": [
    "\n",
    "## 总结你学到什麽新东西？\n",
    "* A\n",
    "* B\n",
    "* C\n",
    "\n",
    "\n",
    "## 总结你想会做什麽？\n",
    "* A\n",
    "* B\n",
    "* C\n"
   ]
  },
  {
   "cell_type": "markdown",
   "metadata": {
    "slideshow": {
     "slide_type": "fragment"
    }
   },
   "source": [
    "---\n",
    "结束\n",
    "# 小结 😍😲😙🤭😱"
   ]
  },
  {
   "cell_type": "code",
   "execution_count": 6,
   "metadata": {},
   "outputs": [],
   "source": [
    "from requests_html import HTMLSession\n",
    "#启动\n",
    "session = HTMLSession()\n",
    "#获取\n",
    "jd= session.get('https://www.jd.com/')\n",
    "\n",
    "# 获取网页内的所有链接\n",
    "link_list = jd.html.links\n",
    "# 获取页面上所欲偶的链接，以绝对路径的方式\n",
    "ab_link_list = jd.html.absolute_links"
   ]
  },
  {
   "cell_type": "code",
   "execution_count": 7,
   "metadata": {},
   "outputs": [
    {
     "name": "stdout",
     "output_type": "stream",
     "text": [
      "￥9499.00\n",
      "联想ThinkPad\n",
      "X1\n",
      "Carbon 2019（20CD）英特尔酷睿i5 14英寸轻薄笔记本电脑（i5-8265U 8G 512GSSD FHD）黑 【加35元即可换购无线鼠标】商品加入购物车，查看商品上方“换购”，PC端点击“换购商品”，APP端点击“去换购”即可参与！无线鼠标E3黑红双色可换壳\n",
      "二手有售\n",
      "ThinkPad京东自营旗舰店\n",
      "自营 满赠\n",
      "对比 关注 加入购物车\n",
      "￥9999.00\n",
      "联想ThinkPad\n",
      "X1\n",
      "Carbon 2019（01CD）英特尔酷睿i5 14英寸轻薄笔记本电脑(i5-10210U 8G 512GSSD FHD)黑 【加35元即可换购无线鼠标】商品加入购物车，查看商品上方“换购”，PC端点击“换购商品”，APP端点击“去换购”即可参与！无线鼠标E3黑红双色可换壳\n",
      "二手有售\n",
      "ThinkPad京东自营旗舰店\n",
      "自营 赠\n",
      "对比 关注 加入购物车\n",
      "￥16499.00\n",
      "联想ThinkPad\n",
      "X1\n",
      "隐士 英特尔酷睿i7 15.6英寸创意设计笔记本电脑(i7-9750H 16G 1TSSD GTX1650 Max-Q独显 4K) 【加35元即可换购无线鼠标】商品加入购物车，查看商品上方“换购”，PC端点击“换购商品”，APP端点击“去换购”即可参与！无线鼠标E3黑红双色可换壳\n",
      "ThinkPad京东自营旗舰店\n",
      "自营 满赠\n",
      "对比 关注 加入购物车\n",
      "￥\n",
      "联想ThinkPad\n",
      "X1\n",
      "Carbon 2019（04CD）英特尔酷睿i7 14英寸轻薄笔记本电脑(i7-10710U 16G 1TSSD WQHD)4G版 【3月23日16点起限量秒杀低至15799元！抢完即止】【加35元即可换购无线鼠标】加入购物车，查看商品上方“换购”，APP端点击去换购即可参与！无线鼠标E3\n",
      "二手有售\n",
      "ThinkPad京东自营旗舰店\n",
      "自营 赠\n",
      "对比 关注 参与抢购\n",
      "￥10999.00\n",
      "联想ThinkPad\n",
      "X1\n",
      "Carbon 2019（10CD）英特尔酷睿i7 14英寸笔记本电脑（i7-8565U 8G 512G傲腾增强型SSD）黑 【加35元即可换购无线鼠标】商品加入购物车，查看商品上方“换购”，PC端点击“换购商品”，APP端点击“去换购”即可参与！无线鼠标E3黑红双色可换壳\n",
      "ThinkPad京东自营旗舰店\n",
      "自营 满赠\n",
      "对比 关注 加入购物车\n",
      "￥7999.00\n",
      "联想ThinkPad\n",
      "X1\n",
      "Carbon 2018（02JCD）14英寸商务办公笔记本手提电脑轻薄本 【支持Win7系统】i5-7300U FHD高清屏 【官方标配】8G内存 256G固态硬盘 轻至约1.13KG，薄至约15.95毫米，经典i5-7300u/8GB内存/256GB固态硬盘/FHD高清屏/指纹识别，时尚背光键盘！点击查看十代新品\n",
      "ThinkPad定制版专卖店\n",
      "京东物流 免邮 赠\n",
      "对比 关注 加入购物车\n",
      "￥12999.00\n",
      "联想ThinkPad\n",
      "X1\n",
      "Carbon 2019（2BCD）英特尔酷睿i7 14英寸轻薄笔记本电脑（i7-8565U 8G 512GSSD WQHD）黑 【加35元即可换购无线鼠标】商品加入购物车，查看商品上方“换购”，PC端点击“换购商品”，APP端点击“去换购”即可参与！无线鼠标E3黑红双色可换壳\n",
      "ThinkPad京东自营旗舰店\n",
      "自营 满赠\n",
      "对比 关注 加入购物车\n",
      "￥9878.00\n",
      "联想ThinkPad\n",
      "X1\n",
      "Carbon 2019 英特尔酷睿i5/i7 14英寸轻薄商务笔记本电脑 i5-10210U 8G 512G固态 06CD X1-Carbon,2019款-新品上市，高端商务，碳纤维机身，轻至1.09Kg，薄至14.95mm\n",
      "ThinkPad京东官方自营旗舰店\n",
      "自营 赠\n",
      "对比 关注 加入购物车\n",
      "￥10299.00\n",
      "联想ThinkPad\n",
      "X1\n",
      "Carbon 2019（03CD）英特尔酷睿i5 14英寸轻薄笔记本电脑(i5-10210U 8G 512GSSD FHD)4G版 【加35元即可换购无线鼠标】商品加入购物车，查看商品上方“换购”，PC端点击“换购商品”，APP端点击“去换购”即可参与！无线鼠标E3黑红双色可换壳\n",
      "ThinkPad京东自营旗舰店\n",
      "自营 赠\n",
      "对比 关注 加入购物车\n",
      "￥13999.00\n",
      "联想ThinkPad\n",
      "X1\n",
      "Carbon 2019（05CD）英特尔酷睿i7 14英寸轻薄笔记本电脑(i7-10710U 16G 512SSD FHD)4G版 【加35元即可换购无线鼠标】商品加入购物车，查看商品上方“换购”，PC端点击“换购商品”，APP端点击“去换购”即可参与！无线鼠标E3黑红双色可换壳\n",
      "二手有售\n",
      "ThinkPad京东自营旗舰店\n",
      "自营 赠\n",
      "对比 关注 加入购物车\n",
      "￥17999.00\n",
      "联想ThinkPad\n",
      "X1\n",
      "Carbon 2019（04CD）英特尔酷睿i7 14英寸轻薄笔记本电脑(i7-10710U 16G 1TSSD 4K)4G版 【加35元即可换购无线鼠标】商品加入购物车，查看商品上方“换购”，PC端点击“换购商品”，APP端点击“去换购”即可参与！无线鼠标E3黑红双色可换壳\n",
      "ThinkPad京东自营旗舰店\n",
      "自营 赠\n",
      "对比 关注 加入购物车\n",
      "￥7699.00\n",
      "联想 ThinkPad\n",
      "X1\n",
      "Carbon 2019 14英寸轻薄便携商务办公游戏手提笔记本电脑 I5-7300U 8G 256G 专业版@2JCD 3月23日-25日，京东嗨翻购！！店铺产品爆款直降，全场享白条免息，翼E480-I3处理器，8G内存，256G固态，低至2999，还在等什么，速戳》》》\n",
      "ThinkPad华东授权专卖店\n",
      "免邮 赠\n",
      "对比 关注 加入购物车\n",
      "￥19999.00\n",
      "联想ThinkPad\n",
      "X1\n",
      "隐士 英特尔酷睿i9 15.6英寸创意设计笔记本电脑(i9-9880H 16G 1TSSD GTX1650 Max-Q独显 4K) 【加35元即可换购无线鼠标】商品加入购物车，查看商品上方“换购”，PC端点击“换购商品”，APP端点击“去换购”即可参与！无线鼠标E3黑红双色可换壳\n",
      "ThinkPad京东自营旗舰店\n",
      "自营 满赠\n",
      "对比 关注 加入购物车\n",
      "￥14999.00\n",
      "联想ThinkPad\n",
      "X1\n",
      "Yoga 2019（07CD）英特尔酷睿i7 14英寸翻转触控笔记本电脑(i7-8565U 16G 512GSSD WQHD)灰 【加35元即可换购无线鼠标】商品加入购物车，查看商品上方“换购”，PC端点击“换购商品”，APP端点击“去换购”即可参与！无线鼠标E3黑红双色可换壳\n",
      "ThinkPad京东自营旗舰店\n",
      "自营 满赠\n",
      "对比 关注 加入购物车\n",
      "￥16999.00\n",
      "联想ThinkPad\n",
      "X1\n",
      "Yoga 2019（0BCD）英特尔酷睿i7 14英寸翻转触控笔记本电脑(i7-10710U 16G 1TSSD WQHD)灰 【加35元即可换购无线鼠标】商品加入购物车，查看商品上方“换购”，PC端点击“换购商品”，APP端点击“去换购”即可参与！无线鼠标E3黑红双色可换壳\n",
      "ThinkPad京东自营旗舰店\n",
      "自营 满赠\n",
      "对比 关注 加入购物车\n",
      "￥19999.00\n",
      "联想ThinkPad\n",
      "X1\n",
      "Carbon 2019（03CD）英特尔酷睿i7 14英寸轻薄笔记本电脑(i7-10710U 16G 2TSSD 4K)4G版 【加35元即可换购无线鼠标】商品加入购物车，查看商品上方“换购”，PC端点击“换购商品”，APP端点击“去换购”即可参与！无线鼠标E3黑红双色可换壳\n",
      "二手有售\n",
      "ThinkPad京东自营旗舰店\n",
      "自营 赠\n",
      "对比 关注 加入购物车\n",
      "￥9699.00\n",
      "联想ThinkPad\n",
      "X1\n",
      "Carbon 2019款 14英寸轻薄商务办公笔记本电脑 01CD@i5-10210u 8G 512G固态 IPS屏 背光键盘 Win10系统 【咨询客服有礼】可选8代/10代处理器，超轻薄商务本，碳纤维机身，背光键盘，轻约1.09Kg,薄至14.95mm，抢购X1-yoga-i5处理器仅售10999\n",
      "ThinkPad北京授权专卖店\n",
      "京东物流 放心购 免邮 赠\n",
      "对比 关注 加入购物车\n",
      "￥17999.00\n",
      "联想ThinkPad\n",
      "X1\n",
      "Yoga 2019（08CD）英特尔酷睿i7 14英寸翻转触控笔记本电脑（i7-8565U 16G 1TSSD 4K）灰 【加35元即可换购无线鼠标】商品加入购物车，查看商品上方“换购”，PC端点击“换购商品”，APP端点击“去换购”即可参与！无线鼠标E3黑红双色可换壳\n",
      "ThinkPad京东自营旗舰店\n",
      "自营 满赠\n",
      "对比 关注 加入购物车\n",
      "￥9699.00\n",
      "联想ThinkPad\n",
      "X1\n",
      "Carbon 14英寸轻薄窄边框笔记本电脑 i5-10210u/8G/512/FHD@01CD 正版windows10/正版office/背光键盘 【咨询有礼】碳钎维A面，薄至：14.95mm，轻至：1.09kg，窄边框设计，双通道散热，高效稳定，4G版赠送一年流量包>选10代6核处理器\n",
      "ThinkPad上海授权专卖店\n",
      "京东物流 放心购 免邮 赠\n",
      "对比 关注 加入购物车\n",
      "￥14999.00\n",
      "联想ThinkPad\n",
      "X1\n",
      "隐士 英特尔酷睿i7 15.6英寸创意设计笔记本电脑(i7-9750H 16G 512GSSD GTX1650 Max-Q独显) 【加35元即可换购无线鼠标】商品加入购物车，查看商品上方“换购”，PC端点击“换购商品”，APP端点击“去换购”即可参与！无线鼠标E3黑红双色可换壳\n",
      "ThinkPad京东自营旗舰店\n",
      "自营 满赠\n",
      "对比 关注 加入购物车\n",
      "￥14499.00\n",
      "联想ThinkPad\n",
      "X1\n",
      "Carbon 2019款 14英寸轻薄商务办公笔记本电脑 02CD@i7-10710u 16G 512G2K IPS屏 背光键盘 Win10系统 【咨询客服有礼】可选8代/10代处理器，超轻薄商务本，碳纤维机身，背光键盘，轻约1.09Kg,薄至14.95mm，抢购X1-yoga-i5处理器仅售10999\n",
      "ThinkPad北京授权专卖店\n",
      "京东物流 放心购 免邮 赠\n",
      "对比 关注 加入购物车\n",
      "￥8466.00\n",
      "联想ThinkPad\n",
      "X1\n",
      "Carbon 2019款 14英寸轻薄商务办公笔记本电脑 1YCD@i5-8265u 8G 256G FHD IPS屏 背光键盘 Win10系统 【咨询客服有礼】可选8代/10代处理器，超轻薄商务本，碳纤维机身，背光键盘，轻约1.09Kg,薄至14.95mm，抢购X1-yoga-i5处理器仅售10999\n",
      "ThinkPad北京授权专卖店\n",
      "京东物流 放心购 免邮 赠\n",
      "对比 关注 加入购物车\n",
      "￥9699.00\n",
      "【十代酷睿新品】ThinkPad\n",
      "X1\n",
      "Carbon i5/i7 14英寸超轻薄商务办公笔记本电脑 01CD@i5-10210U 8G 512GB固态 【官方标配】背光键盘 指纹识别 Win10 此商品将于2020-03-24,00点参加闪购特卖，ThinkPad电脑专场\n",
      "ThinkPad定制版专卖店\n",
      "京东物流 免邮 赠\n",
      "对比 关注 加入购物车\n",
      "￥15999.00\n",
      "联想ThinkPad\n",
      "X1\n",
      "Yoga 2019（09CD）英特尔酷睿i7 14英寸翻转触控笔记本电脑(i7-10710U 16G 512GSSD WQHD)灰 【加35元即可换购无线鼠标】商品加入购物车，查看商品上方“换购”，PC端点击“换购商品”，APP端点击“去换购”即可参与！无线鼠标E3黑红双色可换壳\n",
      "ThinkPad京东自营旗舰店\n",
      "自营 满赠\n",
      "对比 关注 加入购物车\n",
      "￥19999.00\n",
      "联想ThinkPad\n",
      "X1\n",
      "Yoga 2019（09CD）英特尔酷睿i7 14英寸翻转触控笔记本电脑（i7-8565U 16G 2TSSD 4K）灰 【加35元即可换购无线鼠标】商品加入购物车，查看商品上方“换购”，PC端点击“换购商品”，APP端点击“去换购”即可参与！无线鼠标E3黑红双色可换壳\n",
      "ThinkPad京东自营旗舰店\n",
      "自营 满赠\n",
      "对比 关注 加入购物车\n",
      "￥11499.00\n",
      "联想ThinkPad\n",
      "X1\n",
      "Carbon 2019款 14英寸轻薄商务办公笔记本电脑 2BCD@i7-8565u 8GB 512G 2K IPS屏 背光键盘 Win10系统 【咨询客服有礼】可选8代/10代处理器，超轻薄商务本，碳纤维机身，背光键盘，轻约1.09Kg,薄至14.95mm，抢购X1-yoga-i5处理器仅售10999\n",
      "ThinkPad北京授权专卖店\n",
      "京东物流 放心购 免邮 赠\n",
      "对比 关注 加入购物车\n",
      "￥8366.00\n",
      "联想ThinkPad\n",
      "X1\n",
      "Carbon 2019款 14英寸轻薄商务办公笔记本电脑 1YCD@I5-8265u 8G 256G FHD IPS屏 背光键盘 Win10系统 【咨询客服有礼】可选8代/10代处理器，超轻薄商务本，碳纤维机身，背光键盘，轻约1.09Kg,薄至14.95mm，抢购X1-yoga-i5处理器仅售10999\n",
      "ThinkPad北京授权专卖店\n",
      "放心购 免邮\n",
      "对比 关注 加入购物车\n",
      "￥9999.00\n",
      "联想ThinkPad\n",
      "X1\n",
      "Carbon 14英寸轻薄窄边框笔记本电脑 i5-10210u/8G/512/4G版@03CD 正版windows10/正版office/背光键盘 【咨询有礼】碳钎维A面，薄至：14.95mm，轻至：1.09kg，窄边框设计，双通道散热，高效稳定，4G版赠送一年流量包>选10代6核处理器\n",
      "ThinkPad上海授权专卖店\n",
      "放心购 免邮 赠\n",
      "对比 关注 加入购物车\n",
      "￥7999.00\n",
      "ThinkPad\n",
      "X1\n",
      "Carbon 2018（2JCD）14英寸轻薄便携商务办公手提笔记本电脑i5 FHD Win10专业版 背光键盘 指纹识别 官方标配（8G内存 256G固态硬盘） 此商品将于2020-03-24,00点参加闪购特卖，ThinkPad电脑专场\n",
      "ThinkPad定制版专卖店\n",
      "京东物流 免邮 赠\n",
      "对比 关注 加入购物车\n",
      "￥9499.00\n",
      "联想ThinkPad\n",
      "X1\n",
      "Carbon 2019（1YCD）英特尔酷睿i5 14英寸轻薄笔记本电脑（i5-8265U 8G 256GSSD FHD）黑 【加35元即可换购无线鼠标】商品加入购物车，查看商品上方“换购”，PC端点击“换购商品”，APP端点击“去换购”即可参与！无线鼠标E3黑红双色可换壳\n",
      "二手有售\n",
      "ThinkPad京东自营旗舰店\n",
      "自营 满赠\n",
      "对比 关注 加入购物车\n"
     ]
    }
   ],
   "source": [
    "from requests_html import HTMLSession\n",
    "\n",
    "\n",
    "session = HTMLSession()\n",
    "r = session.get('https://search.jd.com/Search?keyword=x1&enc=utf-8&wq=x1&pvid=add52cb63f7e4887b5ba29406a5756ba')\n",
    "link_list = r.html.find('.gl-item')\n",
    "for i in link_list:\n",
    "    print(i.text)"
   ]
  },
  {
   "cell_type": "code",
   "execution_count": null,
   "metadata": {},
   "outputs": [],
   "source": []
  }
 ],
 "metadata": {
  "kernelspec": {
   "display_name": "Python 3",
   "language": "python",
   "name": "python3"
  },
  "language_info": {
   "codemirror_mode": {
    "name": "ipython",
    "version": 3
   },
   "file_extension": ".py",
   "mimetype": "text/x-python",
   "name": "python",
   "nbconvert_exporter": "python",
   "pygments_lexer": "ipython3",
   "version": "3.7.6"
  }
 },
 "nbformat": 4,
 "nbformat_minor": 2
}
